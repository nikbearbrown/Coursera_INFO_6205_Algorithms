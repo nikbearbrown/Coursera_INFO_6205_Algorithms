{
 "cells": [
  {
   "cell_type": "markdown",
   "id": "20dd5272",
   "metadata": {},
   "source": [
    "# Assignment: Help Beary Optimize Potion Mixing in the Alchemist's Lab"
   ]
  },
  {
   "cell_type": "markdown",
   "id": "fae9d4c2",
   "metadata": {},
   "source": [
    "#### Difficulty: Medium"
   ]
  },
  {
   "cell_type": "markdown",
   "id": "1d4abd1b",
   "metadata": {},
   "source": [
    "\n",
    "### Scenario:\n",
    "\n",
    "Beary finds himself in an ancient alchemist's lab, where he has access to magical ingredients needed to create a powerful healing potion. Each ingredient has an initial probability of success based on past experience. However, after discovering the alchemist's hidden notes, Beary learns that interactions between the ingredients could improve or reduce their success rate. \n",
    "\n",
    "Beary needs to combine these ingredients optimally by using **Bayesian inference** to update the initial success probabilities for each ingredient based on the new evidence from the alchemist's notes. Your task is to help Beary by implementing the function `optimize_potion(ingredients, evidence)`.\n",
    "        "
   ]
  },
  {
   "cell_type": "markdown",
   "id": "e1bbb5ac",
   "metadata": {},
   "source": [
    "\n",
    "### Instructions:\n",
    "\n",
    "1. **Objective:**\n",
    "   - Implement Bayesian inference to update the success probabilities of ingredients used in the potion.\n",
    "   \n",
    "2. **Function Signature:**\n",
    "\n",
    "```python\n",
    "def optimize_potion(ingredients: List[float], evidence: List[float]) -> List[float]:\n",
    "    pass\n",
    "```\n",
    "\n",
    "3. **Input:**\n",
    "   - `ingredients`: A list of floats representing the initial success probabilities (priors) for each ingredient.\n",
    "   - `evidence`: A list of floats representing the likelihoods of success given new evidence for each ingredient.\n",
    "\n",
    "4. **Output:**\n",
    "   - A list of updated success probabilities (posteriors) for each ingredient, reflecting the new evidence.\n",
    "\n",
    "5. **Steps to Solve:**\n",
    "   - **Step 1**: Calculate the total evidence, which is the sum of the product of the priors and likelihoods for each ingredient.\n",
    "   - **Step 2**: Use **Bayes' Rule** to compute the updated (posterior) probability for each ingredient.\n",
    "   - **Step 3**: Return the list of updated success probabilities for all ingredients.\n",
    "        "
   ]
  },
  {
   "cell_type": "markdown",
   "id": "5ee42b71",
   "metadata": {},
   "source": [
    "\n",
    "### Bayes' Rule Formula:\n",
    "\n",
    "\\[\n",
    "P(A|B) = \f",
    "rac{P(B|A) \\cdot P(A)}{P(B)}\n",
    "\\]\n",
    "\n",
    "Where:\n",
    "- \\( P(A|B) \\) is the posterior probability (updated success probability).\n",
    "- \\( P(B|A) \\) is the likelihood (probability of the new evidence given the ingredient).\n",
    "- \\( P(A) \\) is the prior probability (initial success probability).\n",
    "- \\( P(B) \\) is the total evidence.\n",
    "        "
   ]
  },
  {
   "cell_type": "markdown",
   "id": "75031751",
   "metadata": {},
   "source": [
    "\n",
    "### Example:\n",
    "\n",
    "#### Example 1:\n",
    "**Input:**\n",
    "```python\n",
    "ingredients = [0.2, 0.5, 0.3]\n",
    "evidence = [0.8, 0.6, 0.4]\n",
    "```\n",
    "**Output:**\n",
    "```python\n",
    "[0.3076923076923077, 0.46153846153846156, 0.23076923076923075]\n",
    "```\n",
    "\n",
    "#### Example 2:\n",
    "**Input:**\n",
    "```python\n",
    "ingredients = [0.1, 0.4, 0.5]\n",
    "evidence = [0.7, 0.5, 0.6]\n",
    "```\n",
    "**Output:**\n",
    "```python\n",
    "[0.13793103448275862, 0.3448275862068966, 0.5172413793103449]\n",
    "```\n",
    "        "
   ]
  },
  {
   "cell_type": "markdown",
   "id": "82da29d5",
   "metadata": {},
   "source": [
    "\n",
    "### Function Implementation:\n",
    "\n",
    "You will need to implement the function `optimize_potion(ingredients, evidence)` using the following steps:\n",
    "\n",
    "1. **Calculate the Total Evidence:**\n",
    "   - The total evidence is the sum of the products of prior probabilities and likelihoods:\n",
    "   \\[\n",
    "   P(B) = \\sum (P(A) \\cdot P(B|A))\n",
    "   \\]\n",
    "\n",
    "2. **Update Each Probability Using Bayes' Rule:**\n",
    "   - For each ingredient, calculate the posterior probability:\n",
    "   \\[\n",
    "   P(A|B) = \f",
    "rac{P(B|A) \\cdot P(A)}{P(B)}\n",
    "   \\]\n",
    "        "
   ]
  },
  {
   "cell_type": "code",
   "execution_count": null,
   "id": "e86474b9",
   "metadata": {},
   "outputs": [],
   "source": [
    "\n",
    "from typing import List\n",
    "\n",
    "def optimize_potion(ingredients: List[float], evidence: List[float]) -> List[float]:\n",
    "    # Step 1: Calculate the total evidence\n",
    "    total_evidence = sum(p * l for p, l in zip(ingredients, evidence))\n",
    "    \n",
    "    # Step 2: Use Bayes' Rule to update each probability\n",
    "    updated_probabilities = [(l * p) / total_evidence for p, l in zip(ingredients, evidence)]\n",
    "    \n",
    "    return updated_probabilities\n",
    "        "
   ]
  },
  {
   "cell_type": "markdown",
   "id": "fa0cdb46",
   "metadata": {},
   "source": [
    "### Task Breakdown:"
   ]
  },
  {
   "cell_type": "markdown",
   "id": "aa91a983",
   "metadata": {},
   "source": [
    "\n",
    "1. **Implementation (50 points)**:\n",
    "   - Implement the `optimize_potion` function following the outlined steps.\n",
    "   \n",
    "2. **Test Cases (30 points)**:\n",
    "   - Write at least two additional test cases to verify your implementation, similar to the examples provided.\n",
    "   - Make sure the function works as expected and returns the correct updated probabilities.\n",
    "\n",
    "3. **Analysis (20 points)**:\n",
    "   - Explain the results of your test cases.\n",
    "   - Provide a brief explanation on how Bayesian inference helps optimize Beary's potion mixing, and why this method works well for updating probabilities.\n",
    "        "
   ]
  },
  {
   "cell_type": "markdown",
   "id": "04d2ec05",
   "metadata": {},
   "source": [
    "### Test Cases:"
   ]
  },
  {
   "cell_type": "code",
   "execution_count": null,
   "id": "b1b0aa7a",
   "metadata": {},
   "outputs": [],
   "source": [
    "\n",
    "# Test Case 1: Basic Ingredients\n",
    "ingredients1 = [0.2, 0.5, 0.3]\n",
    "evidence1 = [0.8, 0.6, 0.4]\n",
    "print(optimize_potion(ingredients1, evidence1))  \n",
    "# Expected output: [0.3076923076923077, 0.46153846153846156, 0.23076923076923075]\n",
    "\n",
    "# Test Case 2: Varying Ingredient Success Rates\n",
    "ingredients2 = [0.1, 0.4, 0.5]\n",
    "evidence2 = [0.7, 0.5, 0.6]\n",
    "print(optimize_potion(ingredients2, evidence2))  \n",
    "# Expected output: [0.13793103448275862, 0.3448275862068966, 0.5172413793103449]\n",
    "\n",
    "# Test Case 3: All Ingredients Have Equal Prior Probabilities\n",
    "ingredients3 = [0.25, 0.25, 0.25, 0.25]\n",
    "evidence3 = [0.6, 0.7, 0.8, 0.9]\n",
    "print(optimize_potion(ingredients3, evidence3))  \n",
    "# Expected output: [0.2040816326530612, 0.23809523809523808, 0.27210884353741494, 0.2857142857142857]\n",
    "        "
   ]
  },
  {
   "cell_type": "markdown",
   "id": "7e10049c",
   "metadata": {},
   "source": [
    "\n",
    "### Reflection Questions:\n",
    "\n",
    "1. **Why does Bayesian inference allow Beary to optimize his potion mixing?**\n",
    "2. **What are some real-world applications of Bayesian inference beyond potion mixing?**\n",
    "3. **How does the evidence influence the posterior probabilities of success for each ingredient?\n",
    "        "
   ]
  },
  {
   "cell_type": "markdown",
   "id": "fa162c2e",
   "metadata": {},
   "source": [
    "### Submission Instructions:"
   ]
  },
  {
   "cell_type": "markdown",
   "id": "f4bdafc6",
   "metadata": {},
   "source": [
    "\n",
    "Submit the following:\n",
    "- A Jupyter notebook that contains:\n",
    "  1. Your implementation of the `optimize_potion` function.\n",
    "  2. The output of the test cases, including at least two additional cases.\n",
    "  3. A brief analysis of your results.\n",
    "        "
   ]
  }
 ],
 "metadata": {
  "kernelspec": {
   "display_name": "Python 3 (ipykernel)",
   "language": "python",
   "name": "python3"
  },
  "language_info": {
   "codemirror_mode": {
    "name": "ipython",
    "version": 3
   },
   "file_extension": ".py",
   "mimetype": "text/x-python",
   "name": "python",
   "nbconvert_exporter": "python",
   "pygments_lexer": "ipython3",
   "version": "3.11.7"
  }
 },
 "nbformat": 4,
 "nbformat_minor": 5
}
