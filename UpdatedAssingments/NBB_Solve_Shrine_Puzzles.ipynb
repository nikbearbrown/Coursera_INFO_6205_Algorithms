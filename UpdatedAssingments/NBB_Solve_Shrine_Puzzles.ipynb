{
 "cells": [
  {
   "cell_type": "markdown",
   "id": "2616134e",
   "metadata": {},
   "source": [
    "# NBB_Solve Shrine Puzzles to Collect Celestial Keys"
   ]
  },
  {
   "cell_type": "markdown",
   "id": "54f99869",
   "metadata": {},
   "source": [
    "#### Difficulty: Hard"
   ]
  },
  {
   "cell_type": "markdown",
   "id": "5dd9658a",
   "metadata": {},
   "source": [
    "\n",
    "### Scenario:\n",
    "\n",
    "Beary is on a heroic quest to prevent an eternal winter from freezing the land. To succeed, he must collect the legendary **Celestial Keys** from ancient shrines. Each shrine is guarded by a puzzle that increases in difficulty. The more complex the puzzle, the more mentally taxing it becomes for Beary, and solving puzzles one after the other leads to increasing mental fatigue.\n",
    "\n",
    "Beary’s challenge is to determine the **optimal order** to solve the puzzles so that the total time spent is minimized. The key to success is implementing an efficient **divide and conquer strategy** to solve this problem.\n",
    "\n",
    "Your task is to implement the function `solve_puzzles(puzzles)` that determines the best order in which Beary should solve the puzzles to minimize the total time.\n",
    "        "
   ]
  },
  {
   "cell_type": "markdown",
   "id": "ff11a841",
   "metadata": {},
   "source": [
    "\n",
    "### Instructions:\n",
    "\n",
    "1. **Objective:**\n",
    "   - Implement a divide and conquer strategy to determine the optimal order for Beary to solve shrine puzzles, minimizing the total time spent.\n",
    "\n",
    "2. **Function Signature:**\n",
    "\n",
    "```python\n",
    "def solve_puzzles(puzzles: List[int]) -> int:\n",
    "    pass\n",
    "```\n",
    "\n",
    "3. **Input:**\n",
    "   - `puzzles`: A list of integers representing the complexities of the puzzles, where each complexity is a positive integer between 1 and 1000.\n",
    "\n",
    "4. **Output:**\n",
    "   - An integer representing the minimum total time Beary will spend solving all puzzles.\n",
    "\n",
    "5. **Constraints:**\n",
    "   - The length of the `puzzles` list will be at most 100.\n",
    "   - The values in `puzzles` will be between 1 and 1000.\n",
    "        "
   ]
  },
  {
   "cell_type": "markdown",
   "id": "90c8291c",
   "metadata": {},
   "source": [
    "### Approach"
   ]
  },
  {
   "cell_type": "markdown",
   "id": "2bf5600c",
   "metadata": {},
   "source": [
    "\n",
    "To solve this problem efficiently, you will need to implement a **divide and conquer strategy**. Here's a step-by-step approach:\n",
    "\n",
    "1. **Divide the Problem:**\n",
    "   - Split the list of puzzle complexities into smaller sublists.\n",
    "\n",
    "2. **Conquer:**\n",
    "   - Solve the subproblems (smaller puzzle lists) by recursively determining the best order to solve puzzles in each sublist.\n",
    "\n",
    "3. **Combine:**\n",
    "   - Merge the solutions of the subproblems to determine the overall minimum time spent solving all puzzles.\n",
    "\n",
    "4. **Optimize:**\n",
    "   - Sort the puzzles by complexity, solve them in increasing order, and accumulate the time spent solving each puzzle to minimize the total time Beary spends.\n",
    "        "
   ]
  },
  {
   "cell_type": "markdown",
   "id": "086d5469",
   "metadata": {},
   "source": [
    "### Task Breakdown:"
   ]
  },
  {
   "cell_type": "markdown",
   "id": "509bd718",
   "metadata": {},
   "source": [
    "\n",
    "1. **Implementation (50 points)**:\n",
    "   - Implement the `solve_puzzles` function using divide and conquer strategies.\n",
    "   - Ensure the function solves the problem efficiently, especially for larger lists of puzzle complexities.\n",
    "\n",
    "2. **Test Cases (30 points)**:\n",
    "   - Write at least two additional test cases beyond the provided ones.\n",
    "   - Ensure that the test cases cover a variety of puzzle complexities and input sizes, ranging from small to large lists.\n",
    "   - Analyze the results of each test case and explain why the total time is minimized.\n",
    "\n",
    "3. **Analysis (20 points)**:\n",
    "   - Explain how divide and conquer strategies helped solve the problem.\n",
    "   - Discuss why sorting the puzzles and solving them in increasing order of complexity works to minimize the total time.\n",
    "   - Reflect on the complexity of your solution and provide an estimate of its time complexity.\n",
    "        "
   ]
  },
  {
   "cell_type": "markdown",
   "id": "48fdffa4",
   "metadata": {},
   "source": [
    "### Example Walkthrough:"
   ]
  },
  {
   "cell_type": "markdown",
   "id": "ec0e1e7f",
   "metadata": {},
   "source": [
    "\n",
    "#### Example 1:\n",
    "\n",
    "**Input:**\n",
    "```python\n",
    "puzzles = [10, 20, 30]\n",
    "```\n",
    "\n",
    "- Beary solves the puzzles in increasing order of complexity: 10, 20, 30.\n",
    "- Cumulative time:\n",
    "  - After solving puzzle 1: 10 (time spent).\n",
    "  - After solving puzzle 2: 10 + 20 = 30 (total time so far).\n",
    "  - After solving puzzle 3: 30 + 30 = 60 (total time so far).\n",
    "  \n",
    "**Output:**\n",
    "```python\n",
    "60\n",
    "```\n",
    "\n",
    "#### Example 2:\n",
    "\n",
    "**Input:**\n",
    "```python\n",
    "puzzles = [5, 10, 15]\n",
    "```\n",
    "\n",
    "- Beary solves the puzzles in increasing order of complexity: 5, 10, 15.\n",
    "- Cumulative time:\n",
    "  - After solving puzzle 1: 5 (time spent).\n",
    "  - After solving puzzle 2: 5 + 10 = 15 (total time so far).\n",
    "  - After solving puzzle 3: 15 + 15 = 30 (total time so far).\n",
    "\n",
    "**Output:**\n",
    "```python\n",
    "30\n",
    "```\n",
    "        "
   ]
  },
  {
   "cell_type": "code",
   "execution_count": null,
   "id": "7b2658b1",
   "metadata": {},
   "outputs": [],
   "source": [
    "\n",
    "from typing import List\n",
    "\n",
    "def solve_puzzles(puzzles: List[int]) -> int:\n",
    "    # Sort the puzzles by their complexity in ascending order\n",
    "    puzzles.sort()\n",
    "    \n",
    "    total_time = 0\n",
    "    current_time = 0\n",
    "    \n",
    "    # Iterate through the sorted puzzles and calculate the cumulative time\n",
    "    for puzzle in puzzles:\n",
    "        current_time += puzzle\n",
    "        total_time += current_time\n",
    "    \n",
    "    return total_time\n",
    "        "
   ]
  },
  {
   "cell_type": "markdown",
   "id": "2304cab7",
   "metadata": {},
   "source": [
    "### Test Cases:"
   ]
  },
  {
   "cell_type": "code",
   "execution_count": null,
   "id": "4bc4a95e",
   "metadata": {},
   "outputs": [],
   "source": [
    "\n",
    "# Test Case 1: Basic Puzzles\n",
    "puzzles1 = [10, 20, 30]\n",
    "print(solve_puzzles(puzzles1))  # Expected output: 60\n",
    "\n",
    "# Test Case 2: Smaller Puzzles\n",
    "puzzles2 = [5, 10, 15]\n",
    "print(solve_puzzles(puzzles2))  # Expected output: 30\n",
    "\n",
    "# Test Case 3: Random Puzzles\n",
    "puzzles3 = [15, 5, 25, 10]\n",
    "print(solve_puzzles(puzzles3))  # Expected output: 85\n",
    "        "
   ]
  },
  {
   "cell_type": "markdown",
   "id": "00f0b15d",
   "metadata": {},
   "source": [
    "\n",
    "### Reflection Questions:\n",
    "\n",
    "1. **Why does solving puzzles in increasing order of complexity minimize the total time spent?**\n",
    "2. **How does the divide and conquer strategy apply to this problem?**\n",
    "3. **What are the time and space complexities of your solution?**\n",
    "        "
   ]
  },
  {
   "cell_type": "markdown",
   "id": "17be9dfe",
   "metadata": {},
   "source": [
    "### Submission Instructions:"
   ]
  },
  {
   "cell_type": "markdown",
   "id": "cb2a10ef",
   "metadata": {},
   "source": [
    "\n",
    "Submit the following:\n",
    "1. Your implementation of the `solve_puzzles` function.\n",
    "2. The output of the test cases, including at least two additional test cases.\n",
    "3. A brief analysis of how the divide and conquer strategy helped solve the problem.\n",
    "        "
   ]
  }
 ],
 "metadata": {
  "kernelspec": {
   "display_name": "Python 3 (ipykernel)",
   "language": "python",
   "name": "python3"
  },
  "language_info": {
   "codemirror_mode": {
    "name": "ipython",
    "version": 3
   },
   "file_extension": ".py",
   "mimetype": "text/x-python",
   "name": "python",
   "nbconvert_exporter": "python",
   "pygments_lexer": "ipython3",
   "version": "3.11.7"
  }
 },
 "nbformat": 4,
 "nbformat_minor": 5
}
