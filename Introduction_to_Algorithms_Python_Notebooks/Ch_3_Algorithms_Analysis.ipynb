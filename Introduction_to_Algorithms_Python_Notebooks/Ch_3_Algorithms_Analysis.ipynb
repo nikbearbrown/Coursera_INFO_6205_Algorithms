{
  "nbformat": 4,
  "nbformat_minor": 0,
  "metadata": {
    "colab": {
      "provenance": []
    },
    "kernelspec": {
      "name": "python3",
      "display_name": "Python 3"
    },
    "language_info": {
      "name": "python"
    }
  },
  "cells": [
    {
      "cell_type": "markdown",
      "source": [
        "# Merge Sort"
      ],
      "metadata": {
        "id": "3sX76LuDBy2Y"
      }
    },
    {
      "cell_type": "code",
      "execution_count": null,
      "metadata": {
        "id": "aET8dvUmBoAf"
      },
      "outputs": [],
      "source": [
        "def merge_sort(arr):\n",
        "    if len(arr) > 1:\n",
        "        # Find the mid point of the array\n",
        "        mid = len(arr) // 2\n",
        "        # Dividing the elements into 2 halves\n",
        "        L = arr[:mid]\n",
        "        R = arr[mid:]\n",
        "\n",
        "        # Sorting the first half\n",
        "        merge_sort(L)\n",
        "        # Sorting the second half\n",
        "        merge_sort(R)\n",
        "\n",
        "        i = j = k = 0\n",
        "\n",
        "        # Copy data to temp arrays L[] and R[]\n",
        "        while i < len(L) and j < len(R):\n",
        "            if L[i] < R[j]:\n",
        "                arr[k] = L[i]\n",
        "                i += 1\n",
        "            else:\n",
        "                arr[k] = R[j]\n",
        "                j += 1\n",
        "            k += 1\n",
        "\n",
        "        # Checking if any element was left\n",
        "        while i < len(L):\n",
        "            arr[k] = L[i]\n",
        "            i += 1\n",
        "            k += 1\n",
        "\n",
        "        while j < len(R):\n",
        "            arr[k] = R[j]\n",
        "            j += 1\n",
        "            k += 1\n",
        "\n",
        "# Example:\n",
        "# arr = [38, 27, 43, 3, 9, 82, 10]\n",
        "# merge_sort(arr)\n",
        "# print(\"Sorted array is:\", arr)"
      ]
    },
    {
      "cell_type": "markdown",
      "source": [
        "# Breadth First Search"
      ],
      "metadata": {
        "id": "zLeq86flB3Hr"
      }
    },
    {
      "cell_type": "code",
      "source": [
        "from collections import deque\n",
        "\n",
        "def bfs(graph, start):\n",
        "    visited = set()  # Set to keep track of visited nodes.\n",
        "    queue = deque([start])  # Initialize a queue\n",
        "\n",
        "    while queue:\n",
        "        vertex = queue.popleft()  # Pop a vertex from queue\n",
        "        if vertex not in visited:\n",
        "            print(vertex, end=' ')  # Print the vertex\n",
        "            visited.add(vertex)\n",
        "            # Queue all adjacent nodes\n",
        "            queue.extend(n for n in graph[vertex] if n not in visited)\n",
        "\n",
        "# Example:\n",
        "# graph = {\n",
        "#     'A': ['B', 'C'],\n",
        "#     'B': ['D', 'E'],\n",
        "#     'C': ['F'],\n",
        "#     'D': [],\n",
        "#     'E': ['F'],\n",
        "#     'F': []\n",
        "# }\n",
        "# print(\"BFS starting from vertex 'A':\")\n",
        "# bfs(graph, 'A')"
      ],
      "metadata": {
        "id": "jDpbnAD0B-xB"
      },
      "execution_count": null,
      "outputs": []
    },
    {
      "cell_type": "markdown",
      "source": [
        "# Binary Search"
      ],
      "metadata": {
        "id": "yJDnzUfbCAwF"
      }
    },
    {
      "cell_type": "code",
      "source": [
        "def binary_search(arr, target):\n",
        "    left, right = 0, len(arr) - 1\n",
        "\n",
        "    while left <= right:\n",
        "        mid = left + (right - left) // 2\n",
        "\n",
        "        if arr[mid] == target:\n",
        "            return mid\n",
        "        elif arr[mid] < target:\n",
        "            left = mid + 1\n",
        "        else:\n",
        "            right = mid - 1\n",
        "\n",
        "    return -1"
      ],
      "metadata": {
        "id": "fbaxD7mLCDlW"
      },
      "execution_count": null,
      "outputs": []
    },
    {
      "cell_type": "markdown",
      "source": [
        "# Bubble Sort"
      ],
      "metadata": {
        "id": "nezlIxaMCFaJ"
      }
    },
    {
      "cell_type": "code",
      "source": [
        "def bubble_sort(arr):\n",
        "    # Get the number of elements in the array\n",
        "    n = len(arr)\n",
        "\n",
        "    # Outer loop to traverse through all elements in the array\n",
        "    for i in range(n - 1):\n",
        "        # Inner loop to compare elements up to the point where the largest\n",
        "        # elements have already bubbled to the end of the list\n",
        "        for j in range(n - i - 1):\n",
        "            # Compare adjacent elements and swap if they are in the wrong order\n",
        "            if arr[j] > arr[j + 1]:\n",
        "                # Swap elements using Python's tuple unpacking\n",
        "                arr[j], arr[j + 1] = arr[j + 1], arr[j]\n",
        "\n",
        "# This code can be tested with:\n",
        "# sample_array = [64, 34, 25, 12, 22, 11, 90]\n",
        "# bubble_sort(sample_array)\n",
        "# print(\"Sorted array is:\", sample_array)"
      ],
      "metadata": {
        "id": "YF2Hjod6CH-F"
      },
      "execution_count": null,
      "outputs": []
    },
    {
      "cell_type": "markdown",
      "source": [
        "# Depth First Search"
      ],
      "metadata": {
        "id": "M1s8j_1ICKv3"
      }
    },
    {
      "cell_type": "code",
      "source": [
        "def dfs(graph, start, visited=None):\n",
        "    if visited is None:\n",
        "        visited = set()\n",
        "    # Mark the node as visited\n",
        "    visited.add(start)\n",
        "    print(start, end=' ')  # Output the visited node\n",
        "    # Recur for all the vertices adjacent to this vertex\n",
        "    for neighbor in graph[start]:\n",
        "        if neighbor not in visited:\n",
        "            dfs(graph, neighbor, visited)\n",
        "\n",
        "# Example:\n",
        "# graph = {\n",
        "#     'A': ['B', 'C'],\n",
        "#     'B': ['D', 'E'],\n",
        "#     'C': ['F'],\n",
        "#     'D': [],\n",
        "#     'E': ['F'],\n",
        "#     'F': []\n",
        "# }\n",
        "# print(\"DFS starting from vertex 'A':\")\n",
        "# dfs(graph, 'A')"
      ],
      "metadata": {
        "id": "94vl8ChYCOjR"
      },
      "execution_count": null,
      "outputs": []
    },
    {
      "cell_type": "markdown",
      "source": [
        "# Heap Sort"
      ],
      "metadata": {
        "id": "Q4nxsnsDCQUx"
      }
    },
    {
      "cell_type": "code",
      "source": [
        "def heap_sort(arr):\n",
        "    n = len(arr)\n",
        "\n",
        "    # Build a maxheap.\n",
        "    for i in range(n, -1, -1):\n",
        "        heapify(arr, n, i)\n",
        "\n",
        "    # One by one extract elements\n",
        "    for i in range(n-1, 0, -1):\n",
        "        arr[i], arr[0] = arr[0], arr[i]  # swap\n",
        "        heapify(arr, i, 0)\n",
        "\n",
        "def heapify(arr, n, i):\n",
        "    largest = i  # Initialize largest as root\n",
        "    l = 2 * i + 1  # left = 2*i + 1\n",
        "    r = 2 * i + 2  # right = 2*i + 2\n",
        "\n",
        "    # See if left child of root exists and is greater than root\n",
        "    if l < n and arr[l] > arr[largest]:\n",
        "        largest = l\n",
        "\n",
        "    # See if right child of root exists and is greater than root\n",
        "    if r < n and arr[r] > arr[largest]:\n",
        "        largest = r\n",
        "\n",
        "    # Change root, if needed\n",
        "    if largest != i:\n",
        "        arr[i], arr[largest] = arr[largest], arr[i]  # swap\n",
        "        heapify(arr, n, largest)\n",
        "\n",
        "# Example:\n",
        "# arr = [12, 11, 13, 5, 6, 7]\n",
        "# heap_sort(arr)\n",
        "# print(\"Sorted array is:\", arr)"
      ],
      "metadata": {
        "id": "_1LpGyXVCT47"
      },
      "execution_count": null,
      "outputs": []
    },
    {
      "cell_type": "markdown",
      "source": [
        "# Insertion Sort"
      ],
      "metadata": {
        "id": "0GZdETYqCUkC"
      }
    },
    {
      "cell_type": "code",
      "source": [
        "def insertion_sort(arr):\n",
        "    # Get the number of elements in the array\n",
        "    n = len(arr)\n",
        "\n",
        "    # Start from the second element as the first element is trivially sorted\n",
        "    for i in range(1, n):\n",
        "        # The current element to be inserted into the sorted portion of the array\n",
        "        key = arr[i]\n",
        "        # Start comparing with the element just before the current element\n",
        "        j = i - 1\n",
        "\n",
        "        # Move elements of arr[0..i-1], that are greater than key, to one position ahead\n",
        "        # of their current position\n",
        "        while j >= 0 and arr[j] > key:\n",
        "            arr[j + 1] = arr[j]\n",
        "            j -= 1\n",
        "\n",
        "        # Insert the key into its correct position in the sorted portion\n",
        "        arr[j + 1] = key\n",
        "\n",
        "# This code can be tested with:\n",
        "# sample_array = [22, 27, 16, 9, 21]\n",
        "# insertion_sort(sample_array)\n",
        "# print(\"Sorted array is:\", sample_array)"
      ],
      "metadata": {
        "id": "HGNI64m-CX5B"
      },
      "execution_count": null,
      "outputs": []
    },
    {
      "cell_type": "markdown",
      "source": [
        "# Quick Sort"
      ],
      "metadata": {
        "id": "8kTWIWB1CYvl"
      }
    },
    {
      "cell_type": "code",
      "source": [
        "def quick_sort(arr, low, high):\n",
        "    if low < high:\n",
        "        # pi is partitioning index, arr[pi] is now at right place\n",
        "        pi = partition(arr, low, high)\n",
        "\n",
        "        # Separately sort elements before partition and after partition\n",
        "        quick_sort(arr, low, pi-1)\n",
        "        quick_sort(arr, pi+1, high)\n",
        "\n",
        "def partition(arr, low, high):\n",
        "    # This is the pivot element\n",
        "    pivot = arr[high]\n",
        "    i = (low-1)  # index of smaller element\n",
        "\n",
        "    for j in range(low, high):\n",
        "        # If current element is smaller than or equal to pivot\n",
        "        if arr[j] <= pivot:\n",
        "            i = i+1\n",
        "            arr[i], arr[j] = arr[j], arr[i]\n",
        "    arr[i+1], arr[high] = arr[high], arr[i+1]\n",
        "    return (i+1)\n",
        "\n",
        "# Example:\n",
        "# arr = [10, 80, 30, 90, 40, 50, 70]\n",
        "# quick_sort(arr, 0, len(arr)-1)\n",
        "# print(\"Sorted array is:\", arr)"
      ],
      "metadata": {
        "id": "uBZlgQnICcoA"
      },
      "execution_count": null,
      "outputs": []
    },
    {
      "cell_type": "markdown",
      "source": [
        "# Selection Sort"
      ],
      "metadata": {
        "id": "WKoTaZVYCdfT"
      }
    },
    {
      "cell_type": "code",
      "source": [
        "def selection_sort(arr):\n",
        "    # Get the number of elements in the array\n",
        "    n = len(arr)\n",
        "\n",
        "    # Loop over the array to find the minimum element in each iteration\n",
        "    for i in range(n - 1):\n",
        "        # Assume the first element of the unsorted segment is the minimum\n",
        "        min_idx = i\n",
        "\n",
        "        # Compare the assumed minimum with the rest of the array\n",
        "        for j in range(i + 1, n):\n",
        "            # If a smaller element is found, update the index of the minimum element\n",
        "            if arr[j] < arr[min_idx]:\n",
        "                min_idx = j\n",
        "\n",
        "        # Swap the found minimum element with the first element of the unsorted segment\n",
        "        arr[i], arr[min_idx] = arr[min_idx], arr[i]\n",
        "\n",
        "# This code can be tested with:\n",
        "# sample_array = [64, 25, 12, 22, 11]\n",
        "# selection_sort(sample_array)\n",
        "# print(\"Sorted array is:\", sample_array)"
      ],
      "metadata": {
        "id": "yJf6enaNChNa"
      },
      "execution_count": null,
      "outputs": []
    },
    {
      "cell_type": "markdown",
      "source": [
        "# Fiobanacci Sequence"
      ],
      "metadata": {
        "id": "C_7gp1kxC77m"
      }
    },
    {
      "cell_type": "code",
      "source": [
        "def fibonacci(n):\n",
        "    # Create an array to store Fibonacci numbers up to n\n",
        "    fib = [0] * (n + 1)\n",
        "    # Base cases: the first two Fibonacci numbers\n",
        "    fib[0] = 0\n",
        "    fib[1] = 1\n",
        "\n",
        "    # Fill in the Fibonacci numbers from 2 to n in the array\n",
        "    for i in range(2, n + 1):\n",
        "        fib[i] = fib[i - 1] + fib[i - 2]\n",
        "\n",
        "    # Return the nth Fibonacci number\n",
        "    return fib[n]\n",
        "\n",
        "# Example usage:\n",
        "# print(fibonacci(10))  # Output: 55"
      ],
      "metadata": {
        "id": "ItYYtwpEC-XN"
      },
      "execution_count": null,
      "outputs": []
    },
    {
      "cell_type": "markdown",
      "source": [
        "# Fractional Knapsack"
      ],
      "metadata": {
        "id": "rv0eouIqDHKa"
      }
    },
    {
      "cell_type": "code",
      "source": [
        "def fractional_knapsack(items, W):\n",
        "    # Sort items by their value-to-weight ratio in descending order\n",
        "    items.sort(key=lambda x: x[1] / x[0], reverse=True)\n",
        "\n",
        "    # Initialize total value and remaining capacity of the knapsack\n",
        "    V = 0\n",
        "    C = W\n",
        "\n",
        "    # Process each item in the sorted list\n",
        "    for item in items:\n",
        "        w_i, v_i = item  # weight and value of the item\n",
        "\n",
        "        # If the item can be fully included, take it all\n",
        "        if w_i <= C:\n",
        "            V += v_i\n",
        "            C -= w_i\n",
        "        else:\n",
        "            # If the item can't be fully included, take the fraction that fits\n",
        "            fraction = C / w_i\n",
        "            V += fraction * v_i\n",
        "            C = 0  # Knapsack is full\n",
        "            break\n",
        "\n",
        "    # Return the total value of the knapsack\n",
        "    return V\n",
        "\n",
        "# Example usage:\n",
        "# items = [(10, 60), (20, 100), (30, 120)]  # Each tuple is (weight, value)\n",
        "# W = 50  # Total capacity of knapsack\n",
        "# print(fractional_knapsack(items, W))  # Output will be the maximum value that can be carried\n"
      ],
      "metadata": {
        "id": "bN_IbuzoDJKg"
      },
      "execution_count": null,
      "outputs": []
    },
    {
      "cell_type": "markdown",
      "source": [
        "# Kruskal's Algorithm"
      ],
      "metadata": {
        "id": "Tv1qkKn5DQUZ"
      }
    },
    {
      "cell_type": "code",
      "source": [
        "def kruskal(G):\n",
        "    # Initialize the minimum spanning tree as an empty list\n",
        "    T = []\n",
        "\n",
        "    # Sort all edges in the graph by weight in ascending order\n",
        "    sorted_edges = sorted(G.edges(data=True), key=lambda x: x[2]['weight'])\n",
        "\n",
        "    # Initialize the union-find data structure to keep track of connected components\n",
        "    parent = {node: node for node in G.nodes()}\n",
        "    rank = {node: 0 for node in G.nodes()}\n",
        "\n",
        "    def find(node):\n",
        "        # Find the root of the node with path compression\n",
        "        if parent[node] != node:\n",
        "            parent[node] = find(parent[node])\n",
        "        return parent[node]\n",
        "\n",
        "    def union(node1, node2):\n",
        "        # Union by rank\n",
        "        root1 = find(node1)\n",
        "        root2 = find(node2)\n",
        "        if root1 != root2:\n",
        "            if rank[root1] > rank[root2]:\n",
        "                parent[root2] = root1\n",
        "            elif rank[root1] < rank[root2]:\n",
        "                parent[root1] = root2\n",
        "            else:\n",
        "                parent[root2] = root1\n",
        "                rank[root1] += 1\n",
        "\n",
        "    def creates_cycle(edge):\n",
        "        u, v = edge\n",
        "        # Check if u and v are in the same connected component\n",
        "        if find(u) == find(v):\n",
        "            return True\n",
        "        else:\n",
        "            union(u, v)\n",
        "            return False\n",
        "\n",
        "    # Process each edge, only adding it to the MST if it doesn't create a cycle\n",
        "    for u, v, data in sorted_edges:\n",
        "        if not creates_cycle((u, v)):\n",
        "            T.append((u, v))\n",
        "\n",
        "    # Return the list of edges that comprise the minimum spanning tree\n",
        "    return T\n",
        "\n",
        "# Example usage:\n",
        "# G is assumed to be a networkx.Graph object with edges and weights\n",
        "# For example:\n",
        "# import networkx as nx\n",
        "# G = nx.Graph()\n",
        "# G.add_edge('A', 'B', weight=4)\n",
        "# G.add_edge('B', 'C', weight=1)\n",
        "# G.add_edge('C', 'D', weight=3)\n",
        "# G.add_edge('D', 'A', weight=2)\n",
        "# mst = kruskal(G)\n",
        "# print(\"Edges in MST:\", mst)"
      ],
      "metadata": {
        "id": "W4EWFtr1DSmb"
      },
      "execution_count": null,
      "outputs": []
    },
    {
      "cell_type": "markdown",
      "source": [
        "# Prim's Algorithm"
      ],
      "metadata": {
        "id": "0BM0DcWdDcar"
      }
    },
    {
      "cell_type": "code",
      "source": [
        "import heapq\n",
        "\n",
        "def prim(G, start):\n",
        "    # MST set to keep track of the vertices included in MST\n",
        "    mst = set()\n",
        "    # Priority queue to select the edge with the minimum weight\n",
        "    edges = []\n",
        "    # Start with the initial vertex and cost 0\n",
        "    heapq.heappush(edges, (0, start))\n",
        "    total_cost = 0  # To store the total cost of MST\n",
        "    mst_edges = []  # To store the edges of the MST\n",
        "\n",
        "    while edges and len(mst) < len(G):\n",
        "        cost, u = heapq.heappop(edges)\n",
        "        if u in mst:\n",
        "            continue\n",
        "        # Add vertex to the MST\n",
        "        mst.add(u)\n",
        "        total_cost += cost\n",
        "        # For the first node, there's no edge leading to it\n",
        "        if cost != 0:\n",
        "            mst_edges.append((cost, u))\n",
        "\n",
        "        # Check all adjacent vertices of u\n",
        "        for v, weight in G[u].items():\n",
        "            if v not in mst:\n",
        "                heapq.heappush(edges, (weight, v))\n",
        "\n",
        "    return total_cost, mst_edges\n",
        "\n",
        "# Example usage:\n",
        "# G is assumed to be a dictionary of dictionaries:\n",
        "# G = {\n",
        "#     'A': {'B': 2, 'C': 3},\n",
        "#     'B': {'A': 2, 'C': 1, 'D': 1},\n",
        "#     'C': {'A': 3, 'B': 1, 'D': 5},\n",
        "#     'D': {'B': 1, 'C': 5}\n",
        "# }\n",
        "# start_vertex = 'A'\n",
        "# cost, mst = prim(G, start_vertex)\n",
        "# print(\"Cost of MST:\", cost)\n",
        "# print(\"Edges in MST:\", mst)"
      ],
      "metadata": {
        "id": "imoPkfDYDd8c"
      },
      "execution_count": null,
      "outputs": []
    },
    {
      "cell_type": "markdown",
      "source": [
        "# Randomized Quick Sort"
      ],
      "metadata": {
        "id": "pg_yNPkhEZJR"
      }
    },
    {
      "cell_type": "code",
      "source": [
        "import random\n",
        "\n",
        "def randomized_quick_sort(A, low, high):\n",
        "    if low < high:\n",
        "        pivot = random.randint(low, high)\n",
        "        pivot = partition(A, low, high, pivot)\n",
        "        randomized_quick_sort(A, low, pivot - 1)\n",
        "        randomized_quick_sort(A, pivot + 1, high)\n",
        "\n",
        "def partition(A, low, high, pivot):\n",
        "    pivot_value = A[pivot]\n",
        "    A[pivot], A[high] = A[high], A[pivot]\n",
        "    i = low\n",
        "    for j in range(low, high):\n",
        "        if A[j] < pivot_value:\n",
        "            A[i], A[j] = A[j], A[i]\n",
        "            i += 1\n",
        "    A[i], A[high] = A[high], A[i]\n",
        "    return i\n",
        "\n",
        "# Example usage:\n",
        "# arr = [10, 7, 8, 9, 1, 5]\n",
        "# randomized_quick_sort(arr, 0, len(arr) - 1)\n",
        "# print(\"Sorted array:\", arr)"
      ],
      "metadata": {
        "id": "oiCIC67pEbCu"
      },
      "execution_count": null,
      "outputs": []
    },
    {
      "cell_type": "markdown",
      "source": [
        "# Parallel Matrix Multiplication"
      ],
      "metadata": {
        "id": "l0wcSxx2EcGV"
      }
    },
    {
      "cell_type": "code",
      "source": [
        "import multiprocessing\n",
        "\n",
        "def parallel_matrix_mult(A, B):\n",
        "    # Dimensions of the matrices\n",
        "    m, n = len(A), len(A[0])\n",
        "    p = len(B[0])\n",
        "    # Create result matrix C initialized with zeros\n",
        "    C = [[0] * p for _ in range(m)]\n",
        "\n",
        "    def compute_cell(i, j):\n",
        "        # Function to compute the value of a single cell in the result matrix\n",
        "        cell_value = 0\n",
        "        for k in range(n):  # Dot product of row from A and column from B\n",
        "            cell_value += A[i][k] * B[k][j]\n",
        "        return cell_value\n",
        "\n",
        "    def update_cell(i, j, cell_value):\n",
        "        # Function to update the cell value in the matrix C\n",
        "        C[i][j] = cell_value\n",
        "\n",
        "    def compute_row(i):\n",
        "        # Function to compute the values of a single row in the result matrix\n",
        "        for j in range(p):\n",
        "            cell_value = compute_cell(i, j)\n",
        "            update_cell(i, j, cell_value)\n",
        "\n",
        "    # Get the number of cores available on the machine\n",
        "    num_cores = multiprocessing.cpu_count()\n",
        "    # Create a pool of processes. Number of processes is equal to the number of cores.\n",
        "    pool = multiprocessing.Pool(processes=num_cores)\n",
        "    # Map compute_row to each row index\n",
        "    pool.map(compute_row, range(m))\n",
        "    # Close the pool and wait for the work to finish\n",
        "    pool.close()\n",
        "    pool.join()\n",
        "\n",
        "    return C\n",
        "\n",
        "# Example usage:\n",
        "# A = [[1, 2], [3, 4]]\n",
        "# B = [[2, 0], [1, 2]]\n",
        "# result = parallel_matrix_mult(A, B)\n",
        "# print(\"Resulting Matrix:\", result)"
      ],
      "metadata": {
        "id": "v-rdL_FLE2hG"
      },
      "execution_count": null,
      "outputs": []
    },
    {
      "cell_type": "markdown",
      "source": [
        "# Travelling Salesman Problem"
      ],
      "metadata": {
        "id": "trTqRXL3E3do"
      }
    },
    {
      "cell_type": "code",
      "source": [
        "def nearest_neighbor_tsp(G, start):\n",
        "    # Initialize the tour with the starting city\n",
        "    T = [start]\n",
        "    # Set of visited cities, starting with the initial city\n",
        "    visited = set(T)\n",
        "    # Current city initialized to the start city\n",
        "    current = start\n",
        "\n",
        "    # Continue until all cities are visited\n",
        "    while len(visited) < len(G):\n",
        "        # Initialize nearest city and shortest distance to None and infinity, respectively\n",
        "        nearest, shortest_distance = None, float('inf')\n",
        "\n",
        "        # Iterate through each city connected to the current city\n",
        "        for neighbor in G[current]:\n",
        "            if neighbor not in visited and G[current][neighbor] < shortest_distance:\n",
        "                # Update nearest city and shortest distance if a closer unvisited city is found\n",
        "                nearest, shortest_distance = neighbor, G[current][neighbor]\n",
        "\n",
        "        # Visit the nearest unvisited city\n",
        "        current = nearest\n",
        "        visited.add(current)\n",
        "        T.append(current)\n",
        "\n",
        "    # Assuming 'G' is a dictionary of dictionaries where keys are city names and values\n",
        "    # are dictionaries of neighboring cities with edge weights as distances\n",
        "    # Return to the start city to complete the tour\n",
        "    T.append(start)\n",
        "\n",
        "    return T\n",
        "\n",
        "# Example usage:\n",
        "# Define the graph as a dictionary of dictionaries\n",
        "# G = {\n",
        "#     'A': {'B': 1, 'C': 4, 'D': 3},\n",
        "#     'B': {'A': 1, 'C': 2, 'D': 1},\n",
        "#     'C': {'A': 4, 'B': 2, 'D': 5},\n",
        "#     'D': {'A': 3, 'B': 1, 'C': 5}\n",
        "# }\n",
        "# start_city = 'A'\n",
        "# tour = nearest_neighbor_tsp(G, start_city)\n",
        "# print(\"Tour using Nearest Neighbor TSP:\", tour)"
      ],
      "metadata": {
        "id": "0XII2aWcFGXV"
      },
      "execution_count": null,
      "outputs": []
    },
    {
      "cell_type": "markdown",
      "source": [
        "# Greedy Vertex Cover"
      ],
      "metadata": {
        "id": "XdgdHqI1FO5z"
      }
    },
    {
      "cell_type": "code",
      "source": [
        "def greedy_vertex_cover(G):\n",
        "    # Initialize an empty set for the vertex cover\n",
        "    C = set()\n",
        "    # Initialize a set to keep track of uncovered edges\n",
        "    E_prime = set(G.edges())\n",
        "\n",
        "    # Continue until there are no uncovered edges\n",
        "    while E_prime:\n",
        "        # Select an arbitrary edge from the remaining uncovered edges\n",
        "        u, v = E_prime.pop()\n",
        "\n",
        "        # Add both vertices of the edge to the vertex cover\n",
        "        C.add(u)\n",
        "        C.add(v)\n",
        "\n",
        "        # Remove all edges incident to either u or v from the set of uncovered edges\n",
        "        # This includes removing edges connecting to u\n",
        "        E_prime.difference_update(G.edges(u))\n",
        "        # And removing edges connecting to v\n",
        "        E_prime.difference_update(G.edges(v))\n",
        "\n",
        "    # Return the set of vertices that constitutes the vertex cover\n",
        "    return C\n",
        "\n",
        "# Example usage:\n",
        "# Assuming G is a networkx graph\n",
        "# import networkx as nx\n",
        "# G = nx.Graph()\n",
        "# G.add_edges_from([('A', 'B'), ('B', 'C'), ('C', 'D'), ('D', 'E'), ('E', 'A')])\n",
        "# vertex_cover = greedy_vertex_cover(G)\n",
        "# print(\"Vertex Cover:\", vertex_cover)"
      ],
      "metadata": {
        "id": "Zx7AdREgFv9u"
      },
      "execution_count": null,
      "outputs": []
    },
    {
      "cell_type": "markdown",
      "source": [
        "# Djkistra's Algorithm"
      ],
      "metadata": {
        "id": "LqPrJkZjHg_K"
      }
    },
    {
      "cell_type": "code",
      "source": [
        "import heapq\n",
        "\n",
        "def dijkstra(G, source):\n",
        "    \"\"\"\n",
        "    Perform Dijkstra's algorithm to find shortest paths from source vertex in graph G.\n",
        "\n",
        "    Args:\n",
        "    - G: Graph representation where G.adjacentVertices(v) returns list of (vertex, weight) tuples.\n",
        "    - source: Starting vertex for Dijkstra's algorithm.\n",
        "\n",
        "    Returns:\n",
        "    - dist: Dictionary mapping each vertex to its shortest distance from source.\n",
        "    \"\"\"\n",
        "    dist = {v: float('inf') for v in G}  # Initialize distances with infinity\n",
        "    dist[source] = 0  # Distance from source to itself is 0\n",
        "    pq = [(0, source)]  # Priority queue with (distance, vertex)\n",
        "\n",
        "    while pq:\n",
        "        d, v = heapq.heappop(pq)  # Dequeue vertex with smallest distance\n",
        "        if d > dist[v]:\n",
        "            continue  # Skip if this vertex has been processed with a shorter distance\n",
        "\n",
        "        for u, w in G.adjacentVertices(v):\n",
        "            new_dist = dist[v] + w\n",
        "            if new_dist < dist[u]:\n",
        "                dist[u] = new_dist\n",
        "                heapq.heappush(pq, (new_dist, u))  # Enqueue updated distance\n",
        "\n",
        "    return dist\n",
        "\n",
        "# Example usage:\n",
        "if __name__ == \"__main__\":\n",
        "    class Graph:\n",
        "        def __init__(self):\n",
        "            self.edges = {}\n",
        "\n",
        "        def add_edge(self, u, v, weight):\n",
        "            if u not in self.edges:\n",
        "                self.edges[u] = []\n",
        "            if v not in self.edges:\n",
        "                self.edges[v] = []\n",
        "            self.edges[u].append((v, weight))\n",
        "            self.edges[v].append((u, weight))\n",
        "\n",
        "        def adjacentVertices(self, v):\n",
        "            return self.edges.get(v, [])\n",
        "\n",
        "    # Create a graph\n",
        "    graph = Graph()\n",
        "    graph.add_edge('A', 'B', 4)\n",
        "    graph.add_edge('A', 'C', 2)\n",
        "    graph.add_edge('B', 'C', 5)\n",
        "    graph.add_edge('B', 'D', 10)\n",
        "    graph.add_edge('C', 'D', 3)\n",
        "    graph.add_edge('D', 'E', 7)\n",
        "\n",
        "    # Compute shortest paths from 'A'\n",
        "    source = 'A'\n",
        "    shortest_distances = dijkstra(graph, source)\n",
        "\n",
        "    # Print shortest distances from source\n",
        "    for vertex, distance in shortest_distances.items():\n",
        "        print(f\"Shortest distance from {source} to {vertex} is {distance}\")"
      ],
      "metadata": {
        "id": "frm3qsSOHicH"
      },
      "execution_count": null,
      "outputs": []
    },
    {
      "cell_type": "markdown",
      "source": [
        "# Greedy Algorithm For Vertex Cover"
      ],
      "metadata": {
        "id": "_eQhn_v5ICYI"
      }
    },
    {
      "cell_type": "code",
      "source": [
        "def greedy_vertex_cover(G):\n",
        "    \"\"\"\n",
        "    Find a vertex cover using a greedy algorithm.\n",
        "\n",
        "    Args:\n",
        "    - G: Graph represented as adjacency list where G[u] contains neighbors of vertex u.\n",
        "\n",
        "    Returns:\n",
        "    - C: List of vertices forming the vertex cover.\n",
        "    \"\"\"\n",
        "    C = set()  # Initialize empty vertex cover\n",
        "    E_prime = set()  # Initialize set of all edges\n",
        "\n",
        "    # Populate E_prime with all edges\n",
        "    for u in G:\n",
        "        for v in G[u]:\n",
        "            if (v, u) not in E_prime and (u, v) not in E_prime:\n",
        "                E_prime.add((u, v))\n",
        "\n",
        "    while E_prime:\n",
        "        # Select an arbitrary edge (u, v) from E_prime\n",
        "        u, v = E_prime.pop()\n",
        "\n",
        "        # Add vertices u and v to the vertex cover C\n",
        "        C.add(u)\n",
        "        C.add(v)\n",
        "\n",
        "        # Remove all edges incident to u and v from E_prime\n",
        "        remove_edges = [(u, neighbor) for neighbor in G[u]] + [(v, neighbor) for neighbor in G[v]]\n",
        "        for edge in remove_edges:\n",
        "            if edge in E_prime:\n",
        "                E_prime.remove(edge)\n",
        "\n",
        "    return list(C)\n",
        "\n",
        "# Example usage:\n",
        "if __name__ == \"__main__\":\n",
        "    # Example graph represented as adjacency list\n",
        "    graph = {\n",
        "        'A': ['B', 'C'],\n",
        "        'B': ['A', 'C', 'D'],\n",
        "        'C': ['A', 'B', 'D', 'E'],\n",
        "        'D': ['B', 'C'],\n",
        "        'E': ['C', 'F'],\n",
        "        'F': ['E']\n",
        "    }\n",
        "\n",
        "    # Find a vertex cover using greedy algorithm\n",
        "    vertex_cover = greedy_vertex_cover(graph)\n",
        "    print(\"Vertex cover:\", vertex_cover)"
      ],
      "metadata": {
        "id": "z2v8sqGGICu9"
      },
      "execution_count": null,
      "outputs": []
    }
  ]
}