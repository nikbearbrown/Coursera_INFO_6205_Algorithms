{
  "nbformat": 4,
  "nbformat_minor": 0,
  "metadata": {
    "colab": {
      "provenance": []
    },
    "kernelspec": {
      "name": "python3",
      "display_name": "Python 3"
    },
    "language_info": {
      "name": "python"
    }
  },
  "cells": [
    {
      "cell_type": "markdown",
      "source": [
        "# Polynomial Time Approximation Scheme for Knapsack Problem"
      ],
      "metadata": {
        "id": "JHSPyokqoEI_"
      }
    },
    {
      "cell_type": "code",
      "execution_count": null,
      "metadata": {
        "id": "n5DWjrRjnv7h"
      },
      "outputs": [],
      "source": [
        "def ptas_knapsack(W, w, v, epsilon):\n",
        "    \"\"\"\n",
        "    PTAS for the knapsack problem.\n",
        "\n",
        "    Args:\n",
        "    W: The maximum weight capacity of the knapsack.\n",
        "    w: A list of weights of the items.\n",
        "    v: A list of values of the items.\n",
        "    epsilon: The approximation parameter.\n",
        "\n",
        "    Returns:\n",
        "    The maximum value achievable within the weight limit.\n",
        "    \"\"\"\n",
        "    n = len(w)\n",
        "    M = max(v)\n",
        "    K = int((n * M) / epsilon) + 1\n",
        "    DP = [[0] * (K + 1) for _ in range(n + 1)]\n",
        "\n",
        "    for i in range(1, n + 1):\n",
        "        for j in range(1, K + 1):\n",
        "            if w[i - 1] <= j:\n",
        "                DP[i][j] = max(DP[i - 1][j], DP[i - 1][j - w[i - 1]] + v[i - 1])\n",
        "            else:\n",
        "                DP[i][j] = DP[i - 1][j]\n",
        "\n",
        "    return max(DP[n])\n",
        "\n",
        "# Example usage:\n",
        "W = 10\n",
        "w = [6, 3, 2, 5, 4]\n",
        "v = [30, 14, 16, 9, 8]\n",
        "epsilon = 0.1\n",
        "print(f\"Maximum value achievable: {ptas_knapsack(W, w, v, epsilon)}\")"
      ]
    },
    {
      "cell_type": "markdown",
      "source": [
        "# Fully Polynomial Time Approximation Scheme for Knapsack Problem"
      ],
      "metadata": {
        "id": "X3KpVitRoNRU"
      }
    },
    {
      "cell_type": "code",
      "source": [
        "def FPTAS_Knapsack(W, w, v, epsilon):\n",
        "    \"\"\"\n",
        "    FPTAS for the knapsack problem.\n",
        "\n",
        "    Args:\n",
        "    W: The maximum weight capacity of the knapsack.\n",
        "    w: A list of weights of the items.\n",
        "    v: A list of values of the items.\n",
        "    epsilon: The approximation parameter.\n",
        "\n",
        "    Returns:\n",
        "    The maximum value achievable within the weight limit.\n",
        "    \"\"\"\n",
        "    n = len(w)\n",
        "    V_max = max(v)\n",
        "    scale = epsilon * V_max / n\n",
        "    v_scaled = [int(val / scale) for val in v]\n",
        "    V_sum = sum(v_scaled)\n",
        "\n",
        "    DP = [float('inf')] * (V_sum + 1)\n",
        "    DP[0] = 0\n",
        "\n",
        "    for i in range(n):\n",
        "        for j in range(V_sum, v_scaled[i] - 1, -1):\n",
        "            DP[j] = min(DP[j], DP[j - v_scaled[i]] + w[i])\n",
        "\n",
        "    max_value = 0\n",
        "    for j in range(V_sum + 1):\n",
        "        if DP[j] <= W:\n",
        "            max_value = max(max_value, j)\n",
        "\n",
        "    return max_value * scale\n",
        "\n",
        "# Example usage:\n",
        "W = 10\n",
        "w = [2, 3, 4, 5]\n",
        "v = [3, 4, 5, 6]\n",
        "epsilon = 0.1\n",
        "print(f\"Maximum value achievable: {FPTAS_Knapsack(W, w, v, epsilon)}\")"
      ],
      "metadata": {
        "id": "c2GXN53DoPOa"
      },
      "execution_count": null,
      "outputs": []
    },
    {
      "cell_type": "markdown",
      "source": [
        "# Generic Greedy Algorithm"
      ],
      "metadata": {
        "id": "PdcVw3doo4_D"
      }
    },
    {
      "cell_type": "code",
      "source": [
        "def greedy_algorithm(input_data):\n",
        "    \"\"\"\n",
        "    Greedy algorithm to find a solution based on the input data.\n",
        "\n",
        "    Args:\n",
        "    input_data: The input data for the algorithm.\n",
        "\n",
        "    Returns:\n",
        "    A list representing the solution.\n",
        "    \"\"\"\n",
        "    solution = []\n",
        "\n",
        "    # Placeholder for the stopping criterion check\n",
        "    def stopping_criterion_not_met():\n",
        "        # Implement the stopping criterion here\n",
        "        return bool(input_data)\n",
        "\n",
        "    # Placeholder for choosing the best element to add\n",
        "    def choose_best_element_to_add(data):\n",
        "        # Implement the logic to choose the best element to add here\n",
        "        # For example, selecting the maximum or minimum element\n",
        "        best_element = max(data)  # Example: choose the maximum element\n",
        "        data.remove(best_element)  # Remove the chosen element from the input data\n",
        "        return best_element\n",
        "\n",
        "    while stopping_criterion_not_met():\n",
        "        best_element = choose_best_element_to_add(input_data)\n",
        "        solution.append(best_element)\n",
        "\n",
        "    return solution\n",
        "\n",
        "# Example usage:\n",
        "input_data = [10, 20, 30, 40, 50]\n",
        "result = greedy_algorithm(input_data)\n",
        "print(f\"Greedy algorithm solution: {result}\")"
      ],
      "metadata": {
        "id": "iRiygXDZpC2c"
      },
      "execution_count": null,
      "outputs": []
    },
    {
      "cell_type": "markdown",
      "source": [
        "# Generic Dynamic Programming Algorithm"
      ],
      "metadata": {
        "id": "jYgB1QbupGEq"
      }
    },
    {
      "cell_type": "code",
      "source": [
        "def dynamic_programming(input_data):\n",
        "    \"\"\"\n",
        "    Dynamic programming algorithm to solve a problem based on the input data.\n",
        "\n",
        "    Args:\n",
        "    input_data: The input data for the algorithm.\n",
        "\n",
        "    Returns:\n",
        "    The solution to the problem.\n",
        "    \"\"\"\n",
        "    n = len(input_data)  # Example: length of the input data\n",
        "    m = some_value_based_on_problem()  # Example: some value based on the specific problem\n",
        "\n",
        "    # Placeholder function to initialize the DP table\n",
        "    def initialize_table():\n",
        "        return [[0] * (m + 1) for _ in range(n + 1)]\n",
        "\n",
        "    # Placeholder function to initialize the base cases\n",
        "    def initialize_base_cases(DP):\n",
        "        # Implement the logic to initialize the base cases based on the specific problem\n",
        "        for i in range(n + 1):\n",
        "            DP[i][0] = 0\n",
        "        for j in range(m + 1):\n",
        "            DP[0][j] = 0\n",
        "\n",
        "    # Placeholder function to compute the DP value for DP[i][j]\n",
        "    def compute_DP_value(DP, i, j):\n",
        "        # Implement the logic to compute the DP value based on the specific problem\n",
        "        # Example: taking the maximum of two previous states\n",
        "        return max(DP[i - 1][j], DP[i][j - 1] + input_data[i - 1])\n",
        "\n",
        "    DP = initialize_table()\n",
        "    initialize_base_cases(DP)\n",
        "    for i in range(1, n + 1):\n",
        "        for j in range(1, m + 1):\n",
        "            DP[i][j] = compute_DP_value(DP, i, j)\n",
        "\n",
        "    return DP[n][m]\n",
        "\n",
        "# Example function to define m based on the specific problem\n",
        "def some_value_based_on_problem():\n",
        "    return 10  # Example value\n",
        "\n",
        "# Example usage:\n",
        "input_data = [1, 2, 3, 4, 5]\n",
        "result = dynamic_programming(input_data)\n",
        "print(f\"Dynamic programming solution: {result}\")"
      ],
      "metadata": {
        "id": "gcP5k6pgpGbV"
      },
      "execution_count": null,
      "outputs": []
    },
    {
      "cell_type": "markdown",
      "source": [
        "# Rounding Algorithm"
      ],
      "metadata": {
        "id": "yXV3HyWhpRAT"
      }
    },
    {
      "cell_type": "code",
      "source": [
        "def rounding(LP_solution):\n",
        "    \"\"\"\n",
        "    Rounding scheme to obtain an integral solution from a fractional LP solution.\n",
        "\n",
        "    Args:\n",
        "    LP_solution: The LP relaxation solution.\n",
        "\n",
        "    Returns:\n",
        "    An integral solution.\n",
        "    \"\"\"\n",
        "    # Placeholder function to solve LP relaxation and obtain fractional solution\n",
        "    def solve_LP_relaxation(LP_solution):\n",
        "        # Implement the logic to solve LP relaxation here\n",
        "        # Example: returning a dummy fractional solution\n",
        "        return [0.5, 0.8, 0.3, 0.9]\n",
        "\n",
        "    # Placeholder function to apply rounding scheme to obtain integral solution\n",
        "    def apply_rounding_scheme(fractional_solution):\n",
        "        # Implement the logic for rounding scheme here\n",
        "        # Example: rounding fractional values to the nearest integer\n",
        "        return [int(round(x)) for x in fractional_solution]\n",
        "\n",
        "    # Solve LP relaxation to obtain fractional solution\n",
        "    fractional_solution = solve_LP_relaxation(LP_solution)\n",
        "    # Apply rounding scheme to obtain integral solution\n",
        "    integral_solution = apply_rounding_scheme(fractional_solution)\n",
        "\n",
        "    return integral_solution\n",
        "\n",
        "# Example usage:\n",
        "LP_solution = \"LP relaxation input data\"  # Example input data\n",
        "result = rounding(LP_solution)\n",
        "print(f\"Integral solution: {result}\")"
      ],
      "metadata": {
        "id": "wrCG8OlspRcw"
      },
      "execution_count": null,
      "outputs": []
    },
    {
      "cell_type": "markdown",
      "source": [
        "# List Scheduling Approximation"
      ],
      "metadata": {
        "id": "_ZoJlcrfpcsN"
      }
    },
    {
      "cell_type": "code",
      "source": [
        "def list_scheduling(tasks):\n",
        "    \"\"\"\n",
        "    List scheduling algorithm to assign tasks to machines.\n",
        "\n",
        "    Args:\n",
        "    tasks: A list of tuples, where each tuple contains a task and its processing time.\n",
        "\n",
        "    Returns:\n",
        "    A list of schedules for each machine.\n",
        "    \"\"\"\n",
        "    # Sort tasks in non-increasing order of processing time\n",
        "    tasks.sort(key=lambda x: x[1], reverse=True)\n",
        "\n",
        "    # Initialize an empty schedule\n",
        "    schedule = [[] for _ in range(len(tasks))]\n",
        "\n",
        "    # Assign each task to the machine with the earliest available time\n",
        "    for task in tasks:\n",
        "        min_machine_index = 0\n",
        "        min_end_time = float('inf')\n",
        "        for i, machine_schedule in enumerate(schedule):\n",
        "            if not machine_schedule:\n",
        "                min_machine_index = i\n",
        "                break\n",
        "            end_time = sum(t[1] for t in machine_schedule)\n",
        "            if end_time < min_end_time:\n",
        "                min_end_time = end_time\n",
        "                min_machine_index = i\n",
        "        schedule[min_machine_index].append(task)\n",
        "\n",
        "    return schedule\n",
        "\n",
        "# Example usage:\n",
        "tasks = [('Task1', 5), ('Task2', 3), ('Task3', 7), ('Task4', 2)]\n",
        "schedule = list_scheduling(tasks)\n",
        "print(f\"Task schedule: {schedule}\")"
      ],
      "metadata": {
        "id": "Kr2akO3DpdGR"
      },
      "execution_count": null,
      "outputs": []
    },
    {
      "cell_type": "markdown",
      "source": [
        "# Local Search Algorithm"
      ],
      "metadata": {
        "id": "egJnkPjapo9E"
      }
    },
    {
      "cell_type": "code",
      "source": [
        "import random\n",
        "\n",
        "def local_search(initial_solution, generate_neighbor, evaluate_solution, termination_condition):\n",
        "    \"\"\"\n",
        "    Local search algorithm to find the best solution by exploring neighboring solutions.\n",
        "\n",
        "    Args:\n",
        "    initial_solution: The initial solution to start the local search.\n",
        "    generate_neighbor: Function to generate a neighboring solution.\n",
        "    evaluate_solution: Function to evaluate a solution.\n",
        "    termination_condition: Function to determine when to stop the search.\n",
        "\n",
        "    Returns:\n",
        "    The best solution found.\n",
        "    \"\"\"\n",
        "    current_solution = initial_solution\n",
        "\n",
        "    while not termination_condition():\n",
        "        neighbor_solution = generate_neighbor(current_solution)\n",
        "        if evaluate_solution(neighbor_solution) > evaluate_solution(current_solution):\n",
        "            current_solution = neighbor_solution\n",
        "\n",
        "    return current_solution\n",
        "\n",
        "# Example usage:\n",
        "# Initial solution\n",
        "initial_solution = [1, 2, 3, 4, 5]  # Example initial solution\n",
        "\n",
        "# Function to generate a neighboring solution\n",
        "def generate_neighbor(solution):\n",
        "    # Example: swap two random elements in the solution\n",
        "    neighbor = solution[:]\n",
        "    i, j = random.sample(range(len(solution)), 2)\n",
        "    neighbor[i], neighbor[j] = neighbor[j], neighbor[i]\n",
        "    return neighbor\n",
        "\n",
        "# Function to evaluate a solution\n",
        "def evaluate_solution(solution):\n",
        "    # Example: sum of the elements in the solution\n",
        "    return sum(solution)\n",
        "\n",
        "# Termination condition\n",
        "def termination_condition():\n",
        "    # Example: stop after a fixed number of iterations\n",
        "    termination_condition.counter += 1\n",
        "    return termination_condition.counter >= 1000\n",
        "termination_condition.counter = 0\n",
        "\n",
        "# Run local search algorithm\n",
        "best_solution = local_search(initial_solution, generate_neighbor, evaluate_solution, termination_condition)\n",
        "print(f\"Best solution found: {best_solution}\")"
      ],
      "metadata": {
        "id": "EShw4-Y_p8YP"
      },
      "execution_count": null,
      "outputs": []
    },
    {
      "cell_type": "markdown",
      "source": [
        "# 2-opt Algorithm for TSP"
      ],
      "metadata": {
        "id": "GGAJPKmCp7KA"
      }
    },
    {
      "cell_type": "code",
      "source": [
        "import random\n",
        "\n",
        "def two_opt(initial_tour, calculate_distance, termination_condition):\n",
        "    \"\"\"\n",
        "    2-opt algorithm to improve the initial tour for the TSP.\n",
        "\n",
        "    Args:\n",
        "    initial_tour: The initial tour (list of cities).\n",
        "    calculate_distance: Function to calculate the distance of a tour.\n",
        "    termination_condition: Function to determine whether to terminate the algorithm.\n",
        "\n",
        "    Returns:\n",
        "    The best tour found.\n",
        "    \"\"\"\n",
        "    current_tour = initial_tour\n",
        "    best_tour = current_tour\n",
        "    best_distance = calculate_distance(best_tour)\n",
        "\n",
        "    while not termination_condition():\n",
        "        improved = False\n",
        "        for i in range(1, len(current_tour) - 2):\n",
        "            for j in range(i + 1, len(current_tour)):\n",
        "                if j - i == 1:\n",
        "                    continue  # No point in reversing if i and j are adjacent\n",
        "                new_tour = current_tour[:]\n",
        "                new_tour[i:j] = reversed(new_tour[i:j])\n",
        "                new_distance = calculate_distance(new_tour)\n",
        "                if new_distance < best_distance:\n",
        "                    best_tour = new_tour\n",
        "                    best_distance = new_distance\n",
        "                    improved = True\n",
        "                    break\n",
        "            if improved:\n",
        "                break\n",
        "        if not improved:\n",
        "            break\n",
        "\n",
        "    return best_tour\n",
        "\n",
        "# Example usage:\n",
        "# Initial tour (list of cities)\n",
        "initial_tour = [1, 2, 3, 4, 5]\n",
        "\n",
        "# Function to calculate the distance of a tour\n",
        "def calculate_distance(tour):\n",
        "    # Example: sum of distances between consecutive cities\n",
        "    # Replace with actual distance calculation\n",
        "    total_distance = 0\n",
        "    for i in range(len(tour) - 1):\n",
        "        total_distance += abs(tour[i] - tour[i + 1])\n",
        "    total_distance += abs(tour[-1] - tour[0])  # Return to the starting city\n",
        "    return total_distance\n",
        "\n",
        "# Termination condition\n",
        "def termination_condition():\n",
        "    # Example: stop after a fixed number of iterations\n",
        "    termination_condition.counter += 1\n",
        "    return termination_condition.counter >= 100\n",
        "termination_condition.counter = 0\n",
        "\n",
        "# Run 2-opt algorithm\n",
        "best_tour = two_opt(initial_tour, calculate_distance, termination_condition)\n",
        "print(f\"Best tour found: {best_tour}\")\n",
        "print(f\"Distance of the best tour: {calculate_distance(best_tour)}\")"
      ],
      "metadata": {
        "id": "LGH6gYBJp85b"
      },
      "execution_count": null,
      "outputs": []
    },
    {
      "cell_type": "markdown",
      "source": [
        "# Local Search Algorithm for Facility Location Problems"
      ],
      "metadata": {
        "id": "c0sBWvPEpowg"
      }
    },
    {
      "cell_type": "code",
      "source": [
        "import random\n",
        "\n",
        "def local_search_facility_location(initial_placement, calculate_cost, find_neighboring_location, termination_condition):\n",
        "    \"\"\"\n",
        "    Local search algorithm for the facility location problem.\n",
        "\n",
        "    Args:\n",
        "    initial_placement: Dictionary mapping facilities to their initial locations.\n",
        "    calculate_cost: Function to calculate the cost of a placement.\n",
        "    find_neighboring_location: Function to find a neighboring location for a facility.\n",
        "    termination_condition: Function to determine whether to terminate the algorithm.\n",
        "\n",
        "    Returns:\n",
        "    The best placement of facilities found.\n",
        "    \"\"\"\n",
        "    current_placement = initial_placement\n",
        "    best_placement = current_placement\n",
        "    best_cost = calculate_cost(best_placement)\n",
        "\n",
        "    while not termination_condition():\n",
        "        improved = False\n",
        "        for facility in current_placement:\n",
        "            neighboring_location = find_neighboring_location(current_placement, facility)\n",
        "            new_placement = current_placement.copy()\n",
        "            new_placement[facility] = neighboring_location\n",
        "            new_cost = calculate_cost(new_placement)\n",
        "            if new_cost < best_cost:\n",
        "                best_placement = new_placement\n",
        "                best_cost = new_cost\n",
        "                improved = True\n",
        "                break\n",
        "        if not improved:\n",
        "            break\n",
        "\n",
        "    return best_placement\n",
        "\n",
        "# Example usage:\n",
        "# Initial placement of facilities (dictionary mapping facilities to locations)\n",
        "initial_placement = {'facility1': 'location1', 'facility2': 'location2'}\n",
        "\n",
        "# Function to calculate the cost of a placement\n",
        "def calculate_cost(placement):\n",
        "    # Example: sum of distances between facilities and their locations\n",
        "    # Replace with actual cost calculation\n",
        "    total_cost = sum(abs(ord(facility[-1]) - ord(location[-1])) for facility, location in placement.items())\n",
        "    return total_cost\n",
        "\n",
        "# Function to find a neighboring location for a facility\n",
        "def find_neighboring_location(placement, facility):\n",
        "    # Example: generate a neighboring location by shifting the current location\n",
        "    # Replace with actual neighboring location generation logic\n",
        "    current_location = placement[facility]\n",
        "    neighboring_location = current_location[:-1] + chr(ord(current_location[-1]) + random.choice([-1, 1]))\n",
        "    return neighboring_location\n",
        "\n",
        "# Termination condition\n",
        "def termination_condition():\n",
        "    # Example: stop after a fixed number of iterations\n",
        "    termination_condition.counter += 1\n",
        "    return termination_condition.counter >= 100\n",
        "termination_condition.counter = 0\n",
        "\n",
        "# Run local search algorithm for facility location\n",
        "best_placement = local_search_facility_location(initial_placement, calculate_cost, find_neighboring_location, termination_condition)\n",
        "print(f\"Best placement of facilities: {best_placement}\")\n",
        "print(f\"Cost of the best placement: {calculate_cost(best_placement)}\")"
      ],
      "metadata": {
        "id": "lSqNebzyqNzN"
      },
      "execution_count": null,
      "outputs": []
    },
    {
      "cell_type": "markdown",
      "source": [
        "# Greedy Algorithm for Vertex Cover"
      ],
      "metadata": {
        "id": "VN0znq75q5T8"
      }
    },
    {
      "cell_type": "code",
      "source": [
        "import networkx as nx\n",
        "\n",
        "def greedy_vertex_cover(graph):\n",
        "    \"\"\"\n",
        "    Greedy algorithm to find a vertex cover in a graph.\n",
        "\n",
        "    Args:\n",
        "    graph: The input graph (NetworkX graph object).\n",
        "\n",
        "    Returns:\n",
        "    A set of vertices representing the vertex cover.\n",
        "    \"\"\"\n",
        "    vertex_cover = set()  # Set of selected vertices\n",
        "    uncovered_edges = set(graph.edges())  # Set of uncovered edges\n",
        "\n",
        "    while uncovered_edges:  # While there are uncovered edges\n",
        "        max_cover_vertex = None\n",
        "        max_cover_count = 0\n",
        "\n",
        "        for vertex in graph.nodes():\n",
        "            cover_count = sum(1 for edge in graph.edges(vertex) if edge in uncovered_edges)\n",
        "            if cover_count > max_cover_count:\n",
        "                max_cover_vertex = vertex\n",
        "                max_cover_count = cover_count\n",
        "\n",
        "        if max_cover_vertex is not None:\n",
        "            vertex_cover.add(max_cover_vertex)\n",
        "            # Remove edges incident to the selected vertex from the set of uncovered edges\n",
        "            uncovered_edges -= set(graph.edges(max_cover_vertex))\n",
        "\n",
        "    return vertex_cover\n",
        "\n",
        "# Example usage:\n",
        "# Create a sample graph\n",
        "G = nx.Graph()\n",
        "G.add_edges_from([\n",
        "    ('A', 'B'), ('A', 'C'), ('B', 'C'),\n",
        "    ('B', 'D'), ('C', 'E'), ('D', 'E'),\n",
        "    ('D', 'F'), ('E', 'F')\n",
        "])\n",
        "\n",
        "# Find the vertex cover using the greedy algorithm\n",
        "vertex_cover = greedy_vertex_cover(G)\n",
        "print(f\"Vertex cover: {vertex_cover}\")"
      ],
      "metadata": {
        "id": "RzB4zKvrq5yU"
      },
      "execution_count": null,
      "outputs": []
    },
    {
      "cell_type": "markdown",
      "source": [
        "# Greedy Algorithm for Set Cover"
      ],
      "metadata": {
        "id": "nTaZoBzEq9t7"
      }
    },
    {
      "cell_type": "code",
      "source": [
        "def greedy_set_cover(universe, subsets):\n",
        "    \"\"\"\n",
        "    Greedy algorithm to find a set cover.\n",
        "\n",
        "    Args:\n",
        "    universe: The universal set of elements.\n",
        "    subsets: A list of subsets of the universal set.\n",
        "\n",
        "    Returns:\n",
        "    A list of selected subsets that cover the universe.\n",
        "    \"\"\"\n",
        "    selected_subsets = []  # C: set of selected subsets\n",
        "    uncovered_elements = set(universe)  # U': set of uncovered elements\n",
        "\n",
        "    while uncovered_elements:  # While U' is not empty\n",
        "        max_covered = set()\n",
        "        max_subset = None\n",
        "\n",
        "        for subset in subsets:\n",
        "            covered = subset.intersection(uncovered_elements)\n",
        "            if len(covered) > len(max_covered):\n",
        "                max_covered = covered\n",
        "                max_subset = subset\n",
        "\n",
        "        if max_subset is None:\n",
        "            break  # No subset covers any uncovered element\n",
        "\n",
        "        selected_subsets.append(max_subset)  # Add the subset to C\n",
        "        uncovered_elements -= max_subset  # Remove covered elements from U'\n",
        "\n",
        "    return selected_subsets\n",
        "\n",
        "# Example usage:\n",
        "universe = {1, 2, 3, 4, 5}\n",
        "subsets = [{1, 2, 3}, {2, 3, 4}, {4, 5}]\n",
        "\n",
        "solution = greedy_set_cover(universe, subsets)\n",
        "print(\"Selected subsets:\", solution)\n"
      ],
      "metadata": {
        "colab": {
          "base_uri": "https://localhost:8080/"
        },
        "id": "EPqMwjQmq-GL",
        "outputId": "c15b4463-cf12-43a5-f2da-fa35449f3e8e"
      },
      "execution_count": null,
      "outputs": [
        {
          "output_type": "stream",
          "name": "stdout",
          "text": [
            "Selected subsets: [{1, 2, 3}, {4, 5}]\n"
          ]
        }
      ]
    },
    {
      "cell_type": "markdown",
      "source": [
        "# Greedy Approximation for Subset Sum Problem"
      ],
      "metadata": {
        "id": "Be01IHk1WuwG"
      }
    },
    {
      "cell_type": "code",
      "source": [
        "def Greedy_Subset_Sum(items, target):\n",
        "    # Sort items by value-to-cost ratio in descending order\n",
        "    items.sort(key=lambda x: x.value / x.cost, reverse=True)\n",
        "\n",
        "    selected_items = []\n",
        "    current_sum = 0\n",
        "\n",
        "    # Iterate through sorted items\n",
        "    for item in items:\n",
        "        if current_sum + item.cost <= target:\n",
        "            selected_items.append(item)\n",
        "            current_sum += item.cost\n",
        "\n",
        "    return selected_items"
      ],
      "metadata": {
        "id": "wC9QTa01Wvvd"
      },
      "execution_count": null,
      "outputs": []
    },
    {
      "cell_type": "markdown",
      "source": [
        "# Greedy Approximation for Feature Selection"
      ],
      "metadata": {
        "id": "tcUYpoC0Wy8J"
      }
    },
    {
      "cell_type": "code",
      "source": [
        "def Greedy_Feature_Selection(features, budget):\n",
        "    # Sort features by performance-to-cost ratio in descending order\n",
        "    features.sort(key=lambda x: x.performance / x.cost, reverse=True)\n",
        "\n",
        "    selected_features = []\n",
        "    current_cost = 0\n",
        "\n",
        "    # Iterate through sorted features\n",
        "    for feature in features:\n",
        "        if current_cost + feature.cost <= budget:\n",
        "            selected_features.append(feature)\n",
        "            current_cost += feature.cost\n",
        "\n",
        "    return selected_features"
      ],
      "metadata": {
        "id": "yuJoXVnyWzrR"
      },
      "execution_count": null,
      "outputs": []
    },
    {
      "cell_type": "markdown",
      "source": [
        "# Minimum Spanning Tree (MST)"
      ],
      "metadata": {
        "id": "rbCd4C-frO6_"
      }
    },
    {
      "cell_type": "code",
      "source": [
        "def MST(graph):\n",
        "    \"\"\"\n",
        "    Greedy algorithm to find the Minimum Spanning Tree (MST) of a graph.\n",
        "\n",
        "    Args:\n",
        "    graph: The input graph represented as an adjacency list with edge costs.\n",
        "\n",
        "    Returns:\n",
        "    A set of edges representing the MST.\n",
        "    \"\"\"\n",
        "    T = set()  # Initialize empty tree\n",
        "    visited = set()  # Set to keep track of visited vertices\n",
        "\n",
        "    # Start from an arbitrary node, here we choose the first node in the graph\n",
        "    start_node = next(iter(graph))\n",
        "    visited.add(start_node)\n",
        "\n",
        "    while len(T) < len(graph) - 1:  # Until T forms a spanning tree\n",
        "        min_cost = float('inf')  # Initialize minimum cost to infinity\n",
        "        min_edge = None  # Initialize minimum cost edge to None\n",
        "\n",
        "        for u in visited:\n",
        "            for v, cost in graph[u].items():\n",
        "                if v not in visited and cost < min_cost:\n",
        "                    min_cost = cost\n",
        "                    min_edge = (u, v)\n",
        "\n",
        "        if min_edge is None:\n",
        "            break  # If no edge found, break the loop\n",
        "\n",
        "        u, v = min_edge\n",
        "        T.add((u, v))  # Add minimum cost edge to T\n",
        "        visited.add(v)  # Mark v as visited\n",
        "\n",
        "    return T\n",
        "\n",
        "# Example usage:\n",
        "graph = {\n",
        "    'A': {'B': 2, 'C': 3},\n",
        "    'B': {'A': 2, 'C': 1},\n",
        "    'C': {'A': 3, 'B': 1}\n",
        "}\n",
        "\n",
        "print(\"Minimum Spanning Tree:\", MST(graph))"
      ],
      "metadata": {
        "id": "qpkpY34OrPSq"
      },
      "execution_count": null,
      "outputs": []
    },
    {
      "cell_type": "markdown",
      "source": [
        "# Greedy Scheduling Algorithm"
      ],
      "metadata": {
        "id": "HLDp5Xb7rkUe"
      }
    },
    {
      "cell_type": "code",
      "source": [
        "class Job:\n",
        "    def __init__(self, job_id, criterion):\n",
        "        self.job_id = job_id\n",
        "        self.criterion = criterion\n",
        "\n",
        "class Machine:\n",
        "    def __init__(self):\n",
        "        self.jobs = []\n",
        "        self.available_time = 0\n",
        "\n",
        "    def assign_job(self, job):\n",
        "        self.jobs.append(job)\n",
        "        self.available_time += job.criterion  # Assuming criterion is the job duration\n",
        "\n",
        "def greedy_scheduling(jobs):\n",
        "    \"\"\"\n",
        "    Greedy scheduling algorithm to assign jobs to machines.\n",
        "\n",
        "    Args:\n",
        "    jobs: A list of Job objects.\n",
        "\n",
        "    Returns:\n",
        "    A list of Machine objects with assigned jobs.\n",
        "    \"\"\"\n",
        "    # Sort jobs based on a selected criterion (e.g., job duration)\n",
        "    sorted_jobs = sorted(jobs, key=lambda x: x.criterion)\n",
        "\n",
        "    # Initialize machines (for simplicity, we assume 2 machines here)\n",
        "    schedule = [Machine() for _ in range(2)]\n",
        "\n",
        "    # Iterate through sorted jobs\n",
        "    for job in sorted_jobs:\n",
        "        # Assign job to the machine with the earliest available time\n",
        "        machine = min(schedule, key=lambda x: x.available_time)\n",
        "        machine.assign_job(job)\n",
        "\n",
        "    return schedule\n",
        "\n",
        "# Example usage:\n",
        "jobs = [Job('Job1', 5), Job('Job2', 2), Job('Job3', 3), Job('Job4', 7)]\n",
        "\n",
        "# Run the greedy scheduling algorithm\n",
        "schedule = greedy_scheduling(jobs)\n",
        "\n",
        "# Print the schedule\n",
        "for i, machine in enumerate(schedule):\n",
        "    print(f\"Machine {i + 1}:\")\n",
        "    for job in machine.jobs:\n",
        "        print(f\"  {job.job_id} (Duration: {job.criterion})\")"
      ],
      "metadata": {
        "id": "OPZ7sQrJrksO"
      },
      "execution_count": null,
      "outputs": []
    },
    {
      "cell_type": "markdown",
      "source": [
        "# k-means Algorithm"
      ],
      "metadata": {
        "id": "iDnLY-r6rs1Y"
      }
    },
    {
      "cell_type": "code",
      "source": [
        "import numpy as np\n",
        "\n",
        "def kMeans(documents, k):\n",
        "    \"\"\"\n",
        "    k-means clustering algorithm to partition documents into k clusters.\n",
        "\n",
        "    Args:\n",
        "    documents: A list of document vectors.\n",
        "    k: The number of clusters.\n",
        "\n",
        "    Returns:\n",
        "    A list of clusters, each containing the document vectors assigned to that cluster.\n",
        "    \"\"\"\n",
        "    # Initialize centroids randomly\n",
        "    centroids = np.random.rand(k, len(documents[0]))\n",
        "\n",
        "    while True:\n",
        "        # Assign each document to the nearest centroid\n",
        "        clusters = [[] for _ in range(k)]\n",
        "        for document in documents:\n",
        "            distances = [np.linalg.norm(document - centroid) for centroid in centroids]\n",
        "            nearest_centroid_idx = np.argmin(distances)\n",
        "            clusters[nearest_centroid_idx].append(document)\n",
        "\n",
        "        # Update centroids as the mean of documents in each cluster\n",
        "        new_centroids = [np.mean(cluster, axis=0) if cluster else centroids[idx] for idx, cluster in enumerate(clusters)]\n",
        "\n",
        "        # Check for convergence\n",
        "        if np.array_equal(centroids, new_centroids):\n",
        "            break\n",
        "\n",
        "        centroids = new_centroids\n",
        "\n",
        "    return clusters\n",
        "\n",
        "# Example usage:\n",
        "# documents is a list of document vectors\n",
        "documents = np.array([[1, 2, 3], [4, 5, 6], [7, 8, 9], [10, 11, 12], [13, 14, 15]])\n",
        "# k is the number of clusters\n",
        "k = 3\n",
        "clusters = kMeans(documents, k)\n",
        "print(\"Clusters:\")\n",
        "for i, cluster in enumerate(clusters):\n",
        "    print(f\"Cluster {i + 1}: {cluster}\")"
      ],
      "metadata": {
        "id": "ARlr-HLwrtk6"
      },
      "execution_count": null,
      "outputs": []
    }
  ]
}