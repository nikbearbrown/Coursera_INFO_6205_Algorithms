{
  "nbformat": 4,
  "nbformat_minor": 0,
  "metadata": {
    "colab": {
      "provenance": []
    },
    "kernelspec": {
      "name": "python3",
      "display_name": "Python 3"
    },
    "language_info": {
      "name": "python"
    }
  },
  "cells": [
    {
      "cell_type": "markdown",
      "source": [
        "# Sorting with Greedy Algorithms"
      ],
      "metadata": {
        "id": "3zNh9qA5lCN5"
      }
    },
    {
      "cell_type": "code",
      "execution_count": null,
      "metadata": {
        "id": "s7Vu-TaMkmpj"
      },
      "outputs": [],
      "source": [
        "def greedy_schedule(tasks):\n",
        "    \"\"\"\n",
        "    Greedy algorithm to schedule tasks to maximize profit without missing deadlines.\n",
        "\n",
        "    Args:\n",
        "    tasks: A list of tuples representing the tasks. Each tuple contains (task_id, profit, deadline).\n",
        "\n",
        "    Returns:\n",
        "    A list of scheduled tasks that maximizes profit.\n",
        "    \"\"\"\n",
        "    # Sort tasks by profit in decreasing order\n",
        "    tasks.sort(key=lambda x: x[1], reverse=True)\n",
        "\n",
        "    schedule = []  # List to store the scheduled tasks\n",
        "    n = len(tasks)  # Total number of tasks\n",
        "\n",
        "    for i in range(n):\n",
        "        task_id, profit, deadline = tasks[i]\n",
        "        # Insert task at the latest possible position without missing the deadline\n",
        "        while deadline > 0:\n",
        "            # Check if the slot is available\n",
        "            if deadline not in [x[2] for x in schedule]:\n",
        "                schedule.append((task_id, profit, deadline))\n",
        "                break\n",
        "            deadline -= 1\n",
        "\n",
        "    return schedule\n",
        "\n",
        "# Example tasks Format: (task_id, profit, deadline)\n",
        "tasks = [(1, 40, 2), (2, 35, 1), (3, 30, 3), (4, 25, 1), (5, 20, 3)]\n",
        "scheduled_tasks = greedy_schedule(tasks)\n",
        "print(\"Scheduled tasks:\", scheduled_tasks)"
      ]
    },
    {
      "cell_type": "markdown",
      "source": [
        "# Greedy Coin Change Algorithm"
      ],
      "metadata": {
        "id": "JtqiOmVYlFrA"
      }
    },
    {
      "cell_type": "code",
      "source": [
        "def greedy_coin_change(amount, coins):\n",
        "    \"\"\"\n",
        "    Greedy algorithm to find the minimum number of coins needed to make a given amount.\n",
        "\n",
        "    Args:\n",
        "    amount: The amount of money to change.\n",
        "    coins: A list of coin denominations.\n",
        "\n",
        "    Returns:\n",
        "    The minimum number of coins needed to make the given amount.\n",
        "    \"\"\"\n",
        "    change = []  # List to store the number of each coin used\n",
        "    coins.sort(reverse=True)  # Sort the coins in decreasing order\n",
        "\n",
        "    for coin in coins:\n",
        "        numCoins = amount // coin  # Find the maximum number of this coin that fits into the remaining amount\n",
        "        change.append(numCoins)  # Add this number to the change list\n",
        "        amount -= numCoins * coin  # Subtract the total value of these coins from the remaining amount\n",
        "\n",
        "    return sum(change)  # Return the total number of coins used\n",
        "\n",
        "# Example usage:\n",
        "amount = 63\n",
        "coins = [25, 10, 5, 1]\n",
        "min_coins = greedy_coin_change(amount, coins)\n",
        "print(f\"Minimum number of coins to make {amount}: {min_coins}\")"
      ],
      "metadata": {
        "id": "PN_JuieblbL0"
      },
      "execution_count": null,
      "outputs": []
    },
    {
      "cell_type": "markdown",
      "source": [
        "# Activity Selection"
      ],
      "metadata": {
        "id": "4EXcvumPom_j"
      }
    },
    {
      "cell_type": "code",
      "source": [
        "def activity_selection(activities):\n",
        "    \"\"\"\n",
        "    Greedy algorithm to select the maximum number of activities that don't overlap.\n",
        "\n",
        "    Args:\n",
        "    activities: A list of tuples where each tuple represents an activity with a start and end time (start, end).\n",
        "\n",
        "    Returns:\n",
        "    A list of selected activities that don't overlap.\n",
        "    \"\"\"\n",
        "    # Sort the activities based on their end times\n",
        "    sorted_activities = sorted(activities, key=lambda x: x[1])\n",
        "    # Initialize the list of selected activities with the first activity\n",
        "    selected_activities = [sorted_activities[0]]\n",
        "\n",
        "    # Iterate through the remaining activities\n",
        "    for activity in sorted_activities[1:]:\n",
        "        # If the start time of the current activity is greater than or equal to the end time of the last selected activity\n",
        "        if activity[0] >= selected_activities[-1][1]:\n",
        "            selected_activities.append(activity)\n",
        "\n",
        "    return selected_activities\n",
        "\n",
        "# Example usage:\n",
        "activities = [(1, 4), (3, 5), (0, 6), (5, 7), (3, 9), (5, 9), (6, 10), (8, 11), (8, 12), (2, 14), (12, 16)]\n",
        "selected_activities = activity_selection(activities)\n",
        "print(\"Selected activities:\", selected_activities)"
      ],
      "metadata": {
        "id": "lPOycFTYooCb"
      },
      "execution_count": null,
      "outputs": []
    },
    {
      "cell_type": "markdown",
      "source": [
        "# Greedy Fractional Knapsack"
      ],
      "metadata": {
        "id": "fhqlB-WPozPc"
      }
    },
    {
      "cell_type": "code",
      "source": [
        "def fractional_knapsack(items, W):\n",
        "    \"\"\"\n",
        "    Greedy algorithm to solve the fractional knapsack problem.\n",
        "\n",
        "    Args:\n",
        "    items: A list of tuples where each tuple represents an item with a weight and value (weight, value).\n",
        "    W: The maximum weight capacity of the knapsack.\n",
        "\n",
        "    Returns:\n",
        "    The maximum value that can be carried in the knapsack.\n",
        "    \"\"\"\n",
        "    # Sort items by decreasing value-to-weight ratio\n",
        "    items.sort(key=lambda x: x[1] / x[0], reverse=True)\n",
        "\n",
        "    total_value = 0  # Total value of items taken\n",
        "    remaining_weight = W  # Remaining weight capacity of the knapsack\n",
        "\n",
        "    # Iterate through items\n",
        "    for weight, value in items:\n",
        "        # If item's weight can fit into remaining weight\n",
        "        if weight <= remaining_weight:\n",
        "            total_value += value  # Add the full value of the item\n",
        "            remaining_weight -= weight  # Reduce the remaining weight by the item's weight\n",
        "        else:\n",
        "            # Take fraction of the item\n",
        "            fraction = remaining_weight / weight\n",
        "            total_value += fraction * value  # Add the value of the fraction of the item\n",
        "            remaining_weight = 0  # The knapsack is now full\n",
        "            break  # No more items can be added\n",
        "\n",
        "    return total_value  # Return the total value of items taken\n",
        "\n",
        "# Example usage:\n",
        "items = [(20, 100), (30, 120)]  # List of (weight, value) tuples\n",
        "W = 50  # Knapsack capacity\n",
        "print(\"Total value:\", fractional_knapsack(items, W))"
      ],
      "metadata": {
        "id": "PN-dIjDRo0-v"
      },
      "execution_count": null,
      "outputs": []
    },
    {
      "cell_type": "markdown",
      "source": [
        "# Greedy Interval Scheduling"
      ],
      "metadata": {
        "id": "bcPoZx7TpVGU"
      }
    },
    {
      "cell_type": "code",
      "source": [
        "def interval_scheduling(intervals):\n",
        "    \"\"\"\n",
        "    Greedy algorithm to select the maximum number of non-overlapping intervals.\n",
        "\n",
        "    Args:\n",
        "    intervals: A list of tuples where each tuple represents an interval with a start and end time (start, end).\n",
        "\n",
        "    Returns:\n",
        "    A list of selected intervals that don't overlap.\n",
        "    \"\"\"\n",
        "    # Sort intervals by their end times\n",
        "    intervals.sort(key=lambda x: x[1])\n",
        "\n",
        "    selected_intervals = []  # List to store the selected intervals\n",
        "    end_time = float('-inf')  # Initialize end_time to the smallest possible value\n",
        "\n",
        "    # Iterate through the sorted intervals\n",
        "    for interval in intervals:\n",
        "        # If the start time of the current interval is greater than or equal to the end time of the last selected interval\n",
        "        if interval[0] >= end_time:\n",
        "            selected_intervals.append(interval)  # Select the current interval\n",
        "            end_time = interval[1]  # Update the end time to the end time of the current interval\n",
        "\n",
        "    return selected_intervals  # Return the list of selected intervals\n",
        "\n",
        "# Example usage:\n",
        "intervals = [(1, 4), (3, 5), (0, 6), (5, 7), (3, 9), (5, 9), (6, 10), (8, 11), (8, 12), (2, 14), (12, 16)]\n",
        "selected_intervals = interval_scheduling(intervals)\n",
        "print(\"Selected intervals:\", selected_intervals)"
      ],
      "metadata": {
        "id": "x2JDwFespXLF"
      },
      "execution_count": null,
      "outputs": []
    },
    {
      "cell_type": "markdown",
      "source": [
        "# Greedy Interval Partitioning"
      ],
      "metadata": {
        "id": "1JwKd2Dspmn8"
      }
    },
    {
      "cell_type": "code",
      "source": [
        "def interval_partitioning(tasks):\n",
        "    \"\"\"\n",
        "    Interval Partitioning algorithm to schedule tasks using the minimum number of resources.\n",
        "\n",
        "    Args:\n",
        "    tasks: A list of tuples where each tuple represents a task with a start and end time (start, end).\n",
        "\n",
        "    Returns:\n",
        "    A list of lists, where each inner list contains the tasks assigned to a specific resource.\n",
        "    \"\"\"\n",
        "    # Sort tasks by their start times\n",
        "    tasks.sort(key=lambda x: x[0])\n",
        "\n",
        "    # Initialize a list of resources\n",
        "    resources = []\n",
        "\n",
        "    for task in tasks:\n",
        "        # Try to find a resource that can take the current task\n",
        "        placed = False\n",
        "        for resource in resources:\n",
        "            if resource[-1][1] <= task[0]:\n",
        "                resource.append(task)\n",
        "                placed = True\n",
        "                break\n",
        "        # If no such resource exists, create a new one\n",
        "        if not placed:\n",
        "            resources.append([task])\n",
        "\n",
        "    return resources\n",
        "\n",
        "# Example Usage\n",
        "tasks = [(1, 3), (2, 4), (3, 6), (5, 7), (6, 9)]\n",
        "resources = interval_partitioning(tasks)\n",
        "print(\"Resources allocation:\", resources)"
      ],
      "metadata": {
        "id": "923zX9sYpork"
      },
      "execution_count": null,
      "outputs": []
    },
    {
      "cell_type": "markdown",
      "source": [
        "# Kruskal's Algorithm for Minimum Spanning Tree"
      ],
      "metadata": {
        "id": "rep5J5aNqQel"
      }
    },
    {
      "cell_type": "code",
      "source": [
        "class DisjointSet:\n",
        "    \"\"\"\n",
        "    Disjoint Set data structure (Union-Find) with path compression and union by rank.\n",
        "    \"\"\"\n",
        "    def __init__(self, vertices):\n",
        "        self.parent = {v: v for v in vertices}\n",
        "        self.rank = {v: 0 for v in vertices}\n",
        "\n",
        "    def find(self, v):\n",
        "        \"\"\"\n",
        "        Find the root of the set containing vertex v with path compression.\n",
        "        \"\"\"\n",
        "        if self.parent[v] != v:\n",
        "            self.parent[v] = self.find(self.parent[v])\n",
        "        return self.parent[v]\n",
        "\n",
        "    def union(self, u, v):\n",
        "        \"\"\"\n",
        "        Union the sets containing u and v using union by rank.\n",
        "        \"\"\"\n",
        "        root_u = self.find(u)\n",
        "        root_v = self.find(v)\n",
        "        if root_u == root_v:\n",
        "            return False\n",
        "        if self.rank[root_u] < self.rank[root_v]:\n",
        "            self.parent[root_u] = root_v\n",
        "        elif self.rank[root_u] > self.rank[root_v]:\n",
        "            self.parent[root_v] = root_u\n",
        "        else:\n",
        "            self.parent[root_v] = root_u\n",
        "            self.rank[root_u] += 1\n",
        "        return True\n",
        "\n",
        "def kruskal_mst(graph):\n",
        "    \"\"\"\n",
        "    Kruskal's algorithm to find the Minimum Spanning Tree (MST) of a graph.\n",
        "\n",
        "    Args:\n",
        "    graph: A dictionary representing the graph where keys are vertices and values are lists of tuples (neighbor, weight).\n",
        "\n",
        "    Returns:\n",
        "    A list of edges in the MST.\n",
        "    \"\"\"\n",
        "    vertices = set()\n",
        "    edges = []\n",
        "\n",
        "    # Collect all vertices and edges\n",
        "    for u, neighbors in graph.items():\n",
        "        vertices.add(u)\n",
        "        for v, weight in neighbors:\n",
        "            edges.append((weight, u, v))\n",
        "            vertices.add(v)\n",
        "\n",
        "    disjoint_set = DisjointSet(vertices)\n",
        "    mst = []\n",
        "    edges.sort()  # Sort edges by weight\n",
        "\n",
        "    # Iterate through sorted edges and add to MST if they don't form a cycle\n",
        "    for weight, u, v in edges:\n",
        "        if disjoint_set.union(u, v):\n",
        "            mst.append((u, v))\n",
        "\n",
        "    return mst\n",
        "\n",
        "# Example usage:\n",
        "graph = {\n",
        "    'A': [('B', 2), ('C', 3)],\n",
        "    'B': [('C', 4), ('D', 5)],\n",
        "    'C': [('D', 2), ('F', 1), ('E', 7)],\n",
        "    'D': [('E', 6)],\n",
        "    'E': [('F', 8)],\n",
        "    'F': []\n",
        "}\n",
        "\n",
        "minimum_spanning_tree = kruskal_mst(graph)\n",
        "print(\"Minimum Spanning Tree:\", minimum_spanning_tree)"
      ],
      "metadata": {
        "id": "ZtMxepznqTG0"
      },
      "execution_count": null,
      "outputs": []
    },
    {
      "cell_type": "markdown",
      "source": [
        "# Boruvka's Algorithm"
      ],
      "metadata": {
        "id": "TvHMp7IZqruk"
      }
    },
    {
      "cell_type": "code",
      "source": [
        "class Subset:\n",
        "    \"\"\"\n",
        "    Class to represent a subset for union-find.\n",
        "    \"\"\"\n",
        "    def __init__(self, parent, rank):\n",
        "        self.parent = parent\n",
        "        self.rank = rank\n",
        "\n",
        "def find(subsets, i):\n",
        "    \"\"\"\n",
        "    Find the root of the set containing element i with path compression.\n",
        "    \"\"\"\n",
        "    if subsets[i].parent != i:\n",
        "        subsets[i].parent = find(subsets, subsets[i].parent)\n",
        "    return subsets[i].parent\n",
        "\n",
        "def union(subsets, x, y):\n",
        "    \"\"\"\n",
        "    Union of two sets of x and y using union by rank.\n",
        "    \"\"\"\n",
        "    xroot = find(subsets, x)\n",
        "    yroot = find(subsets, y)\n",
        "\n",
        "    if subsets[xroot].rank < subsets[yroot].rank:\n",
        "        subsets[xroot].parent = yroot\n",
        "    elif subsets[xroot].rank > subsets[yroot].rank:\n",
        "        subsets[yroot].parent = xroot\n",
        "    else:\n",
        "        subsets[yroot].parent = xroot\n",
        "        subsets[xroot].rank += 1\n",
        "\n",
        "def boruvka_mst(graph):\n",
        "    \"\"\"\n",
        "    Borůvka's algorithm to find the Minimum Spanning Tree (MST) of a graph.\n",
        "\n",
        "    Args:\n",
        "    graph: A list of tuples where each tuple represents an edge with (u, v, weight).\n",
        "\n",
        "    Returns:\n",
        "    A list of edges in the MST.\n",
        "    \"\"\"\n",
        "    result = []  # Store the resultant MST\n",
        "    subsets = []\n",
        "    V = max(max(u, v) for u, v, _ in graph) + 1  # Number of vertices in graph\n",
        "\n",
        "    # Initialize subsets for union-find\n",
        "    for v in range(V):\n",
        "        subsets.append(Subset(v, 0))\n",
        "\n",
        "    num_components = V  # Initially, all vertices are individual components\n",
        "\n",
        "    while num_components > 1:\n",
        "        # Initialize cheapest array to store the cheapest edge of each component\n",
        "        cheapest = [-1] * V\n",
        "\n",
        "        # Iterate through all edges to find the cheapest edge for each component\n",
        "        for u, v, weight in graph:\n",
        "            set1 = find(subsets, u)\n",
        "            set2 = find(subsets, v)\n",
        "\n",
        "            if set1 != set2:\n",
        "                if cheapest[set1] == -1 or cheapest[set1][2] > weight:\n",
        "                    cheapest[set1] = (u, v, weight)\n",
        "                if cheapest[set2] == -1 or cheapest[set2][2] > weight:\n",
        "                    cheapest[set2] = (u, v, weight)\n",
        "\n",
        "        # Add the cheapest edges to the result and union the components\n",
        "        for node in range(V):\n",
        "            if cheapest[node] != -1:\n",
        "                u, v, weight = cheapest[node]\n",
        "                set1 = find(subsets, u)\n",
        "                set2 = find(subsets, v)\n",
        "\n",
        "                if set1 != set2:\n",
        "                    result.append((u, v, weight))\n",
        "                    union(subsets, set1, set2)\n",
        "                    num_components -= 1\n",
        "\n",
        "    return result\n",
        "\n",
        "# Example usage:\n",
        "graph = [(0, 1, 10), (0, 2, 6), (0, 3, 5), (1, 3, 15), (2, 3, 4)]\n",
        "print(\"Minimum Spanning Tree edges:\")\n",
        "print(boruvka_mst(graph))"
      ],
      "metadata": {
        "id": "ZTYuVhOjqtiX"
      },
      "execution_count": null,
      "outputs": []
    },
    {
      "cell_type": "markdown",
      "source": [
        "# Huffman Coding Algorithm"
      ],
      "metadata": {
        "id": "idSHkEoPsOpy"
      }
    },
    {
      "cell_type": "code",
      "source": [
        "import heapq\n",
        "\n",
        "class Node:\n",
        "    \"\"\"\n",
        "    Node class for Huffman Tree.\n",
        "    \"\"\"\n",
        "    def __init__(self, char, frequency):\n",
        "        self.char = char\n",
        "        self.frequency = frequency\n",
        "        self.left = None\n",
        "        self.right = None\n",
        "\n",
        "    # Defining less than operator for priority queue comparison\n",
        "    def __lt__(self, other):\n",
        "        return self.frequency < other.frequency\n",
        "\n",
        "def huffman_coding(char_freq):\n",
        "    \"\"\"\n",
        "    Huffman coding algorithm to generate the Huffman Tree for given character frequencies.\n",
        "\n",
        "    Args:\n",
        "    char_freq: A dictionary where keys are characters and values are their frequencies.\n",
        "\n",
        "    Returns:\n",
        "    The root node of the Huffman Tree.\n",
        "    \"\"\"\n",
        "    # Create a priority queue (min-heap) with initial nodes\n",
        "    pq = [Node(char, freq) for char, freq in char_freq.items()]\n",
        "    heapq.heapify(pq)\n",
        "\n",
        "    # Iterate until the heap contains only one node\n",
        "    while len(pq) > 1:\n",
        "        # Pop the two nodes with the smallest frequencies\n",
        "        node1 = heapq.heappop(pq)\n",
        "        node2 = heapq.heappop(pq)\n",
        "\n",
        "        # Create a new merged node with these two nodes as children\n",
        "        merged_node = Node(None, node1.frequency + node2.frequency)\n",
        "        merged_node.left = node1\n",
        "        merged_node.right = node2\n",
        "\n",
        "        # Push the merged node back into the priority queue\n",
        "        heapq.heappush(pq, merged_node)\n",
        "\n",
        "    return pq[0]  # Root of Huffman tree\n",
        "\n",
        "def print_huffman_codes(root, code=\"\"):\n",
        "    \"\"\"\n",
        "    Print the Huffman codes for each character in the tree.\n",
        "\n",
        "    Args:\n",
        "    root: The root node of the Huffman Tree.\n",
        "    code: The current Huffman code (used during recursion).\n",
        "    \"\"\"\n",
        "    if root is None:\n",
        "        return\n",
        "\n",
        "    # If this is a leaf node, print the character and its code\n",
        "    if root.char is not None:\n",
        "        print(f\"{root.char}: {code}\")\n",
        "\n",
        "    # Recur for the left and right children\n",
        "    print_huffman_codes(root.left, code + \"0\")\n",
        "    print_huffman_codes(root.right, code + \"1\")\n",
        "\n",
        "# Example usage:\n",
        "char_freq = {'a': 5, 'b': 9, 'c': 12, 'd': 13, 'e': 16, 'f': 45}\n",
        "root = huffman_coding(char_freq)\n",
        "print(\"Huffman Codes:\")\n",
        "print_huffman_codes(root)"
      ],
      "metadata": {
        "id": "unV0K7D5sRrx"
      },
      "execution_count": null,
      "outputs": []
    }
  ]
}