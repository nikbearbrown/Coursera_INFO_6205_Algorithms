{
  "nbformat": 4,
  "nbformat_minor": 0,
  "metadata": {
    "colab": {
      "provenance": []
    },
    "kernelspec": {
      "name": "python3",
      "display_name": "Python 3"
    },
    "language_info": {
      "name": "python"
    }
  },
  "cells": [
    {
      "cell_type": "markdown",
      "source": [
        "# Linear Congruential Generator"
      ],
      "metadata": {
        "id": "yjRYKA6zbdSm"
      }
    },
    {
      "cell_type": "code",
      "execution_count": null,
      "metadata": {
        "id": "NHYAiimYbNQM"
      },
      "outputs": [],
      "source": [
        "class LinearCongruentialGenerator:\n",
        "    def __init__(self, seed, a, c, m):\n",
        "        self.state = seed\n",
        "        self.a = a\n",
        "        self.c = c\n",
        "        self.m = m\n",
        "\n",
        "    def generate(self):\n",
        "        self.state = (self.a * self.state + self.c) % self.m\n",
        "        return self.state\n",
        "\n",
        "    def set_seed(self, seed):\n",
        "        self.state = seed\n",
        "\n",
        "    def get_state(self):\n",
        "        return self.state\n",
        "\n",
        "# Example usage:\n",
        "if __name__ == \"__main__\":\n",
        "    # Initialize LCG with parameters\n",
        "    seed = 123  # Initial seed (can be any integer)\n",
        "    a = 1664525  # Multiplier\n",
        "    c = 1013904223  # Increment\n",
        "    m = 2**32  # Modulus (typically a large prime number or a power of 2)\n",
        "\n",
        "    lcg = LinearCongruentialGenerator(seed, a, c, m)\n",
        "\n",
        "    # Generate a sequence of pseudorandom numbers\n",
        "    num_numbers = 10\n",
        "    random_numbers = [lcg.generate() for _ in range(num_numbers)]\n",
        "\n",
        "    print(\"Generated random numbers:\", random_numbers)"
      ]
    },
    {
      "cell_type": "markdown",
      "source": [
        "# CSPRNG based on the HMAC-SHA256 cryptographic hash function"
      ],
      "metadata": {
        "id": "8TiNB0EGbvXl"
      }
    },
    {
      "cell_type": "code",
      "source": [
        "import os\n",
        "import hmac\n",
        "import hashlib\n",
        "\n",
        "class CSPRNG:\n",
        "    def __init__(self, seed=None):\n",
        "        if seed is None:\n",
        "            seed = os.urandom(32)  # Initialize seed with entropy\n",
        "        self.seed = seed\n",
        "\n",
        "    def generate_random_data(self):\n",
        "        hmac_key = self.seed\n",
        "        random_data = hmac.new(hmac_key, None, hashlib.sha256).digest()\n",
        "        return random_data\n",
        "\n",
        "    def generate_random_bytes(self, num_bytes):\n",
        "        random_data = self.generate_random_data()\n",
        "        return random_data[:num_bytes]\n",
        "\n",
        "    def generate_random_int(self, bits):\n",
        "        random_data = self.generate_random_data()\n",
        "        random_int = int.from_bytes(random_data, byteorder='big') >> (len(random_data) * 8 - bits)\n",
        "        return random_int\n",
        "\n",
        "# Example usage:\n",
        "if __name__ == \"__main__\":\n",
        "    csprng = CSPRNG()\n",
        "\n",
        "    # Generate random data\n",
        "    random_data = csprng.generate_random_data()\n",
        "    print(\"Generated random data:\", random_data.hex())\n",
        "\n",
        "    # Generate random bytes\n",
        "    num_bytes = 16\n",
        "    random_bytes = csprng.generate_random_bytes(num_bytes)\n",
        "    print(f\"Generated {num_bytes} random bytes:\", random_bytes.hex())\n",
        "\n",
        "    # Generate random integer\n",
        "    num_bits = 32\n",
        "    random_int = csprng.generate_random_int(num_bits)\n",
        "    print(f\"Generated {num_bits}-bit random integer:\", random_int)"
      ],
      "metadata": {
        "id": "uVp5xBjubvrB"
      },
      "execution_count": null,
      "outputs": []
    },
    {
      "cell_type": "markdown",
      "source": [
        "# Monte Carlo Estimation of pi"
      ],
      "metadata": {
        "id": "_Oex9JVib32h"
      }
    },
    {
      "cell_type": "code",
      "source": [
        "import random\n",
        "\n",
        "def monte_carlo_pi_estimation(N):\n",
        "    count = 0\n",
        "    total_points = N\n",
        "\n",
        "    for i in range(1, N+1):\n",
        "        x = random.uniform(0, 1)\n",
        "        y = random.uniform(0, 1)\n",
        "\n",
        "        if x**2 + y**2 <= 1:\n",
        "            count += 1\n",
        "\n",
        "    pi_estimate = 4 * (count / total_points)\n",
        "    return pi_estimate\n",
        "\n",
        "# Example usage:\n",
        "if __name__ == \"__main__\":\n",
        "    N = 1000000  # Number of random points\n",
        "    estimated_pi = monte_carlo_pi_estimation(N)\n",
        "    print(f\"Estimated value of pi using {N} random points: {estimated_pi}\")"
      ],
      "metadata": {
        "id": "R0KJWGp6b7FN"
      },
      "execution_count": null,
      "outputs": []
    },
    {
      "cell_type": "markdown",
      "source": [
        "# Quantum Coin Flip"
      ],
      "metadata": {
        "id": "HmWabDTwb_yx"
      }
    },
    {
      "cell_type": "code",
      "source": [
        "from qiskit import QuantumCircuit, Aer, transpile, assemble\n",
        "from qiskit.visualization import plot_histogram\n",
        "import numpy as np\n",
        "\n",
        "def quantum_coin_flip():\n",
        "    # Initialize quantum circuit with 1 qubit and 1 classical bit\n",
        "    circuit = QuantumCircuit(1, 1)\n",
        "\n",
        "    # Apply Hadamard gate to create superposition\n",
        "    circuit.h(0)\n",
        "\n",
        "    # Measure the qubit\n",
        "    circuit.measure(0, 0)\n",
        "\n",
        "    # Simulate the quantum circuit\n",
        "    simulator = Aer.get_backend('qasm_simulator')\n",
        "    compiled_circuit = transpile(circuit, simulator)\n",
        "    qobj = assemble(compiled_circuit)\n",
        "    result = simulator.run(qobj).result()\n",
        "\n",
        "    # Extract and print the results\n",
        "    counts = result.get_counts(circuit)\n",
        "    outcome = list(counts.keys())[0]\n",
        "    if outcome == '0':\n",
        "        print(\"Outcome: Heads\")\n",
        "    else:\n",
        "        print(\"Outcome: Tails\")\n",
        "\n",
        "    # Plot the histogram of measurement results\n",
        "    plot_histogram(counts)\n",
        "\n",
        "# Example usage:\n",
        "if __name__ == \"__main__\":\n",
        "    quantum_coin_flip()"
      ],
      "metadata": {
        "id": "oSsu8I3FcAHn"
      },
      "execution_count": null,
      "outputs": []
    },
    {
      "cell_type": "markdown",
      "source": [
        "# Random Walk Simulation"
      ],
      "metadata": {
        "id": "3Y6_mw50cJb2"
      }
    },
    {
      "cell_type": "code",
      "source": [
        "import numpy as np\n",
        "import matplotlib.pyplot as plt\n",
        "\n",
        "def random_walk_simulation(initial_price, T, distribution='normal', params=None):\n",
        "    # Initialize price array with initial price\n",
        "    prices = [initial_price]\n",
        "\n",
        "    # Generate random steps based on distribution\n",
        "    for t in range(1, T + 1):\n",
        "        if distribution == 'normal':\n",
        "            # Generate step from Normal distribution\n",
        "            step = np.random.normal(*params)\n",
        "        elif distribution == 'uniform':\n",
        "            # Generate step from Uniform distribution\n",
        "            step = np.random.uniform(*params)\n",
        "        else:\n",
        "            raise ValueError(\"Distribution not supported.\")\n",
        "\n",
        "        # Update price\n",
        "        new_price = prices[-1] + step\n",
        "        prices.append(new_price)\n",
        "\n",
        "    return prices\n",
        "\n",
        "# Example usage:\n",
        "if __name__ == \"__main__\":\n",
        "    initial_price = 100  # Initial price\n",
        "    T = 100  # Number of time steps\n",
        "    params = (0, 1)  # Parameters for Normal distribution (mean, std)\n",
        "\n",
        "    # Simulate random walk with Normal distribution\n",
        "    prices = random_walk_simulation(initial_price, T, distribution='normal', params=params)\n",
        "\n",
        "    # Plot the random walk\n",
        "    plt.figure(figsize=(10, 6))\n",
        "    plt.plot(prices, label='Price')\n",
        "    plt.xlabel('Time Steps')\n",
        "    plt.ylabel('Price')\n",
        "    plt.title('Random Walk Simulation')\n",
        "    plt.legend()\n",
        "    plt.grid(True)\n",
        "    plt.show()"
      ],
      "metadata": {
        "id": "xOv7WMa_cJ88"
      },
      "execution_count": null,
      "outputs": []
    },
    {
      "cell_type": "markdown",
      "source": [
        "# Frequency Test Algorithm"
      ],
      "metadata": {
        "id": "aBI1xAB7cSzW"
      }
    },
    {
      "cell_type": "code",
      "source": [
        "import numpy as np\n",
        "from scipy.stats import chi2\n",
        "\n",
        "def frequency_test(X, alpha=0.05):\n",
        "    n = len(X)\n",
        "    unique_values, observed_freq = np.unique(X, return_counts=True)\n",
        "    expected_freq = np.full_like(observed_freq, fill_value=n / len(unique_values))\n",
        "\n",
        "    # Calculate Chi-squared statistic\n",
        "    chi_squared = np.sum((observed_freq - expected_freq)**2 / expected_freq)\n",
        "\n",
        "    # Calculate critical value from Chi-squared distribution\n",
        "    dof = len(unique_values) - 1  # degrees of freedom\n",
        "    critical_value = chi2.ppf(1 - alpha, dof)\n",
        "\n",
        "    # Compare Chi-squared statistic with critical value\n",
        "    if chi_squared > critical_value:\n",
        "        return False  # Reject null hypothesis (sequence is not random)\n",
        "    else:\n",
        "        return True   # Accept null hypothesis (sequence is random)\n",
        "\n",
        "# Example usage:\n",
        "if __name__ == \"__main__\":\n",
        "    # Generate a sequence of numbers (simulating a random sequence)\n",
        "    np.random.seed(0)\n",
        "    sequence = np.random.randint(1, 7, 1000)  # Example sequence from a fair 6-sided die\n",
        "\n",
        "    # Perform frequency test on the sequence\n",
        "    is_random = frequency_test(sequence)\n",
        "\n",
        "    # Output result\n",
        "    if is_random:\n",
        "        print(\"The sequence appears to be random.\")\n",
        "    else:\n",
        "        print(\"The sequence does not appear to be random.\")"
      ],
      "metadata": {
        "id": "RmXMdcpDcTID"
      },
      "execution_count": null,
      "outputs": []
    },
    {
      "cell_type": "markdown",
      "source": [
        "# Random Art Generation"
      ],
      "metadata": {
        "id": "hSTnv4HIcyMs"
      }
    },
    {
      "cell_type": "code",
      "source": [
        "import turtle\n",
        "import random\n",
        "\n",
        "def generate_art(N):\n",
        "    turtle.speed(0)  # Set the drawing speed (0 is fastest)\n",
        "    turtle.hideturtle()  # Hide the turtle icon\n",
        "    turtle.bgcolor(\"white\")  # Set background color\n",
        "    turtle.pensize(2)  # Set pen size\n",
        "\n",
        "    for _ in range(N):\n",
        "        x = random.randint(-200, 200)  # Random x coordinate within range\n",
        "        y = random.randint(-200, 200)  # Random y coordinate within range\n",
        "        color = (random.random(), random.random(), random.random())  # Random RGB color\n",
        "        size = random.randint(10, 100)  # Random size of the circle\n",
        "\n",
        "        turtle.penup()\n",
        "        turtle.goto(x, y)  # Move turtle to the random coordinates\n",
        "        turtle.pendown()\n",
        "        turtle.color(color)  # Set the circle color\n",
        "        turtle.begin_fill()  # Begin filling the circle with the color\n",
        "        turtle.circle(size)  # Draw a circle with the random size\n",
        "        turtle.end_fill()  # End filling the circle\n",
        "\n",
        "    turtle.done()  # Finish the turtle graphics\n",
        "\n",
        "# Example usage:\n",
        "generate_art(100)  # Generate 100 random circles as art"
      ],
      "metadata": {
        "id": "XB8alC_Fcyir"
      },
      "execution_count": null,
      "outputs": []
    },
    {
      "cell_type": "markdown",
      "source": [
        "# Generative Adversarial Network for Handwritten Digit Generation"
      ],
      "metadata": {
        "id": "sGegw5Zkc19X"
      }
    },
    {
      "cell_type": "code",
      "source": [
        "import tensorflow as tf\n",
        "from tensorflow.keras import layers, models, datasets, optimizers\n",
        "\n",
        "# Define the generator network architecture\n",
        "def build_generator(latent_dim):\n",
        "    model = models.Sequential()\n",
        "    model.add(layers.Dense(128, input_dim=latent_dim, activation='relu'))\n",
        "    model.add(layers.Dense(784, activation='sigmoid'))\n",
        "    model.add(layers.Reshape((28, 28)))\n",
        "    return model\n",
        "\n",
        "# Define the discriminator network architecture\n",
        "def build_discriminator():\n",
        "    model = models.Sequential()\n",
        "    model.add(layers.Flatten(input_shape=(28, 28)))\n",
        "    model.add(layers.Dense(128, activation='relu'))\n",
        "    model.add(layers.Dense(1, activation='sigmoid'))\n",
        "    return model\n",
        "\n",
        "# Define the GAN model\n",
        "def build_gan(generator, discriminator):\n",
        "    discriminator.trainable = False\n",
        "    model = models.Sequential()\n",
        "    model.add(generator)\n",
        "    model.add(discriminator)\n",
        "    return model\n",
        "\n",
        "# Define training procedure for GAN\n",
        "def train_gan(generator, discriminator, gan, epochs, batch_size):\n",
        "    (X_train, _), (_, _) = datasets.mnist.load_data()\n",
        "    X_train = X_train.astype('float32') / 255.0\n",
        "    X_train = X_train.reshape((-1, 28, 28))\n",
        "\n",
        "    for epoch in range(epochs):\n",
        "        for _ in range(X_train.shape[0] // batch_size):\n",
        "            # Train discriminator\n",
        "            real_images = X_train[np.random.randint(0, X_train.shape[0], batch_size)]\n",
        "            fake_images = generator.predict(np.random.randn(batch_size, latent_dim))\n",
        "            X = np.concatenate([real_images, fake_images])\n",
        "            y = np.zeros(2 * batch_size)\n",
        "            y[:batch_size] = 0.9  # Label smoothing for real images\n",
        "            discriminator.trainable = True\n",
        "            discriminator.train_on_batch(X, y)\n",
        "\n",
        "            # Train generator\n",
        "            noise = np.random.randn(batch_size, latent_dim)\n",
        "            y = np.ones(batch_size)\n",
        "            discriminator.trainable = False\n",
        "            gan.train_on_batch(noise, y)\n",
        "\n",
        "        # Print progress\n",
        "        if epoch % 10 == 0:\n",
        "            print(f'Epoch {epoch}/{epochs}')\n",
        "\n",
        "# Parameters\n",
        "latent_dim = 100\n",
        "epochs = 100\n",
        "batch_size = 128\n",
        "\n",
        "# Build and compile networks\n",
        "generator = build_generator(latent_dim)\n",
        "discriminator = build_discriminator()\n",
        "gan = build_gan(generator, discriminator)\n",
        "gan.compile(optimizer='adam', loss='binary_crossentropy')\n",
        "\n",
        "# Train GAN\n",
        "train_gan(generator, discriminator, gan, epochs, batch_size)"
      ],
      "metadata": {
        "id": "KYLw2V4Pc2Xd"
      },
      "execution_count": null,
      "outputs": []
    },
    {
      "cell_type": "markdown",
      "source": [
        "# Random Forest Algorithm"
      ],
      "metadata": {
        "id": "FRKHiTKldAMR"
      }
    },
    {
      "cell_type": "code",
      "source": [
        "from sklearn.ensemble import RandomForestClassifier\n",
        "from sklearn.datasets import load_iris\n",
        "from sklearn.model_selection import train_test_split\n",
        "from sklearn.metrics import accuracy_score\n",
        "\n",
        "# Load dataset (example with Iris dataset)\n",
        "iris = load_iris()\n",
        "X = iris.data\n",
        "y = iris.target\n",
        "\n",
        "# Split dataset into training and testing sets\n",
        "X_train, X_test, y_train, y_test = train_test_split(X, y, test_size=0.2, random_state=42)\n",
        "\n",
        "# Initialize Random Forest classifier\n",
        "n_estimators = 100  # Number of trees\n",
        "max_features = 'sqrt'  # Number of features to consider at each split\n",
        "random_forest = RandomForestClassifier(n_estimators=n_estimators, max_features=max_features, random_state=42)\n",
        "\n",
        "# Train Random Forest on the training data\n",
        "random_forest.fit(X_train, y_train)\n",
        "\n",
        "# Predict on the test data\n",
        "y_pred = random_forest.predict(X_test)\n",
        "\n",
        "# Evaluate accuracy\n",
        "accuracy = accuracy_score(y_test, y_pred)\n",
        "print(f\"Accuracy: {accuracy:.2f}\")"
      ],
      "metadata": {
        "id": "vgZPplwidAiq"
      },
      "execution_count": null,
      "outputs": []
    },
    {
      "cell_type": "markdown",
      "source": [
        "# Genetic Algorithm"
      ],
      "metadata": {
        "id": "AFqyJ9bQdMjg"
      }
    },
    {
      "cell_type": "code",
      "source": [
        "import numpy as np\n",
        "\n",
        "def initialize_population(pop_size, chromosome_length):\n",
        "    return np.random.randint(2, size=(pop_size, chromosome_length))\n",
        "\n",
        "def fitness_function(population):\n",
        "    return np.sum(population, axis=1)  # Example fitness: sum of binary genes\n",
        "\n",
        "def select_parents(population, fitness, num_parents):\n",
        "    # Roulette wheel selection based on fitness proportional selection\n",
        "    probabilities = fitness / np.sum(fitness)\n",
        "    parent_indices = np.random.choice(len(population), size=num_parents, replace=False, p=probabilities)\n",
        "    return population[parent_indices]\n",
        "\n",
        "def crossover(parents, offspring_size):\n",
        "    offspring = np.empty(offspring_size)\n",
        "    crossover_point = np.random.randint(1, offspring_size[1] - 1)\n",
        "    for i in range(offspring_size[0]):\n",
        "        parent1_idx = i % parents.shape[0]\n",
        "        parent2_idx = (i + 1) % parents.shape[0]\n",
        "        offspring[i, 0:crossover_point] = parents[parent1_idx, 0:crossover_point]\n",
        "        offspring[i, crossover_point:] = parents[parent2_idx, crossover_point:]\n",
        "    return offspring\n",
        "\n",
        "def mutate(offspring_population, mutation_rate):\n",
        "    for idx in range(offspring_population.shape[0]):\n",
        "        for gene_idx in range(offspring_population.shape[1]):\n",
        "            if np.random.random() < mutation_rate:\n",
        "                offspring_population[idx, gene_idx] = 1 - offspring_population[idx, gene_idx]\n",
        "    return offspring_population\n",
        "\n",
        "def genetic_algorithm(pop_size, chromosome_length, num_generations, mutation_rate):\n",
        "    population = initialize_population(pop_size, chromosome_length)\n",
        "\n",
        "    for generation in range(num_generations):\n",
        "        fitness = fitness_function(population)\n",
        "\n",
        "        parents = select_parents(population, fitness, num_parents=2)\n",
        "\n",
        "        offspring_crossover = crossover(parents, offspring_size=(pop_size - parents.shape[0], chromosome_length))\n",
        "\n",
        "        offspring_mutation = mutate(offspring_crossover, mutation_rate)\n",
        "\n",
        "        population[0:parents.shape[0], :] = parents\n",
        "        population[parents.shape[0]:, :] = offspring_mutation\n",
        "\n",
        "        best_fitness_idx = np.argmax(fitness)\n",
        "        best_individual = population[best_fitness_idx, :]\n",
        "        print(f\"Generation {generation}: Best fitness = {fitness[best_fitness_idx]}\")\n",
        "\n",
        "    best_fitness = np.max(fitness)\n",
        "    best_individual_idx = np.argmax(fitness)\n",
        "    best_individual = population[best_individual_idx, :]\n",
        "    return best_individual, best_fitness\n",
        "\n",
        "# Example usage:\n",
        "np.random.seed(42)\n",
        "pop_size = 10\n",
        "chromosome_length = 8\n",
        "num_generations = 10\n",
        "mutation_rate = 0.01\n",
        "\n",
        "best_solution, best_fitness = genetic_algorithm(pop_size, chromosome_length, num_generations, mutation_rate)\n",
        "print(f\"Best solution found: {best_solution}\")\n",
        "print(f\"Fitness of the best solution: {best_fitness}\")"
      ],
      "metadata": {
        "id": "oxWa09OidM28"
      },
      "execution_count": null,
      "outputs": []
    },
    {
      "cell_type": "markdown",
      "source": [
        "# Lottery Probability Calculation"
      ],
      "metadata": {
        "id": "BZZJiZOBdiAQ"
      }
    },
    {
      "cell_type": "code",
      "source": [
        "import math\n",
        "\n",
        "def calculate_lottery_probability(n, k, m):\n",
        "    \"\"\"\n",
        "    Calculate the probability of winning the lottery with m tickets out of n choose k combinations.\n",
        "\n",
        "    Parameters:\n",
        "    - n: Total number of possible numbers (e.g., total balls in the lottery)\n",
        "    - k: Number of numbers drawn (e.g., balls drawn in the lottery)\n",
        "    - m: Number of tickets (entries) purchased\n",
        "\n",
        "    Returns:\n",
        "    - Probability of winning with m tickets\n",
        "    \"\"\"\n",
        "    total_combinations = math.comb(n, k)  # Calculate total combinations C(n, k)\n",
        "    probability = m / total_combinations  # Probability P = m / C(n, k)\n",
        "    return probability\n",
        "\n",
        "# Example usage:\n",
        "n = 49  # Total numbers in lottery\n",
        "k = 6   # Numbers drawn in each draw\n",
        "m = 1   # Number of tickets purchased\n",
        "\n",
        "probability = calculate_lottery_probability(n, k, m)\n",
        "print(f\"Probability of winning with {m} ticket(s) in a {n}-choose-{k} lottery: {probability}\")"
      ],
      "metadata": {
        "id": "cZ_YOyy5diiq"
      },
      "execution_count": null,
      "outputs": []
    },
    {
      "cell_type": "markdown",
      "source": [
        "# Key Generation with RNG"
      ],
      "metadata": {
        "id": "yq3Ma5WodwU8"
      }
    },
    {
      "cell_type": "code",
      "source": [
        "import secrets\n",
        "import hashlib\n",
        "\n",
        "def generate_crypto_key(key_length=32):\n",
        "    \"\"\"\n",
        "    Generate a cryptographic key using a secure random number generator and hash function.\n",
        "\n",
        "    Parameters:\n",
        "    - key_length: Length of the key in bytes (default: 32)\n",
        "\n",
        "    Returns:\n",
        "    - Cryptographic key as bytes\n",
        "    \"\"\"\n",
        "    # Generate random bytes using a secure RNG\n",
        "    random_bytes = secrets.token_bytes(key_length)\n",
        "\n",
        "    # Apply cryptographic hash function (SHA-256) to the random bytes\n",
        "    hash_object = hashlib.sha256()\n",
        "    hash_object.update(random_bytes)\n",
        "    hashed_key = hash_object.digest()\n",
        "\n",
        "    return hashed_key\n",
        "\n",
        "# Example usage:\n",
        "key_length = 32  # Length of the key in bytes\n",
        "crypto_key = generate_crypto_key(key_length)\n",
        "print(f\"Generated Cryptographic Key (SHA-256): {crypto_key.hex()}\")  # Print hexadecimal representation of the key\n"
      ],
      "metadata": {
        "id": "7VZ_6veLdwrl"
      },
      "execution_count": null,
      "outputs": []
    }
  ]
}