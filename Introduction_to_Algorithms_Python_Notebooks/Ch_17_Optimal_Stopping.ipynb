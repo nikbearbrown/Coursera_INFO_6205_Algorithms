{
  "nbformat": 4,
  "nbformat_minor": 0,
  "metadata": {
    "colab": {
      "provenance": []
    },
    "kernelspec": {
      "name": "python3",
      "display_name": "Python 3"
    },
    "language_info": {
      "name": "python"
    }
  },
  "cells": [
    {
      "cell_type": "markdown",
      "source": [
        "# Dynamic Programming Algorithm for Optimal Stopping"
      ],
      "metadata": {
        "id": "K0oL9tDmvG2-"
      }
    },
    {
      "cell_type": "code",
      "execution_count": null,
      "metadata": {
        "id": "5Hxihn3bujBa"
      },
      "outputs": [],
      "source": [
        "import numpy as np\n",
        "\n",
        "def optimal_stopping(values):\n",
        "    \"\"\"\n",
        "    Dynamic Programming algorithm for Optimal Stopping.\n",
        "\n",
        "    Args:\n",
        "    - values (list): List of values (rewards) for each period.\n",
        "\n",
        "    Returns:\n",
        "    - optimal_value (float): The optimal expected value.\n",
        "    - stopping_rule (list): List indicating the optimal stopping rule.\n",
        "    \"\"\"\n",
        "    n = len(values)\n",
        "    dp = np.zeros(n + 1)\n",
        "    stopping_rule = [0] * n\n",
        "\n",
        "    # Iterate backwards through the periods\n",
        "    for i in range(n - 1, -1, -1):\n",
        "        dp[i] = max(values[i], dp[i + 1])\n",
        "        stopping_rule[i] = 1 if values[i] >= dp[i + 1] else 0\n",
        "\n",
        "    optimal_value = dp[0]\n",
        "    return optimal_value, stopping_rule\n",
        "\n",
        "# Example usage\n",
        "values = [3, 2, 5, 1, 7, 4, 8]  # Example values (rewards) for each period\n",
        "optimal_value, stopping_rule = optimal_stopping(values)\n",
        "print(\"Optimal Value:\", optimal_value)\n",
        "print(\"Stopping Rule:\", stopping_rule)\n"
      ]
    },
    {
      "cell_type": "markdown",
      "source": [
        "# Monte Carlo Simulation for Estimating Stopping Rules"
      ],
      "metadata": {
        "id": "FiO6ly0evj1h"
      }
    },
    {
      "cell_type": "code",
      "source": [
        "import numpy as np\n",
        "\n",
        "def secretary_problem_simulation(n, trials):\n",
        "    \"\"\"\n",
        "    Monte Carlo Simulation for the Secretary Problem to estimate the optimal stopping rule.\n",
        "\n",
        "    Args:\n",
        "    - n (int): Number of candidates.\n",
        "    - trials (int): Number of simulation trials.\n",
        "\n",
        "    Returns:\n",
        "    - optimal_stop_point (int): The optimal stopping point estimated by the simulation.\n",
        "    - success_probability (float): The estimated probability of selecting the best candidate.\n",
        "    \"\"\"\n",
        "    stop_points = np.zeros(trials)\n",
        "    successes = np.zeros(trials)\n",
        "\n",
        "    for trial in range(trials):\n",
        "        candidates = np.random.permutation(n)\n",
        "        best_so_far = -1\n",
        "        chosen_candidate = -1\n",
        "\n",
        "        # Determine the optimal stopping point by simulation\n",
        "        stop_point = int(n / np.e)\n",
        "\n",
        "        # Simulate the interview process\n",
        "        for i in range(n):\n",
        "            if i < stop_point:\n",
        "                if candidates[i] > best_so_far:\n",
        "                    best_so_far = candidates[i]\n",
        "            else:\n",
        "                if candidates[i] > best_so_far:\n",
        "                    chosen_candidate = candidates[i]\n",
        "                    break\n",
        "\n",
        "        stop_points[trial] = stop_point\n",
        "        if chosen_candidate == n - 1:\n",
        "            successes[trial] = 1\n",
        "\n",
        "    optimal_stop_point = int(np.mean(stop_points))\n",
        "    success_probability = np.mean(successes)\n",
        "    return optimal_stop_point, success_probability\n",
        "\n",
        "# Example usage\n",
        "n = 100  # Number of candidates\n",
        "trials = 10000  # Number of simulation trials\n",
        "\n",
        "optimal_stop_point, success_probability = secretary_problem_simulation(n, trials)\n",
        "print(\"Optimal Stopping Point:\", optimal_stop_point)\n",
        "print(\"Estimated Success Probability:\", success_probability)"
      ],
      "metadata": {
        "id": "9MYvfCP5vkLr"
      },
      "execution_count": null,
      "outputs": []
    },
    {
      "cell_type": "markdown",
      "source": [
        "# Threshold-Based Stopping Criterion"
      ],
      "metadata": {
        "id": "Q2y2zqGcvsV2"
      }
    },
    {
      "cell_type": "code",
      "source": [
        "import numpy as np\n",
        "\n",
        "def threshold_stopping_simulation(threshold, n, trials):\n",
        "    \"\"\"\n",
        "    Monte Carlo Simulation for a threshold-based stopping criterion.\n",
        "\n",
        "    Args:\n",
        "    - threshold (float): The threshold value for stopping.\n",
        "    - n (int): Number of observations.\n",
        "    - trials (int): Number of simulation trials.\n",
        "\n",
        "    Returns:\n",
        "    - stopping_times (list): List of stopping times for each trial.\n",
        "    - success_probability (float): The estimated probability of stopping at the correct time.\n",
        "    \"\"\"\n",
        "    stopping_times = []\n",
        "    successes = 0\n",
        "\n",
        "    for trial in range(trials):\n",
        "        observations = np.random.rand(n)\n",
        "        stopping_time = n  # Default to stopping at the last observation if threshold is not met\n",
        "\n",
        "        for i in range(n):\n",
        "            if observations[i] >= threshold:\n",
        "                stopping_time = i + 1\n",
        "                break\n",
        "\n",
        "        stopping_times.append(stopping_time)\n",
        "        if stopping_time < n:\n",
        "            successes += 1\n",
        "\n",
        "    success_probability = successes / trials\n",
        "    return stopping_times, success_probability\n",
        "\n",
        "# Example usage\n",
        "threshold = 0.8  # Threshold value for stopping\n",
        "n = 100  # Number of observations\n",
        "trials = 10000  # Number of simulation trials\n",
        "\n",
        "stopping_times, success_probability = threshold_stopping_simulation(threshold, n, trials)\n",
        "print(\"Average Stopping Time:\", np.mean(stopping_times))\n",
        "print(\"Success Probability:\", success_probability)"
      ],
      "metadata": {
        "id": "kS45IKqkvsrO"
      },
      "execution_count": null,
      "outputs": []
    },
    {
      "cell_type": "markdown",
      "source": [
        "# Upper Confidence Bound (UCB) Algorithm"
      ],
      "metadata": {
        "id": "Wi1dqjx5wAg-"
      }
    },
    {
      "cell_type": "code",
      "source": [
        "import numpy as np\n",
        "\n",
        "class UCB:\n",
        "    def __init__(self, n_arms):\n",
        "        self.n_arms = n_arms\n",
        "        self.counts = np.zeros(n_arms)  # Count of pulls for each arm\n",
        "        self.values = np.zeros(n_arms)  # Average reward for each arm\n",
        "\n",
        "    def select_arm(self):\n",
        "        total_counts = np.sum(self.counts)\n",
        "        if total_counts < self.n_arms:\n",
        "            # Ensure each arm is selected at least once initially\n",
        "            return int(total_counts)\n",
        "\n",
        "        ucb_values = self.values + np.sqrt((2 * np.log(total_counts)) / self.counts)\n",
        "        return np.argmax(ucb_values)\n",
        "\n",
        "    def update(self, chosen_arm, reward):\n",
        "        self.counts[chosen_arm] += 1\n",
        "        n = self.counts[chosen_arm]\n",
        "        value = self.values[chosen_arm]\n",
        "        new_value = ((n - 1) / n) * value + (1 / n) * reward\n",
        "        self.values[chosen_arm] = new_value\n",
        "\n",
        "def ucb_simulation(n_arms, n_rounds, true_means):\n",
        "    ucb = UCB(n_arms)\n",
        "    rewards = np.zeros(n_rounds)\n",
        "\n",
        "    for round in range(n_rounds):\n",
        "        chosen_arm = ucb.select_arm()\n",
        "        reward = np.random.randn() + true_means[chosen_arm]\n",
        "        ucb.update(chosen_arm, reward)\n",
        "        rewards[round] = reward\n",
        "\n",
        "    return rewards, ucb\n",
        "\n",
        "# Example usage\n",
        "n_arms = 5  # Number of arms\n",
        "n_rounds = 1000  # Number of rounds\n",
        "true_means = [0.1, 0.2, 0.3, 0.4, 0.5]  # True means of the arms\n",
        "\n",
        "rewards, ucb = ucb_simulation(n_arms, n_rounds, true_means)\n",
        "print(\"Average Reward:\", np.mean(rewards))\n",
        "print(\"Counts of each arm:\", ucb.counts)\n",
        "print(\"Estimated values of each arm:\", ucb.values)\n"
      ],
      "metadata": {
        "id": "m1fYpeI8wA0n"
      },
      "execution_count": null,
      "outputs": []
    }
  ]
}