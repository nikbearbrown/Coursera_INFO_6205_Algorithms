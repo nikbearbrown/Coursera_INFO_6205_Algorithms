{
  "nbformat": 4,
  "nbformat_minor": 0,
  "metadata": {
    "colab": {
      "provenance": []
    },
    "kernelspec": {
      "name": "python3",
      "display_name": "Python 3"
    },
    "language_info": {
      "name": "python"
    }
  },
  "cells": [
    {
      "cell_type": "markdown",
      "source": [
        "# Dynamic Programming for Fibonacci Sequence"
      ],
      "metadata": {
        "id": "bdyNKVWM5zUW"
      }
    },
    {
      "cell_type": "code",
      "execution_count": null,
      "metadata": {
        "id": "Suh0ARhZ5mCF"
      },
      "outputs": [],
      "source": [
        "def fibonacci(n):\n",
        "    \"\"\"\n",
        "    Computes the nth Fibonacci number using dynamic programming.\n",
        "\n",
        "    Args:\n",
        "    n: The index of the Fibonacci number to compute.\n",
        "\n",
        "    Returns:\n",
        "    The nth Fibonacci number.\n",
        "    \"\"\"\n",
        "    if n == 0:\n",
        "        return 0\n",
        "    elif n == 1:\n",
        "        return 1\n",
        "    else:\n",
        "        # Initialize the base cases\n",
        "        fib = [0, 1]\n",
        "        # Compute the Fibonacci sequence up to n\n",
        "        for i in range(2, n + 1):\n",
        "            fib.append(fib[i - 1] + fib[i - 2])\n",
        "        return fib[n]\n",
        "\n",
        "# Example usage\n",
        "n = 10\n",
        "result = fibonacci(n)\n",
        "print(f'The {n}th Fibonacci number is: {result}')\n"
      ]
    },
    {
      "cell_type": "markdown",
      "source": [
        "# Memoized Fibonacci"
      ],
      "metadata": {
        "id": "7E0_wOFr6H1Q"
      }
    },
    {
      "cell_type": "code",
      "source": [
        "def fib(n):\n",
        "    \"\"\"\n",
        "    Computes the nth Fibonacci number using memoization.\n",
        "\n",
        "    Args:\n",
        "    n: The index of the Fibonacci number to compute.\n",
        "\n",
        "    Returns:\n",
        "    The nth Fibonacci number.\n",
        "    \"\"\"\n",
        "    # Initialize the memoization array with -1\n",
        "    memo = [-1] * (n + 1)\n",
        "    return fibonacci(n, memo)\n",
        "\n",
        "def fibonacci(n, memo):\n",
        "    \"\"\"\n",
        "    Helper function to compute Fibonacci number using memoization.\n",
        "\n",
        "    Args:\n",
        "    n: The index of the Fibonacci number to compute.\n",
        "    memo: The memoization array to store computed Fibonacci numbers.\n",
        "\n",
        "    Returns:\n",
        "    The nth Fibonacci number.\n",
        "    \"\"\"\n",
        "    if n == 0 or n == 1:\n",
        "        memo[n] = n\n",
        "    elif memo[n] == -1:\n",
        "        # Recursively compute the Fibonacci number while storing the results in memo\n",
        "        memo[n] = fibonacci(n - 1, memo) + fibonacci(n - 2, memo)\n",
        "    return memo[n]\n",
        "\n",
        "# Test the implementation\n",
        "n = 10\n",
        "print(fib(n))  # Output: 55"
      ],
      "metadata": {
        "id": "d2oLvkEV6IYq"
      },
      "execution_count": null,
      "outputs": []
    },
    {
      "cell_type": "markdown",
      "source": [
        "# Tabulation for Fibonacci Sequence"
      ],
      "metadata": {
        "id": "o3bcsfis6XCs"
      }
    },
    {
      "cell_type": "code",
      "source": [
        "def fibonacci_tabulation(n):\n",
        "    \"\"\"\n",
        "    Computes the nth Fibonacci number using tabulation.\n",
        "\n",
        "    Args:\n",
        "    n: The index of the Fibonacci number to compute.\n",
        "\n",
        "    Returns:\n",
        "    The nth Fibonacci number.\n",
        "    \"\"\"\n",
        "    # Initialize the dp array with zeros\n",
        "    dp = [0] * (n + 1)\n",
        "    # Set the base cases\n",
        "    dp[1] = 1\n",
        "\n",
        "    # Fill the dp array using the bottom-up approach\n",
        "    for i in range(2, n + 1):\n",
        "        dp[i] = dp[i - 1] + dp[i - 2]\n",
        "\n",
        "    return dp[n]\n",
        "\n",
        "# Example usage\n",
        "n = 6\n",
        "result = fibonacci_tabulation(n)\n",
        "print(f\"The {n}th Fibonacci number is: {result}\")"
      ],
      "metadata": {
        "id": "zNdxGbBD6X8F"
      },
      "execution_count": null,
      "outputs": []
    },
    {
      "cell_type": "markdown",
      "source": [
        "# Dynamic Programming approach to solve the 0/1 Knapsack Problem"
      ],
      "metadata": {
        "id": "leF0eoFw628k"
      }
    },
    {
      "cell_type": "code",
      "source": [
        "def knapsack_01(values, weights, capacity):\n",
        "    \"\"\"\n",
        "    Solves the 0/1 Knapsack problem using dynamic programming.\n",
        "\n",
        "    Args:\n",
        "    values: A list of values for the items.\n",
        "    weights: A list of weights for the items.\n",
        "    capacity: The maximum weight capacity of the knapsack.\n",
        "\n",
        "    Returns:\n",
        "    The maximum value that can be obtained with the given capacity.\n",
        "    \"\"\"\n",
        "    n = len(values)  # Number of items\n",
        "    # Initialize the dp table with zeros\n",
        "    dp = [[0] * (capacity + 1) for _ in range(n + 1)]\n",
        "\n",
        "    # Build the dp table in a bottom-up manner\n",
        "    for i in range(1, n + 1):\n",
        "        for j in range(1, capacity + 1):\n",
        "            if weights[i - 1] <= j:\n",
        "                # Include the item i-1 or exclude it\n",
        "                dp[i][j] = max(dp[i - 1][j], dp[i - 1][j - weights[i - 1]] + values[i - 1])\n",
        "            else:\n",
        "                # Exclude the item i-1\n",
        "                dp[i][j] = dp[i - 1][j]\n",
        "\n",
        "    return dp[n][capacity]\n",
        "\n",
        "# Example usage\n",
        "values = [60, 100, 120]\n",
        "weights = [10, 20, 30]\n",
        "capacity = 50\n",
        "max_value = knapsack_01(values, weights, capacity)\n",
        "print(f\"The maximum value that can be obtained is: {max_value}\")"
      ],
      "metadata": {
        "id": "UKkz-s8c63uQ"
      },
      "execution_count": null,
      "outputs": []
    },
    {
      "cell_type": "markdown",
      "source": [
        "# Sequence Alignment"
      ],
      "metadata": {
        "id": "_kbCTzES7OI2"
      }
    },
    {
      "cell_type": "code",
      "source": [
        "def sequence_alignment(A, B, match_cost, mismatch_cost, gap_penalty):\n",
        "    \"\"\"\n",
        "    Computes the optimal alignment score and DP table for two sequences A and B using dynamic programming.\n",
        "\n",
        "    Args:\n",
        "    A: The first sequence.\n",
        "    B: The second sequence.\n",
        "    match_cost: The cost for a match.\n",
        "    mismatch_cost: The cost for a mismatch.\n",
        "    gap_penalty: The penalty for a gap.\n",
        "\n",
        "    Returns:\n",
        "    A tuple containing the optimal alignment score and the DP table.\n",
        "    \"\"\"\n",
        "    n, m = len(A), len(B)\n",
        "    DP = [[0] * (m + 1) for _ in range(n + 1)]\n",
        "\n",
        "    # Initialize DP table\n",
        "    for i in range(1, n + 1):\n",
        "        DP[i][0] = i * gap_penalty\n",
        "    for j in range(1, m + 1):\n",
        "        DP[0][j] = j * gap_penalty\n",
        "\n",
        "    # Compute DP table\n",
        "    for i in range(1, n + 1):\n",
        "        for j in range(1, m + 1):\n",
        "            if A[i - 1] == B[j - 1]:\n",
        "                cost = match_cost\n",
        "            else:\n",
        "                cost = mismatch_cost\n",
        "            DP[i][j] = min(DP[i - 1][j - 1] + cost,\n",
        "                           DP[i - 1][j] + gap_penalty,\n",
        "                           DP[i][j - 1] + gap_penalty)\n",
        "\n",
        "    return DP[n][m], DP\n",
        "\n",
        "def traceback_alignment(A, B, DP, match_cost, gap_penalty):\n",
        "    \"\"\"\n",
        "    Traces back the DP table to find the optimal alignment of two sequences A and B.\n",
        "\n",
        "    Args:\n",
        "    A: The first sequence.\n",
        "    B: The second sequence.\n",
        "    DP: The DP table computed by the sequence_alignment function.\n",
        "    match_cost: The cost function for a match or mismatch.\n",
        "    gap_penalty: The penalty for a gap.\n",
        "\n",
        "    Returns:\n",
        "    A tuple containing the aligned sequences A and B.\n",
        "    \"\"\"\n",
        "    alignment_A, alignment_B = \"\", \"\"\n",
        "    i, j = len(A), len(B)\n",
        "\n",
        "    while i > 0 or j > 0:\n",
        "        if i > 0 and j > 0 and DP[i][j] == DP[i - 1][j - 1] + match_cost(A[i - 1], B[j - 1]):\n",
        "            alignment_A = A[i - 1] + alignment_A\n",
        "            alignment_B = B[j - 1] + alignment_B\n",
        "            i -= 1\n",
        "            j -= 1\n",
        "        elif i > 0 and DP[i][j] == DP[i - 1][j] + gap_penalty:\n",
        "            alignment_A = A[i - 1] + alignment_A\n",
        "            alignment_B = \"-\" + alignment_B\n",
        "            i -= 1\n",
        "        else:\n",
        "            alignment_A = \"-\" + alignment_A\n",
        "            alignment_B = B[j - 1] + alignment_B\n",
        "            j -= 1\n",
        "\n",
        "    return alignment_A, alignment_B\n",
        "\n",
        "# Example usage\n",
        "A = \"AGTACGCA\"\n",
        "B = \"TATGC\"\n",
        "match_cost = lambda x, y: 1 if x == y else -1\n",
        "mismatch_cost = -1\n",
        "gap_penalty = -2\n",
        "score, DP = sequence_alignment(A, B, match_cost, mismatch_cost, gap_penalty)\n",
        "alignment_A, alignment_B = traceback_alignment(A, B, DP, match_cost, gap_penalty)\n",
        "print(\"Optimal Alignment Score:\", score)\n",
        "print(\"Optimal Alignment:\")\n",
        "print(alignment_A)\n",
        "print(alignment_B)"
      ],
      "metadata": {
        "id": "KZVWkx2f7ZEq"
      },
      "execution_count": null,
      "outputs": []
    },
    {
      "cell_type": "markdown",
      "source": [
        "# Dynamic Programming for TSP"
      ],
      "metadata": {
        "id": "ysdQDUev7m11"
      }
    },
    {
      "cell_type": "code",
      "source": [
        "import numpy as np\n",
        "\n",
        "def tsp_dynamic_programming(distances):\n",
        "    \"\"\"\n",
        "    Solves the Traveling Salesman Problem using dynamic programming.\n",
        "\n",
        "    Args:\n",
        "    distances: A 2D list representing the distance matrix where distances[i][j] is the distance from city i to city j.\n",
        "\n",
        "    Returns:\n",
        "    The minimum cost to visit all cities and return to the starting city.\n",
        "    \"\"\"\n",
        "    n = len(distances)  # Number of cities\n",
        "    # Initialize the DP table with infinity\n",
        "    DP = np.full((1 << n, n), np.inf)\n",
        "\n",
        "    # Starting point: cost to reach the first city is 0\n",
        "    DP[1, 0] = 0\n",
        "\n",
        "    # Iterate over all subsets of cities\n",
        "    for mask in range(1, 1 << n):\n",
        "        for i in range(n):\n",
        "            if mask & (1 << i):  # Check if city i is in the current subset\n",
        "                for j in range(n):\n",
        "                    if i != j and mask & (1 << j):  # Check if city j is in the current subset and i != j\n",
        "                        # Update DP table with the minimum cost\n",
        "                        DP[mask][i] = min(DP[mask][i], DP[mask ^ (1 << i)][j] + distances[j][i])\n",
        "\n",
        "    # Calculate the minimum cost to visit all cities and return to the starting city\n",
        "    min_cost = min(DP[(1 << n) - 1][j] + distances[j][0] for j in range(1, n))\n",
        "    return min_cost\n",
        "\n",
        "# Example usage\n",
        "distances = [[0, 10, 15, 20],\n",
        "             [10, 0, 35, 25],\n",
        "             [15, 35, 0, 30],\n",
        "             [20, 25, 30, 0]]\n",
        "\n",
        "min_cost = tsp_dynamic_programming(distances)\n",
        "print(\"Minimum Cost to visit all cities:\", min_cost)"
      ],
      "metadata": {
        "id": "Gfv5nc847nlb"
      },
      "execution_count": null,
      "outputs": []
    },
    {
      "cell_type": "markdown",
      "source": [
        "# N-Queens Backtracking Algorithm"
      ],
      "metadata": {
        "id": "jFtqa5EEPtNj"
      }
    },
    {
      "cell_type": "code",
      "source": [
        "def solve_n_queens(n):\n",
        "    board = [-1] * n  # Initialize board where board[row] = column position of queen in row\n",
        "\n",
        "    def is_safe(row, col):\n",
        "        \"\"\" Check if placing a queen at (row, col) is safe \"\"\"\n",
        "        for prev_row in range(row):\n",
        "            prev_col = board[prev_row]\n",
        "            if prev_col == col or abs(prev_row - row) == abs(prev_col - col):\n",
        "                return False\n",
        "        return True\n",
        "\n",
        "    def place_queen(row):\n",
        "        \"\"\" Recursive function to place queens row by row \"\"\"\n",
        "        if row == n:\n",
        "            print_board(board)\n",
        "        else:\n",
        "            for col in range(n):\n",
        "                if is_safe(row, col):\n",
        "                    board[row] = col\n",
        "                    place_queen(row + 1)\n",
        "                    board[row] = -1  # Backtrack\n",
        "\n",
        "    def print_board(board):\n",
        "        \"\"\" Helper function to print the board \"\"\"\n",
        "        for row in range(n):\n",
        "            line = [\"Q\" if board[row] == col else \".\" for col in range(n)]\n",
        "            print(\" \".join(line))\n",
        "        print()\n",
        "\n",
        "    place_queen(0)  # Start placing queens from the first row\n",
        "\n",
        "# Example usage:\n",
        "if __name__ == \"__main__\":\n",
        "    n = 4  # Number of queens (and size of board)\n",
        "    solve_n_queens(n)"
      ],
      "metadata": {
        "id": "Hqqd5SQEPtol"
      },
      "execution_count": null,
      "outputs": []
    }
  ]
}