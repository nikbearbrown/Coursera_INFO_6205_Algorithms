{
  "nbformat": 4,
  "nbformat_minor": 0,
  "metadata": {
    "colab": {
      "provenance": []
    },
    "kernelspec": {
      "name": "python3",
      "display_name": "Python 3"
    },
    "language_info": {
      "name": "python"
    }
  },
  "cells": [
    {
      "cell_type": "markdown",
      "source": [
        "# Erdős-Rényi Model"
      ],
      "metadata": {
        "id": "dLnxOerbeeFk"
      }
    },
    {
      "cell_type": "code",
      "execution_count": null,
      "metadata": {
        "id": "8fuEukzSeVia"
      },
      "outputs": [],
      "source": [
        "import numpy as np\n",
        "import networkx as nx\n",
        "\n",
        "def generate_random_graph(n, p):\n",
        "    \"\"\"\n",
        "    Generates a random graph using the Erdős-Rényi model.\n",
        "\n",
        "    Parameters:\n",
        "    - n: Number of vertices (nodes) in the graph\n",
        "    - p: Probability of creating an edge between any pair of vertices\n",
        "\n",
        "    Returns:\n",
        "    - G: Generated random graph using NetworkX\n",
        "    \"\"\"\n",
        "    G = nx.Graph()\n",
        "\n",
        "    for i in range(1, n + 1):\n",
        "        for j in range(i + 1, n + 1):\n",
        "            if np.random.rand() < p:\n",
        "                G.add_edge(i, j)\n",
        "\n",
        "    return G\n",
        "\n",
        "# Example usage:\n",
        "n = 10  # Number of vertices\n",
        "p = 0.3  # Probability of edge creation\n",
        "\n",
        "random_graph = generate_random_graph(n, p)\n",
        "print(f\"Generated Random Graph with {n} vertices and edge probability {p}:\")\n",
        "print(f\"Number of nodes: {random_graph.number_of_nodes()}\")\n",
        "print(f\"Number of edges: {random_graph.number_of_edges()}\")\n",
        "\n",
        "# Visualize the graph (optional, requires matplotlib)\n",
        "import matplotlib.pyplot as plt\n",
        "nx.draw(random_graph, with_labels=True)\n",
        "plt.show()"
      ]
    },
    {
      "cell_type": "markdown",
      "source": [
        "# Barabási-Albert Model"
      ],
      "metadata": {
        "id": "0XENnq3Pekqk"
      }
    },
    {
      "cell_type": "code",
      "source": [
        "import networkx as nx\n",
        "import random\n",
        "\n",
        "def generate_scale_free_graph(n, m):\n",
        "    \"\"\"\n",
        "    Generates a scale-free graph using the Barabási-Albert model.\n",
        "\n",
        "    Parameters:\n",
        "    - n: Number of vertices (nodes) in the graph\n",
        "    - m: Number of initial vertices to which new vertices attach\n",
        "\n",
        "    Returns:\n",
        "    - G: Generated scale-free graph using NetworkX\n",
        "    \"\"\"\n",
        "    G = nx.complete_graph(m)  # Start with a complete graph of m vertices\n",
        "\n",
        "    for i in range(m, n):\n",
        "        # Calculate probability proportional to the degree of each node\n",
        "        probabilities = [deg / sum(dict(G.degree()).values()) for _, deg in G.degree()]\n",
        "\n",
        "        # Choose m nodes to attach to, proportional to their degree\n",
        "        targets = random.choices(list(G.nodes()), weights=probabilities, k=m)\n",
        "\n",
        "        # Add new node with edges to the selected nodes\n",
        "        G.add_node(i)\n",
        "        for target in targets:\n",
        "            G.add_edge(i, target)\n",
        "\n",
        "    return G\n",
        "\n",
        "# Example usage:\n",
        "n = 20  # Number of vertices\n",
        "m = 3   # Number of initial vertices each new vertex attaches to\n",
        "\n",
        "scale_free_graph = generate_scale_free_graph(n, m)\n",
        "print(f\"Generated Scale-Free Graph with {n} vertices and {m} initial attachments per new vertex:\")\n",
        "print(f\"Number of nodes: {scale_free_graph.number_of_nodes()}\")\n",
        "print(f\"Number of edges: {scale_free_graph.number_of_edges()}\")\n",
        "\n",
        "# Visualize the graph (optional, requires matplotlib)\n",
        "import matplotlib.pyplot as plt\n",
        "nx.draw(scale_free_graph, with_labels=True)\n",
        "plt.show()"
      ],
      "metadata": {
        "id": "ohuAu7V8ek__"
      },
      "execution_count": null,
      "outputs": []
    },
    {
      "cell_type": "markdown",
      "source": [
        "# Hierarchical Clustering"
      ],
      "metadata": {
        "id": "nkrsO6sZernY"
      }
    },
    {
      "cell_type": "code",
      "source": [
        "import networkx as nx\n",
        "\n",
        "def hierarchical_clustering(G):\n",
        "    \"\"\"\n",
        "    Perform hierarchical clustering on a graph G based on edge weights.\n",
        "\n",
        "    Parameters:\n",
        "    - G: NetworkX graph object\n",
        "\n",
        "    Returns:\n",
        "    - clusters: List of clusters at each level of the hierarchy\n",
        "    \"\"\"\n",
        "    # Initialize each vertex as a separate cluster\n",
        "    clusters = list(G.nodes())\n",
        "\n",
        "    while len(clusters) > 1:\n",
        "        # Find the two clusters with the highest similarity (lowest edge weight)\n",
        "        u, v = find_closest_clusters(G, clusters)\n",
        "\n",
        "        # Merge clusters u and v into a single cluster\n",
        "        clusters.remove(u)\n",
        "        clusters.remove(v)\n",
        "        merged_cluster = (u, v)\n",
        "        clusters.append(merged_cluster)\n",
        "\n",
        "    return clusters\n",
        "\n",
        "def find_closest_clusters(G, clusters):\n",
        "    \"\"\"\n",
        "    Find the two clusters with the highest similarity (lowest edge weight) in graph G.\n",
        "\n",
        "    Parameters:\n",
        "    - G: NetworkX graph object\n",
        "    - clusters: List of clusters\n",
        "\n",
        "    Returns:\n",
        "    - u, v: Two clusters with the highest similarity\n",
        "    \"\"\"\n",
        "    min_weight = float('inf')\n",
        "    closest_u, closest_v = None, None\n",
        "\n",
        "    for u in clusters:\n",
        "        for v in clusters:\n",
        "            if u != v and G.has_edge(u, v):\n",
        "                weight = G[u][v]['weight']\n",
        "                if weight < min_weight:\n",
        "                    min_weight = weight\n",
        "                    closest_u, closest_v = u, v\n",
        "\n",
        "    return closest_u, closest_v\n",
        "\n",
        "# Example usage:\n",
        "# Create a sample graph (replace this with your own graph data)\n",
        "G = nx.Graph()\n",
        "G.add_edge('A', 'B', weight=0.5)\n",
        "G.add_edge('A', 'C', weight=0.2)\n",
        "G.add_edge('B', 'D', weight=0.8)\n",
        "G.add_edge('C', 'D', weight=0.4)\n",
        "\n",
        "# Perform hierarchical clustering\n",
        "clusters = hierarchical_clustering(G)\n",
        "print(\"Hierarchical Clusters:\", clusters)"
      ],
      "metadata": {
        "id": "adMBI44Fer76"
      },
      "execution_count": null,
      "outputs": []
    },
    {
      "cell_type": "markdown",
      "source": [
        "# Assortativity Calculation"
      ],
      "metadata": {
        "id": "UCZuy3e3e5xF"
      }
    },
    {
      "cell_type": "code",
      "source": [
        "import networkx as nx\n",
        "\n",
        "def assortativity(G, X):\n",
        "    \"\"\"\n",
        "    Calculate the assortativity coefficient for graph G based on node attribute X.\n",
        "\n",
        "    Parameters:\n",
        "    - G: NetworkX graph object\n",
        "    - X: Dictionary mapping node labels to attribute values\n",
        "\n",
        "    Returns:\n",
        "    - r: Assortativity coefficient\n",
        "    \"\"\"\n",
        "    sum_r = 0\n",
        "    sum_r_squared = 0\n",
        "    num_edges = G.number_of_edges()\n",
        "\n",
        "    for u, v in G.edges():\n",
        "        r = X[u] - X[v]\n",
        "        sum_r += r\n",
        "        sum_r_squared += r**2\n",
        "\n",
        "    mean_r = sum_r / num_edges\n",
        "    mean_r_squared = sum_r_squared / num_edges\n",
        "\n",
        "    if mean_r_squared == 0:\n",
        "        r = 1.0  # Handles case when all edges have identical attributes\n",
        "    else:\n",
        "        r = mean_r / mean_r_squared\n",
        "\n",
        "    return r\n",
        "\n",
        "# Example usage:\n",
        "# Create a sample graph (replace this with your own graph data)\n",
        "G = nx.Graph()\n",
        "G.add_edge('A', 'B')\n",
        "G.add_edge('B', 'C')\n",
        "G.add_edge('C', 'D')\n",
        "\n",
        "# Node attribute values\n",
        "X = {'A': 1, 'B': 2, 'C': 3, 'D': 4}\n",
        "\n",
        "# Calculate assortativity coefficient\n",
        "r = assortativity(G, X)\n",
        "print(\"Assortativity coefficient:\", r)"
      ],
      "metadata": {
        "id": "noRymwV8e6K2"
      },
      "execution_count": null,
      "outputs": []
    },
    {
      "cell_type": "markdown",
      "source": [
        "# Mutuality Calculation"
      ],
      "metadata": {
        "id": "PRlMEPXzfGMU"
      }
    },
    {
      "cell_type": "code",
      "source": [
        "import networkx as nx\n",
        "\n",
        "def count_reciprocated_relationships(G, i, j):\n",
        "    \"\"\"\n",
        "    Count reciprocated relationships between nodes i and j in graph G.\n",
        "\n",
        "    Parameters:\n",
        "    - G: NetworkX graph object\n",
        "    - i, j: Nodes in the graph\n",
        "\n",
        "    Returns:\n",
        "    - count: Number of reciprocated relationships (edges in both directions)\n",
        "    \"\"\"\n",
        "    count = 0\n",
        "    if G.has_edge(i, j) and G.has_edge(j, i):\n",
        "        count += 1\n",
        "    return count\n",
        "\n",
        "def calculate_mutuality(G):\n",
        "    \"\"\"\n",
        "    Calculate mutuality for each node pair in graph G.\n",
        "\n",
        "    Parameters:\n",
        "    - G: NetworkX graph object\n",
        "\n",
        "    Returns:\n",
        "    - M: Dictionary of mutuality counts for each node pair (i, j)\n",
        "    \"\"\"\n",
        "    M = {}\n",
        "    nodes = list(G.nodes())\n",
        "    for i in nodes:\n",
        "        for j in nodes:\n",
        "            if i != j:\n",
        "                M[(i, j)] = count_reciprocated_relationships(G, i, j)\n",
        "    return M\n",
        "\n",
        "# Example usage:\n",
        "# Create a sample graph (replace this with your own graph data)\n",
        "G = nx.Graph()\n",
        "G.add_edge(1, 2)\n",
        "G.add_edge(2, 3)\n",
        "G.add_edge(3, 1)\n",
        "G.add_edge(1, 4)\n",
        "G.add_edge(4, 2)\n",
        "\n",
        "# Calculate mutuality\n",
        "mutuality = calculate_mutuality(G)\n",
        "print(\"Mutuality counts:\")\n",
        "for pair, count in mutuality.items():\n",
        "    print(f\"({pair[0]}, {pair[1]}): {count}\")"
      ],
      "metadata": {
        "id": "6QqxT0WBfGj9"
      },
      "execution_count": null,
      "outputs": []
    },
    {
      "cell_type": "markdown",
      "source": [
        "# Clustering Coefficient Calculation"
      ],
      "metadata": {
        "id": "zC_g8w6nfUZR"
      }
    },
    {
      "cell_type": "code",
      "source": [
        "import networkx as nx\n",
        "\n",
        "def calculate_clustering_coefficient(G, i):\n",
        "    \"\"\"\n",
        "    Calculate clustering coefficient for node i in graph G.\n",
        "\n",
        "    Parameters:\n",
        "    - G: NetworkX graph object\n",
        "    - i: Node in the graph\n",
        "\n",
        "    Returns:\n",
        "    - C_i: Clustering coefficient for node i\n",
        "    \"\"\"\n",
        "    neighbors = list(G.neighbors(i))\n",
        "    triangle_count = 0\n",
        "\n",
        "    for j in neighbors:\n",
        "        for k in neighbors:\n",
        "            if G.has_edge(j, k):\n",
        "                triangle_count += 1\n",
        "\n",
        "    degree_i = len(neighbors)\n",
        "    if degree_i > 1:\n",
        "        C_i = triangle_count / (degree_i * (degree_i - 1))\n",
        "    else:\n",
        "        C_i = 0.0\n",
        "\n",
        "    return C_i\n",
        "\n",
        "# Example usage:\n",
        "# Create a sample graph (replace this with your own graph data)\n",
        "G = nx.Graph()\n",
        "G.add_edges_from([(1, 2), (1, 3), (2, 3), (3, 4), (4, 5)])\n",
        "\n",
        "# Calculate clustering coefficient for node 3\n",
        "node = 3\n",
        "clustering_coefficient = calculate_clustering_coefficient(G, node)\n",
        "print(f\"Clustering coefficient for node {node}: {clustering_coefficient}\")"
      ],
      "metadata": {
        "id": "WZbiV4sufUu6"
      },
      "execution_count": null,
      "outputs": []
    },
    {
      "cell_type": "markdown",
      "source": [
        "# Bridge Detection Algorithm"
      ],
      "metadata": {
        "id": "3QHJR65RffuE"
      }
    },
    {
      "cell_type": "code",
      "source": [
        "import networkx as nx\n",
        "\n",
        "def find_bridges(G):\n",
        "    \"\"\"\n",
        "    Find all the bridges (cut-edges) in the graph G.\n",
        "\n",
        "    Parameters:\n",
        "    - G: NetworkX graph object (undirected)\n",
        "\n",
        "    Returns:\n",
        "    - bridges: List of tuples, where each tuple represents a bridge (u, v)\n",
        "    \"\"\"\n",
        "    bridges = []\n",
        "\n",
        "    for u, v in G.edges():\n",
        "        # Remove edge (u, v) from G\n",
        "        G.remove_edge(u, v)\n",
        "\n",
        "        # Check if removing (u, v) increases the number of connected components\n",
        "        if nx.number_connected_components(G) > 1:\n",
        "            bridges.append((u, v))\n",
        "\n",
        "        # Add edge (u, v) back to G\n",
        "        G.add_edge(u, v)\n",
        "\n",
        "    return bridges\n",
        "\n",
        "# Example usage:\n",
        "# Create a sample undirected graph (replace this with your own graph data)\n",
        "G = nx.Graph()\n",
        "G.add_edges_from([(1, 2), (1, 3), (2, 3), (3, 4), (4, 5)])\n",
        "\n",
        "# Find all bridges in the graph G\n",
        "bridge_list = find_bridges(G)\n",
        "print(\"Bridges found:\", bridge_list)"
      ],
      "metadata": {
        "id": "gsG_e_7qfgDr"
      },
      "execution_count": null,
      "outputs": []
    },
    {
      "cell_type": "markdown",
      "source": [
        "# Dijkstra's Algorithm"
      ],
      "metadata": {
        "id": "-dSFoNzrfxFX"
      }
    },
    {
      "cell_type": "code",
      "source": [
        "import heapq\n",
        "\n",
        "def dijkstra(G, s):\n",
        "    \"\"\"\n",
        "    Dijkstra's Algorithm to find shortest paths from source node s in graph G.\n",
        "\n",
        "    Parameters:\n",
        "    - G: Dictionary of dictionaries representing the graph. G[u][v] gives the weight of edge (u, v).\n",
        "    - s: Source node\n",
        "\n",
        "    Returns:\n",
        "    - dist: Dictionary where dist[v] is the shortest distance from s to v.\n",
        "    \"\"\"\n",
        "    dist = {node: float('inf') for node in G}\n",
        "    dist[s] = 0\n",
        "    priority_queue = [(0, s)]  # (distance, node)\n",
        "    heapq.heapify(priority_queue)\n",
        "\n",
        "    while priority_queue:\n",
        "        current_dist, u = heapq.heappop(priority_queue)\n",
        "\n",
        "        if current_dist > dist[u]:\n",
        "            continue\n",
        "\n",
        "        for v, weight in G[u].items():\n",
        "            distance = current_dist + weight\n",
        "            if distance < dist[v]:\n",
        "                dist[v] = distance\n",
        "                heapq.heappush(priority_queue, (distance, v))\n",
        "\n",
        "    return dist\n",
        "\n",
        "# Example usage:\n",
        "# Create a sample graph (replace this with your own graph data)\n",
        "graph = {\n",
        "    'A': {'B': 5, 'C': 3},\n",
        "    'B': {'A': 5, 'C': 2, 'D': 1},\n",
        "    'C': {'A': 3, 'B': 2, 'D': 4},\n",
        "    'D': {'B': 1, 'C': 4}\n",
        "}\n",
        "\n",
        "source_node = 'A'  # Source node\n",
        "\n",
        "shortest_distances = dijkstra(graph, source_node)\n",
        "print(\"Shortest distances from node\", source_node + \":\")\n",
        "for node, distance in shortest_distances.items():\n",
        "    print(f\"To node {node}: {distance}\")"
      ],
      "metadata": {
        "id": "vnHYldbbfxbH"
      },
      "execution_count": null,
      "outputs": []
    },
    {
      "cell_type": "markdown",
      "source": [
        "# Girvan-Newman Algorithm for Community Detection"
      ],
      "metadata": {
        "id": "bT7FbJmagU5y"
      }
    },
    {
      "cell_type": "code",
      "source": [
        "import networkx as nx\n",
        "\n",
        "def girvan_newman(G):\n",
        "    if G.number_of_edges() == 0:\n",
        "        return [list(G.nodes())]\n",
        "\n",
        "    def most_central_edge(G):\n",
        "        centrality = nx.edge_betweenness_centrality(G)\n",
        "        return max(centrality, key=centrality.get)\n",
        "\n",
        "    components = []\n",
        "    while G.number_of_edges() > 0:\n",
        "        edge_to_remove = most_central_edge(G)\n",
        "        G.remove_edge(*edge_to_remove)\n",
        "        components = [list(c) for c in nx.connected_components(G)]\n",
        "\n",
        "    return components\n",
        "\n",
        "# Example usage\n",
        "G = nx.karate_club_graph()\n",
        "communities = girvan_newman(G.copy())\n",
        "print(communities)"
      ],
      "metadata": {
        "id": "8RpdFKr9gVRd"
      },
      "execution_count": null,
      "outputs": []
    }
  ]
}