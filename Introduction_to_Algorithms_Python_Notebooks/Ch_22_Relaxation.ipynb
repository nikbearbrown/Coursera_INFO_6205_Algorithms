{
  "nbformat": 4,
  "nbformat_minor": 0,
  "metadata": {
    "colab": {
      "provenance": []
    },
    "kernelspec": {
      "name": "python3",
      "display_name": "Python 3"
    },
    "language_info": {
      "name": "python"
    }
  },
  "cells": [
    {
      "cell_type": "markdown",
      "source": [
        "# Linear Relaxation Algorithm"
      ],
      "metadata": {
        "id": "YmVMbtQ6Lc7w"
      }
    },
    {
      "cell_type": "code",
      "execution_count": null,
      "metadata": {
        "id": "vTFKSUF7LZOv"
      },
      "outputs": [],
      "source": [
        "import numpy as np\n",
        "from scipy.optimize import linprog\n",
        "\n",
        "def linear_relaxation(c, A, b):\n",
        "    # Solve the linear programming problem\n",
        "    res = linprog(c, A_ub=A, b_ub=b, bounds=(0, None))\n",
        "    return res.x\n",
        "\n",
        "# Example usage\n",
        "c = np.array([2, 3])  # Objective coefficients\n",
        "A = np.array([[1, 1], [1, -1]])  # Constraint matrix\n",
        "b = np.array([4, 1])  # Constraint vector\n",
        "\n",
        "optimal_solution = linear_relaxation(c, A, b)\n",
        "print(\"Optimal solution:\", optimal_solution)"
      ]
    },
    {
      "cell_type": "markdown",
      "source": [
        "# Lagrangian Relaxation Algorithm"
      ],
      "metadata": {
        "id": "TNddqBHvL6L0"
      }
    },
    {
      "cell_type": "code",
      "source": [
        "import numpy as np\n",
        "from scipy.optimize import minimize\n",
        "\n",
        "def lagrangian_dual(c, A, b):\n",
        "    # Define Lagrangian function\n",
        "    def lagrangian(x, l):\n",
        "        return np.dot(c, x) + np.dot(l, np.dot(A, x) - b)\n",
        "\n",
        "    # Initial guess for Lagrange multipliers\n",
        "    initial_lambda = np.zeros(len(b))\n",
        "\n",
        "    # Define Lagrange multiplier update function\n",
        "    def update_lambda(l):\n",
        "        res = minimize(lambda l: -lagrangian(np.zeros_like(c), l), l, bounds=[(0, None) for _ in range(len(b))])\n",
        "        return res.x\n",
        "\n",
        "    # Initialize Lagrange multipliers\n",
        "    lambdas = initial_lambda\n",
        "\n",
        "    # Iteratively update Lagrange multipliers until convergence\n",
        "    while True:\n",
        "        new_lambdas = update_lambda(lambdas)\n",
        "        if np.allclose(new_lambdas, lambdas):\n",
        "            break\n",
        "        lambdas = new_lambdas\n",
        "\n",
        "    return lambdas\n",
        "\n",
        "# Example usage\n",
        "c = np.array([2, 3])  # Objective coefficients\n",
        "A = np.array([[1, 1], [1, -1]])  # Constraint matrix\n",
        "b = np.array([4, 1])  # Constraint vector\n",
        "\n",
        "optimal_lambdas = lagrangian_dual(c, A, b)\n",
        "print(\"Optimal Lagrange multipliers:\", optimal_lambdas)"
      ],
      "metadata": {
        "id": "PI3PP6FBL9AM"
      },
      "execution_count": null,
      "outputs": []
    },
    {
      "cell_type": "markdown",
      "source": [
        "# Cutting Plane Method"
      ],
      "metadata": {
        "id": "jUFcYABuMBAz"
      }
    },
    {
      "cell_type": "code",
      "source": [
        "import numpy as np\n",
        "from scipy.optimize import linprog\n",
        "\n",
        "class LPProblem:\n",
        "    def __init__(self, c, A_ub, b_ub):\n",
        "        self.c = c  # Objective coefficients\n",
        "        self.A_ub = A_ub  # Constraint matrix for upper bounds\n",
        "        self.b_ub = b_ub  # Right-hand side vector for upper bounds\n",
        "        self.cut_planes = []  # List to store cutting planes\n",
        "\n",
        "    def has_fractional_solution(self, x):\n",
        "        # Check if any variable in the solution is fractional\n",
        "        return any(abs(xi - np.round(xi)) > 1e-6 for xi in x)\n",
        "\n",
        "    def solve(self):\n",
        "        # Solve the LP relaxation\n",
        "        res = linprog(self.c, A_ub=self.A_ub, b_ub=self.b_ub, bounds=(0, None))\n",
        "        return res.x\n",
        "\n",
        "    def add_cutting_plane(self, cutting_plane):\n",
        "        # Add the cutting plane to the LP relaxation\n",
        "        self.cut_planes.append(cutting_plane)\n",
        "        self.A_ub = np.vstack([self.A_ub, cutting_plane])\n",
        "        self.b_ub = np.append(self.b_ub, cutting_plane[-1])\n",
        "\n",
        "    def optimal_solution(self):\n",
        "        # Solve the updated LP relaxation\n",
        "        res = linprog(self.c, A_ub=self.A_ub, b_ub=self.b_ub, bounds=(0, None))\n",
        "        return res.x\n",
        "\n",
        "def derive_cutting_plane(fractional_solution):\n",
        "    # Derive a cutting plane from the fractional solution\n",
        "    # For demonstration purposes, assume a simple example\n",
        "    cutting_plane = np.array([1, 1])  # Adjust as per the problem requirements\n",
        "    return cutting_plane\n",
        "\n",
        "def cutting_plane_method(LP_relaxation):\n",
        "    while LP_relaxation.has_fractional_solution(LP_relaxation.solve()):\n",
        "        fractional_solution = LP_relaxation.solve()\n",
        "        cutting_plane = derive_cutting_plane(fractional_solution)\n",
        "        LP_relaxation.add_cutting_plane(cutting_plane)\n",
        "    return LP_relaxation.optimal_solution()\n",
        "\n",
        "# Example usage\n",
        "c = np.array([2, 3])  # Objective coefficients\n",
        "A_ub = np.array([[1, 1], [1, -1]])  # Constraint matrix for upper bounds\n",
        "b_ub = np.array([4, 1])  # Right-hand side vector for upper bounds\n",
        "\n",
        "lp_problem = LPProblem(c, A_ub, b_ub)\n",
        "optimal_solution = cutting_plane_method(lp_problem)\n",
        "print(\"Optimal solution:\", optimal_solution)"
      ],
      "metadata": {
        "id": "z2cGAzRGMBdC"
      },
      "execution_count": null,
      "outputs": []
    },
    {
      "cell_type": "markdown",
      "source": [
        "# Subgradient Optimization Algorithm"
      ],
      "metadata": {
        "id": "QPe8F9h9MVJT"
      }
    },
    {
      "cell_type": "code",
      "source": [
        "import numpy as np\n",
        "\n",
        "def subgradient_method(f, grad_f, x0, step_size=0.1, max_iter=1000, tol=1e-6):\n",
        "    \"\"\"\n",
        "    Subgradient Optimization Algorithm for minimizing a convex function f(x).\n",
        "\n",
        "    Parameters:\n",
        "    - f: Function to minimize.\n",
        "    - grad_f: Function to compute the subgradient of f(x) at x.\n",
        "    - x0: Initial point.\n",
        "    - step_size: Step size or learning rate.\n",
        "    - max_iter: Maximum number of iterations.\n",
        "    - tol: Tolerance for convergence (stops if ||x_new - x_old|| < tol).\n",
        "\n",
        "    Returns:\n",
        "    - x_opt: Optimal point that minimizes f(x).\n",
        "    - f_opt: Minimum value of f(x) at x_opt.\n",
        "    - iter_count: Number of iterations taken to converge.\n",
        "    \"\"\"\n",
        "    x = x0\n",
        "    iter_count = 0\n",
        "    while iter_count < max_iter:\n",
        "        # Compute subgradient of f(x) at current point x\n",
        "        g = grad_f(x)\n",
        "\n",
        "        # Update x using subgradient descent\n",
        "        x_new = x - step_size * g\n",
        "\n",
        "        # Check convergence criterion\n",
        "        if np.linalg.norm(x_new - x) < tol:\n",
        "            break\n",
        "\n",
        "        # Update x and iteration count\n",
        "        x = x_new\n",
        "        iter_count += 1\n",
        "\n",
        "    # Compute the optimal value of f(x) at x_opt\n",
        "    x_opt = x\n",
        "    f_opt = f(x_opt)\n",
        "\n",
        "    return x_opt, f_opt, iter_count\n",
        "\n",
        "# Example usage\n",
        "def f(x):\n",
        "    return np.sum(np.square(x))  # Example convex function: sum of squares\n",
        "\n",
        "def grad_f(x):\n",
        "    return 2 * x  # Gradient of sum of squares\n",
        "\n",
        "# Initial point and parameters\n",
        "x0 = np.array([1.0, 2.0])\n",
        "step_size = 0.1\n",
        "max_iter = 1000\n",
        "tol = 1e-6\n",
        "\n",
        "# Apply Subgradient Optimization Algorithm\n",
        "x_opt, f_opt, iter_count = subgradient_method(f, grad_f, x0, step_size, max_iter, tol)\n",
        "\n",
        "print(\"Optimal point x:\", x_opt)\n",
        "print(\"Minimum value f(x):\", f_opt)\n",
        "print(\"Iterations:\", iter_count)"
      ],
      "metadata": {
        "id": "oIO1jCejMVhb"
      },
      "execution_count": null,
      "outputs": []
    },
    {
      "cell_type": "markdown",
      "source": [
        "# SDP Relaxation Algorithm"
      ],
      "metadata": {
        "id": "0CFVywnsMj4h"
      }
    },
    {
      "cell_type": "code",
      "source": [
        "import numpy as np\n",
        "import cvxpy as cp\n",
        "\n",
        "# Example problem: Max-Cut problem relaxation using SDP\n",
        "def sdp_relaxation(W):\n",
        "    n = W.shape[0]  # Number of nodes\n",
        "\n",
        "    # Variables\n",
        "    X = cp.Variable((n, n), symmetric=True)\n",
        "\n",
        "    # Objective\n",
        "    objective = cp.Maximize(cp.sum(cp.multiply(W, X)))\n",
        "\n",
        "    # Constraints\n",
        "    constraints = [\n",
        "        X >> 0,  # X is positive semidefinite\n",
        "        cp.diag(X) == np.ones(n),  # Diagonal entries of X are 1\n",
        "    ]\n",
        "\n",
        "    # Define and solve the problem\n",
        "    problem = cp.Problem(objective, constraints)\n",
        "    problem.solve(solver=cp.SCS)  # Use SCS solver for SDP\n",
        "\n",
        "    # Retrieve the optimal solution\n",
        "    X_opt = X.value\n",
        "\n",
        "    return X_opt\n",
        "\n",
        "# Example usage\n",
        "if __name__ == '__main__':\n",
        "    # Generate an example adjacency matrix for a graph\n",
        "    W = np.array([\n",
        "        [0, 1, 1, 0],\n",
        "        [1, 0, 1, 1],\n",
        "        [1, 1, 0, 1],\n",
        "        [0, 1, 1, 0]\n",
        "    ])\n",
        "\n",
        "    # Solve SDP relaxation\n",
        "    X_opt = sdp_relaxation(W)\n",
        "\n",
        "    # Print the optimal solution (approximated solution)\n",
        "    print(\"Optimal SDP solution:\")\n",
        "    print(X_opt)"
      ],
      "metadata": {
        "id": "7B2YpoMNMkbD"
      },
      "execution_count": null,
      "outputs": []
    },
    {
      "cell_type": "markdown",
      "source": [
        "# Ford-Fulkerson Algorithm"
      ],
      "metadata": {
        "id": "PQrWVNA1M2UG"
      }
    },
    {
      "cell_type": "code",
      "source": [
        "from collections import deque\n",
        "\n",
        "def ford_fulkerson(graph, s, t):\n",
        "    def bfs(s, t, parent):\n",
        "        visited = [False] * len(graph)\n",
        "        queue = deque()\n",
        "        queue.append(s)\n",
        "        visited[s] = True\n",
        "\n",
        "        while queue:\n",
        "            u = queue.popleft()\n",
        "            for v, residual in enumerate(graph[u]):\n",
        "                if not visited[v] and residual > 0:\n",
        "                    queue.append(v)\n",
        "                    visited[v] = True\n",
        "                    parent[v] = u\n",
        "                    if v == t:\n",
        "                        return True\n",
        "        return False\n",
        "\n",
        "    parent = [-1] * len(graph)\n",
        "    max_flow = 0\n",
        "\n",
        "    while bfs(s, t, parent):\n",
        "        path_flow = float('Inf')\n",
        "        v = t\n",
        "        while v != s:\n",
        "            u = parent[v]\n",
        "            path_flow = min(path_flow, graph[u][v])\n",
        "            v = parent[v]\n",
        "\n",
        "        # update residual capacities of the edges and reverse edges\n",
        "        v = t\n",
        "        while v != s:\n",
        "            u = parent[v]\n",
        "            graph[u][v] -= path_flow\n",
        "            graph[v][u] += path_flow\n",
        "            v = parent[v]\n",
        "\n",
        "        max_flow += path_flow\n",
        "\n",
        "    return max_flow\n",
        "\n",
        "# Example usage:\n",
        "# Define the graph as an adjacency matrix\n",
        "graph = [\n",
        "    [0, 16, 13, 0, 0, 0],\n",
        "    [0, 0, 10, 12, 0, 0],\n",
        "    [0, 4, 0, 0, 14, 0],\n",
        "    [0, 0, 9, 0, 0, 20],\n",
        "    [0, 0, 0, 7, 0, 4],\n",
        "    [0, 0, 0, 0, 0, 0]\n",
        "]\n",
        "\n",
        "source = 0  # source node\n",
        "sink = 5    # sink node\n",
        "\n",
        "max_flow = ford_fulkerson(graph, source, sink)\n",
        "print(\"Maximum flow from source to sink:\", max_flow)"
      ],
      "metadata": {
        "id": "THJ6eXPeM3o7"
      },
      "execution_count": null,
      "outputs": []
    },
    {
      "cell_type": "markdown",
      "source": [
        "# Earliest Due Date (EDD) Algorithm"
      ],
      "metadata": {
        "id": "WVagz7elM--g"
      }
    },
    {
      "cell_type": "code",
      "source": [
        "def earliest_due_date(tasks):\n",
        "    # Sort tasks by their due dates (ascending order)\n",
        "    sorted_tasks = sorted(tasks, key=lambda x: x['due_date'])\n",
        "\n",
        "    # Print the schedule based on EDD\n",
        "    print(\"Task Schedule based on Earliest Due Date (EDD):\")\n",
        "    for task in sorted_tasks:\n",
        "        print(f\"Task {task['id']} - Due Date: {task['due_date']}\")\n",
        "\n",
        "# Example usage:\n",
        "if __name__ == \"__main__\":\n",
        "    # Define tasks with their IDs and due dates\n",
        "    tasks = [\n",
        "        {'id': 1, 'due_date': 10},\n",
        "        {'id': 2, 'due_date': 5},\n",
        "        {'id': 3, 'due_date': 8},\n",
        "        {'id': 4, 'due_date': 15},\n",
        "        {'id': 5, 'due_date': 3}\n",
        "    ]\n",
        "\n",
        "    # Call the EDD function to schedule tasks\n",
        "    earliest_due_date(tasks)"
      ],
      "metadata": {
        "id": "-IPGfEOIM_R8"
      },
      "execution_count": null,
      "outputs": []
    },
    {
      "cell_type": "markdown",
      "source": [
        "# Nearest Neighbor Heuristic"
      ],
      "metadata": {
        "id": "k698bDHuNJp-"
      }
    },
    {
      "cell_type": "code",
      "source": [
        "import numpy as np\n",
        "\n",
        "def nearest_neighbor(matrix):\n",
        "    n = len(matrix)\n",
        "    unvisited = set(range(1, n))  # set of unvisited nodes, excluding the start node (0)\n",
        "    current_node = 0              # start with node 0\n",
        "    tour = [current_node]         # initial tour starts with node 0\n",
        "    total_cost = 0\n",
        "\n",
        "    while unvisited:\n",
        "        nearest_node = min(unvisited, key=lambda x: matrix[current_node][x])\n",
        "        total_cost += matrix[current_node][nearest_node]\n",
        "        current_node = nearest_node\n",
        "        tour.append(current_node)\n",
        "        unvisited.remove(current_node)\n",
        "\n",
        "    # Complete the tour by returning to the starting node\n",
        "    tour.append(0)\n",
        "    total_cost += matrix[current_node][0]\n",
        "\n",
        "    return tour, total_cost\n",
        "\n",
        "# Example usage:\n",
        "if __name__ == \"__main__\":\n",
        "    # Example adjacency matrix for a TSP problem\n",
        "    adjacency_matrix = np.array([\n",
        "        [0, 10, 15, 20],\n",
        "        [10, 0, 35, 25],\n",
        "        [15, 35, 0, 30],\n",
        "        [20, 25, 30, 0]\n",
        "    ])\n",
        "\n",
        "    # Apply nearest neighbor heuristic\n",
        "    tour, cost = nearest_neighbor(adjacency_matrix)\n",
        "\n",
        "    # Output results\n",
        "    print(\"Nearest Neighbor Heuristic Tour:\", tour)\n",
        "    print(\"Total Cost:\", cost)"
      ],
      "metadata": {
        "id": "AOwjU7iWNJ9f"
      },
      "execution_count": null,
      "outputs": []
    },
    {
      "cell_type": "markdown",
      "source": [
        "# Branch and Bound Algorithm for TSP"
      ],
      "metadata": {
        "id": "wClz82v9NUHZ"
      }
    },
    {
      "cell_type": "code",
      "source": [
        "import numpy as np\n",
        "import heapq\n",
        "\n",
        "class Node:\n",
        "    def __init__(self, path, cost, bound):\n",
        "        self.path = path        # List of cities visited so far\n",
        "        self.cost = cost        # Cost of the path\n",
        "        self.bound = bound      # Lower bound of the node's path cost\n",
        "\n",
        "def tsp_branch_and_bound(matrix):\n",
        "    n = len(matrix)\n",
        "\n",
        "    # Priority queue (min-heap) to store nodes\n",
        "    priority_queue = []\n",
        "\n",
        "    # Initialize the root node\n",
        "    root = Node([0], 0, calculate_bound([0], matrix))\n",
        "    best_cost = float('inf')\n",
        "    best_path = None\n",
        "\n",
        "    heapq.heappush(priority_queue, (root.bound, root))\n",
        "\n",
        "    while priority_queue:\n",
        "        # Extract node with the minimum bound\n",
        "        _, node = heapq.heappop(priority_queue)\n",
        "\n",
        "        # If the node represents a complete tour\n",
        "        if len(node.path) == n:\n",
        "            # Add the cost to return to the starting city\n",
        "            total_cost = node.cost + matrix[node.path[-1]][0]\n",
        "            # Update the best solution if found\n",
        "            if total_cost < best_cost:\n",
        "                best_cost = total_cost\n",
        "                best_path = node.path + [0]\n",
        "        else:\n",
        "            # Branch on the node\n",
        "            for city in range(n):\n",
        "                if city not in node.path:\n",
        "                    new_path = node.path + [city]\n",
        "                    new_cost = node.cost + matrix[node.path[-1]][city]\n",
        "                    new_bound = calculate_bound(new_path, matrix)\n",
        "\n",
        "                    # Add child node to the priority queue if promising\n",
        "                    if new_bound < best_cost:\n",
        "                        new_node = Node(new_path, new_cost, new_bound)\n",
        "                        heapq.heappush(priority_queue, (new_node.bound, new_node))\n",
        "\n",
        "    return best_path, best_cost\n",
        "\n",
        "def calculate_bound(path, matrix):\n",
        "    n = len(matrix)\n",
        "    bound = 0\n",
        "\n",
        "    # Calculate the cost of the current path\n",
        "    for i in range(len(path) - 1):\n",
        "        bound += matrix[path[i]][path[i+1]]\n",
        "\n",
        "    # Add the lower bound for remaining nodes\n",
        "    last_city = path[-1]\n",
        "    bound += min(matrix[last_city][city] for city in range(n) if city not in path)\n",
        "\n",
        "    return bound\n",
        "\n",
        "# Example usage:\n",
        "if __name__ == \"__main__\":\n",
        "    # Example adjacency matrix for a TSP problem\n",
        "    adjacency_matrix = np.array([\n",
        "        [0, 10, 15, 20],\n",
        "        [10, 0, 35, 25],\n",
        "        [15, 35, 0, 30],\n",
        "        [20, 25, 30, 0]\n",
        "    ])\n",
        "\n",
        "    # Apply Branch and Bound algorithm\n",
        "    path, cost = tsp_branch_and_bound(adjacency_matrix)\n",
        "\n",
        "    # Output results\n",
        "    print(\"Optimal Tour:\", path)\n",
        "    print(\"Total Cost:\", cost)"
      ],
      "metadata": {
        "id": "eSzaxLg-NUjV"
      },
      "execution_count": null,
      "outputs": []
    },
    {
      "cell_type": "markdown",
      "source": [
        "# Quadratic Programming Relaxation"
      ],
      "metadata": {
        "id": "rHfNZhDkNpCg"
      }
    },
    {
      "cell_type": "code",
      "source": [
        "import numpy as np\n",
        "import cvxopt\n",
        "\n",
        "def qp_relaxation(Q, c, A=None, b=None, lb=None, ub=None):\n",
        "    # Convert numpy arrays to cvxopt matrices\n",
        "    Q = cvxopt.matrix(Q)\n",
        "    c = cvxopt.matrix(c)\n",
        "\n",
        "    if A is not None:\n",
        "        A = cvxopt.matrix(A)\n",
        "    if b is not None:\n",
        "        b = cvxopt.matrix(b)\n",
        "    if lb is not None:\n",
        "        lb = cvxopt.matrix(lb)\n",
        "    if ub is not None:\n",
        "        ub = cvxopt.matrix(ub)\n",
        "\n",
        "    # Setup the QP problem\n",
        "    sol = cvxopt.solvers.qp(Q, c, A, b, lb, ub)\n",
        "\n",
        "    # Extract the solution\n",
        "    x_opt = np.array(sol['x']).flatten()\n",
        "    return x_opt\n",
        "\n",
        "# Example usage:\n",
        "if __name__ == \"__main__\":\n",
        "    # Example QP problem:\n",
        "    # Minimize: 0.5 * x^T * Q * x + c^T * x\n",
        "    # Subject to: A * x <= b, lb <= x <= ub\n",
        "\n",
        "    # Define the QP parameters\n",
        "    Q = np.array([[2, 0], [0, 2]])  # Quadratic coefficient matrix\n",
        "    c = np.array([0, 0])            # Linear coefficient vector\n",
        "    A = np.array([[-1, 0], [0, -1]])  # Constraint matrix\n",
        "    b = np.array([0, 0])            # Constraint vector\n",
        "    lb = np.array([-10, -10])       # Lower bounds\n",
        "    ub = np.array([10, 10])         # Upper bounds\n",
        "\n",
        "    # Solve the QP relaxation\n",
        "    x_opt = qp_relaxation(Q, c, A, b, lb, ub)\n",
        "\n",
        "    # Print the optimal solution\n",
        "    print(\"Optimal Solution:\")\n",
        "    print(x_opt)"
      ],
      "metadata": {
        "id": "Tq33AuApNpXL"
      },
      "execution_count": null,
      "outputs": []
    },
    {
      "cell_type": "markdown",
      "source": [
        "# Nearest Neighbor Algorithm for TSP"
      ],
      "metadata": {
        "id": "5-on8oxAN54s"
      }
    },
    {
      "cell_type": "code",
      "source": [
        "import numpy as np\n",
        "\n",
        "def nearest_neighbor_tsp(distances):\n",
        "    num_cities = len(distances)\n",
        "    visited = [False] * num_cities\n",
        "    tour = []\n",
        "\n",
        "    # Start from city 0 (can start from any city)\n",
        "    current_city = 0\n",
        "    tour.append(current_city)\n",
        "    visited[current_city] = True\n",
        "\n",
        "    # Iteratively visit the nearest unvisited city\n",
        "    for _ in range(num_cities - 1):\n",
        "        nearest_city = None\n",
        "        min_distance = float('inf')\n",
        "\n",
        "        # Find nearest unvisited city\n",
        "        for next_city in range(num_cities):\n",
        "            if not visited[next_city] and distances[current_city][next_city] < min_distance:\n",
        "                nearest_city = next_city\n",
        "                min_distance = distances[current_city][next_city]\n",
        "\n",
        "        # Move to the nearest city\n",
        "        current_city = nearest_city\n",
        "        tour.append(current_city)\n",
        "        visited[current_city] = True\n",
        "\n",
        "    # Return to the starting city to complete the tour\n",
        "    tour.append(tour[0])\n",
        "\n",
        "    return tour\n",
        "\n",
        "# Example usage:\n",
        "if __name__ == \"__main__\":\n",
        "    # Example distance matrix (symmetric)\n",
        "    distances = np.array([\n",
        "        [0, 10, 15, 20],\n",
        "        [10, 0, 35, 25],\n",
        "        [15, 35, 0, 30],\n",
        "        [20, 25, 30, 0]\n",
        "    ])\n",
        "\n",
        "    # Solve TSP using Nearest Neighbor Algorithm\n",
        "    tour = nearest_neighbor_tsp(distances)\n",
        "\n",
        "    # Print the tour\n",
        "    print(\"Optimal Tour:\", tour)"
      ],
      "metadata": {
        "id": "CygZYzEjN6Kf"
      },
      "execution_count": null,
      "outputs": []
    },
    {
      "cell_type": "markdown",
      "source": [
        "# Parallel Jacobi Iteration"
      ],
      "metadata": {
        "id": "pQH-og_yODs9"
      }
    },
    {
      "cell_type": "code",
      "source": [
        "import numpy as np\n",
        "import multiprocessing\n",
        "\n",
        "def parallel_jacobi(A, b, x0, epsilon):\n",
        "    n = len(A)\n",
        "    x = x0.copy()\n",
        "    while True:\n",
        "        x_new = np.zeros_like(x)\n",
        "\n",
        "        # Define a function for parallel computation\n",
        "        def update_x(i):\n",
        "            return (b[i] - np.dot(A[i, :i], x[:i]) - np.dot(A[i, i+1:], x[i+1:])) / A[i, i]\n",
        "\n",
        "        # Use multiprocessing for parallel computation\n",
        "        with multiprocessing.Pool() as pool:\n",
        "            x_new = np.array(pool.map(update_x, range(n)))\n",
        "\n",
        "        # Check convergence\n",
        "        if np.linalg.norm(x_new - x) < epsilon:\n",
        "            break\n",
        "\n",
        "        x = x_new\n",
        "\n",
        "    return x\n",
        "\n",
        "# Example usage:\n",
        "if __name__ == \"__main__\":\n",
        "    A = np.array([[10, -1, 2], [-1, 11, -1], [2, -1, 10]])\n",
        "    b = np.array([6, 25, -11])\n",
        "    x0 = np.zeros_like(b)\n",
        "    epsilon = 1e-6\n",
        "\n",
        "    solution = parallel_jacobi(A, b, x0, epsilon)\n",
        "    print(\"Solution:\", solution)"
      ],
      "metadata": {
        "id": "mGEwBZCcOD_M"
      },
      "execution_count": null,
      "outputs": []
    },
    {
      "cell_type": "markdown",
      "source": [
        "# Relaxation-based Heuristic for CVRP"
      ],
      "metadata": {
        "id": "MOaw7YyWOReM"
      }
    },
    {
      "cell_type": "code",
      "source": [
        "import numpy as np\n",
        "import copy\n",
        "\n",
        "def relaxation_heuristic_customers(customers, num_vehicles, vehicle_capacity):\n",
        "    routes = [[] for _ in range(num_vehicles)]\n",
        "    for customer in customers:\n",
        "        min_route = min(routes, key=lambda route: route_demand(route) + customer.demand)\n",
        "        if route_demand(min_route) + customer.demand <= vehicle_capacity:\n",
        "            min_route.append(customer)\n",
        "        else:\n",
        "            routes.append([customer])\n",
        "    return routes\n",
        "\n",
        "def route_demand(route):\n",
        "    return sum([customer.demand for customer in route])\n",
        "\n",
        "# Example usage:\n",
        "if __name__ == \"__main__\":\n",
        "    # Define example data\n",
        "    customers = [\n",
        "        {'demand': 1}, {'demand': 2}, {'demand': 1}, {'demand': 3}, {'demand': 2}, {'demand': 4},\n",
        "        {'demand': 2}, {'demand': 3}, {'demand': 1}, {'demand': 2}, {'demand': 1}, {'demand': 3}\n",
        "    ]\n",
        "    num_vehicles = 3\n",
        "    vehicle_capacity = 5\n",
        "\n",
        "    routes = relaxation_heuristic_customers(customers, num_vehicles, vehicle_capacity)\n",
        "\n",
        "    # Print the routes\n",
        "    for i, route in enumerate(routes):\n",
        "        print(f\"Route {i+1}: {[customer['demand'] for customer in route]}\")"
      ],
      "metadata": {
        "id": "l7RiWzUNORvY"
      },
      "execution_count": null,
      "outputs": []
    },
    {
      "cell_type": "markdown",
      "source": [
        "# Relaxation-based Power Control Algorithm"
      ],
      "metadata": {
        "id": "-BojKfb2OgZ1"
      }
    },
    {
      "cell_type": "code",
      "source": [
        "import numpy as np\n",
        "\n",
        "def relaxation_based_power_control(num_devices, max_power, tolerance=1e-6):\n",
        "    # Initialize transmission powers randomly\n",
        "    transmission_powers = np.random.uniform(0, max_power, num_devices)\n",
        "\n",
        "    while True:\n",
        "        # Relax constraints (none initially)\n",
        "\n",
        "        # Solve relaxed problem to obtain optimal powers (randomly changing powers for demonstration)\n",
        "        new_powers = np.random.uniform(0, max_power, num_devices)\n",
        "\n",
        "        # Tighten constraints (none initially)\n",
        "\n",
        "        # Check convergence\n",
        "        if np.linalg.norm(new_powers - transmission_powers) < tolerance:\n",
        "            break\n",
        "\n",
        "        # Update transmission powers\n",
        "        transmission_powers = new_powers\n",
        "\n",
        "    return transmission_powers\n",
        "\n",
        "# Example usage:\n",
        "if __name__ == \"__main__\":\n",
        "    num_devices = 5\n",
        "    max_power = 10.0\n",
        "\n",
        "    optimal_powers = relaxation_based_power_control(num_devices, max_power)\n",
        "    print(\"Optimal transmission powers:\", optimal_powers)"
      ],
      "metadata": {
        "id": "Bc7J5LU6Ogu7"
      },
      "execution_count": null,
      "outputs": []
    },
    {
      "cell_type": "markdown",
      "source": [
        "# Relaxation-based Mean-Variance Portfolio Optimization"
      ],
      "metadata": {
        "id": "MUo3PWj7Oq0U"
      }
    },
    {
      "cell_type": "code",
      "source": [
        "import numpy as np\n",
        "\n",
        "def relaxation_based_portfolio_optimization(expected_returns, cov_matrix, tolerance=1e-6):\n",
        "    num_assets = len(expected_returns)\n",
        "    weights = np.random.random(num_assets)\n",
        "    weights /= np.sum(weights)  # Normalize initial weights to sum to 1\n",
        "\n",
        "    while True:\n",
        "        # Relax constraints (none initially)\n",
        "\n",
        "        # Solve relaxed problem to obtain optimal weights\n",
        "        new_weights = np.random.random(num_assets)\n",
        "        new_weights /= np.sum(new_weights)  # Normalize new weights\n",
        "\n",
        "        # Tighten constraints (none initially)\n",
        "\n",
        "        # Check convergence\n",
        "        if np.linalg.norm(new_weights - weights) < tolerance:\n",
        "            break\n",
        "\n",
        "        # Update weights\n",
        "        weights = new_weights\n",
        "\n",
        "    return weights\n",
        "\n",
        "# Example usage:\n",
        "if __name__ == \"__main__\":\n",
        "    # Example data: expected returns and covariance matrix\n",
        "    expected_returns = np.array([0.05, 0.07, 0.06])\n",
        "    cov_matrix = np.array([[0.04, 0.006, -0.01],\n",
        "                           [0.006, 0.05, 0.004],\n",
        "                           [-0.01, 0.004, 0.062]])\n",
        "\n",
        "    optimal_weights = relaxation_based_portfolio_optimization(expected_returns, cov_matrix)\n",
        "    print(\"Optimal portfolio weights:\", optimal_weights)"
      ],
      "metadata": {
        "id": "CzE89tHVOra_"
      },
      "execution_count": null,
      "outputs": []
    }
  ]
}