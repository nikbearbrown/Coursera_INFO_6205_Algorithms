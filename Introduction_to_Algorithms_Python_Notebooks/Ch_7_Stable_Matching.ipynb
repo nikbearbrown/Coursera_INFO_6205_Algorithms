{
  "nbformat": 4,
  "nbformat_minor": 0,
  "metadata": {
    "colab": {
      "provenance": []
    },
    "kernelspec": {
      "name": "python3",
      "display_name": "Python 3"
    },
    "language_info": {
      "name": "python"
    }
  },
  "cells": [
    {
      "cell_type": "markdown",
      "source": [
        "# Gayle Shapley Algorithm"
      ],
      "metadata": {
        "id": "xyOGSFjJNTZc"
      }
    },
    {
      "cell_type": "code",
      "execution_count": null,
      "metadata": {
        "id": "RInKvAJsNQRL"
      },
      "outputs": [],
      "source": [
        "def gale_shapley(students_preferences, schools_preferences):\n",
        "    \"\"\"\n",
        "    Perform Gale-Shapley algorithm to find stable matching between students and schools.\n",
        "\n",
        "    Args:\n",
        "    - students_preferences: List of lists where each sublist represents the preference list of a student.\n",
        "    - schools_preferences: List of lists where each sublist represents the preference list of a school.\n",
        "\n",
        "    Returns:\n",
        "    - A dictionary where keys are schools and values are their matched students.\n",
        "    \"\"\"\n",
        "    num_students = len(students_preferences)\n",
        "    num_schools = len(schools_preferences)\n",
        "\n",
        "    students_matched = [-1] * num_students  # To store the current match of each student\n",
        "    schools_matched = [-1] * num_schools  # To store the current match of each school\n",
        "\n",
        "    student_proposals = [0] * num_students  # To track the next proposal index for each student\n",
        "\n",
        "    free_students = list(range(num_students))  # List of indices of free students\n",
        "\n",
        "    while free_students:\n",
        "        student = free_students.pop(0)  # Get the first free student\n",
        "        school_index = student_proposals[student]  # Get the next preferred school for the student\n",
        "        school = students_preferences[student][school_index]\n",
        "        student_proposals[student] += 1\n",
        "\n",
        "        if schools_matched[school] == -1:  # School is free\n",
        "            schools_matched[school] = student\n",
        "            students_matched[student] = school\n",
        "        else:\n",
        "            current_match = schools_matched[school]\n",
        "            if schools_preferences[school].index(student) < schools_preferences[school].index(current_match):\n",
        "                # School prefers the new student over the current match\n",
        "                students_matched[current_match] = -1\n",
        "                free_students.append(current_match)\n",
        "\n",
        "                schools_matched[school] = student\n",
        "                students_matched[student] = school\n",
        "            else:\n",
        "                # School prefers current match over the new student\n",
        "                free_students.append(student)\n",
        "\n",
        "    # Prepare the final matching dictionary\n",
        "    matching = {}\n",
        "    for school in range(num_schools):\n",
        "        student = schools_matched[school]\n",
        "        matching[school] = student\n",
        "\n",
        "    return matching\n",
        "\n",
        "# Example usage:\n",
        "if __name__ == \"__main__\":\n",
        "    students_preferences = [\n",
        "        [0, 1, 2],   # Student S0 prefers schools in order 0, 1, 2\n",
        "        [0, 2, 1],   # Student S1 prefers schools in order 0, 2, 1\n",
        "        [1, 0, 2]    # Student S2 prefers schools in order 1, 0, 2\n",
        "    ]\n",
        "\n",
        "    schools_preferences = [\n",
        "        [0, 1, 2],   # School C0 prefers students in order 0, 1, 2\n",
        "        [2, 0, 1],   # School C1 prefers students in order 2, 0, 1\n",
        "        [1, 2, 0]    # School C2 prefers students in order 1, 2, 0\n",
        "    ]\n",
        "\n",
        "    matching = gale_shapley(students_preferences, schools_preferences)\n",
        "\n",
        "    print(\"Final stable matching:\")\n",
        "    for school, student in matching.items():\n",
        "        if student != -1:\n",
        "            print(f\"School C{school} matches with Student S{student}\")"
      ]
    }
  ]
}